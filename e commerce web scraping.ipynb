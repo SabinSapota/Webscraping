{
 "cells": [
  {
   "cell_type": "markdown",
   "id": "53d1463f",
   "metadata": {},
   "source": [
    "# E commerce web scraping"
   ]
  },
  {
   "cell_type": "code",
   "execution_count": 125,
   "id": "29b16850",
   "metadata": {},
   "outputs": [],
   "source": [
    "from bs4 import BeautifulSoup\n",
    "import requests\n",
    "import pandas as pd"
   ]
  },
  {
   "cell_type": "code",
   "execution_count": 126,
   "id": "3f1ee93e",
   "metadata": {},
   "outputs": [],
   "source": [
    "website='https://www.laptopsdirect.co.uk/ct/laptops-and-netbooks/laptops?fts=laptop'"
   ]
  },
  {
   "cell_type": "code",
   "execution_count": 87,
   "id": "8deb7af3",
   "metadata": {},
   "outputs": [],
   "source": [
    "response=requests.get(website)"
   ]
  },
  {
   "cell_type": "code",
   "execution_count": 88,
   "id": "f9867790",
   "metadata": {},
   "outputs": [
    {
     "data": {
      "text/plain": [
       "200"
      ]
     },
     "execution_count": 88,
     "metadata": {},
     "output_type": "execute_result"
    }
   ],
   "source": [
    "response.status_code"
   ]
  },
  {
   "cell_type": "code",
   "execution_count": 89,
   "id": "6aa0b4a3",
   "metadata": {},
   "outputs": [],
   "source": [
    "soup=BeautifulSoup(response.content,'html.parser')  # creating soup object"
   ]
  },
  {
   "cell_type": "code",
   "execution_count": 90,
   "id": "25b79c21",
   "metadata": {},
   "outputs": [],
   "source": [
    "result=soup.find_all('div',class_='OfferBox')"
   ]
  },
  {
   "cell_type": "code",
   "execution_count": 91,
   "id": "17171aed",
   "metadata": {},
   "outputs": [
    {
     "data": {
      "text/plain": [
       "23"
      ]
     },
     "execution_count": 91,
     "metadata": {},
     "output_type": "execute_result"
    }
   ],
   "source": [
    "len(result)"
   ]
  },
  {
   "cell_type": "code",
   "execution_count": 92,
   "id": "fb9deb50",
   "metadata": {},
   "outputs": [
    {
     "data": {
      "text/plain": [
       "<div class=\"OfferBox\">\n",
       "<div class=\"merchTopofCentreColumn top5icon\" onload=\"dataLayer.push({'event':'top5IconShown'});\" style=\"display:none; z-index: 20; position: absolute; top: 50px; left: 10px; cursor: pointer;  pointer-events: none; width: 70px;\">\n",
       "<img alt=\"Top 5\" border=\"0\" src=\"https://www.appliancesdirect.co.uk/images/top5-apd.png\"/>\n",
       "</div>\n",
       "<div class=\"SRpercent\">\n",
       "<strong>SAVE <span>19%</span></strong>\n",
       "</div>\n",
       "<div class=\"SavingsPrice\">\n",
       "<strong>SAVE <span>£52<span class=\"tilesUnitText\"></span></span></strong>\n",
       "</div>\n",
       "<div class=\"sr_image\">\n",
       "<div class=\"sr_compare\">\n",
       "<div class=\"sli_compare\" id=\"1411206_compare\">\n",
       "<input class=\"compare\" onclick=\"AddRemoveFromProductCompareCookie(this, event);\" type=\"checkbox\" value=\"1411206\"/>\n",
       "<input id=\"comphid_1411206\" type=\"hidden\" value=\"Laptops\">\n",
       "<span class=\"compareText\">Compare</span>\n",
       "</input></div>\n",
       "<div class=\"comparedialog\" id=\"msg_1411206\" style=\"display:none;\" title=\"Compare products\">\n",
       "<p>Sorry, you can only compare a maximum of 4 items per category.</p>\n",
       "</div>\n",
       "<div class=\"compBtn\" id=\"compBtn_1411206\">\n",
       "<a href=\"/Compare\" type=\"button\">Compare products »</a>\n",
       "</div>\n",
       "</div>\n",
       "<a href=\"/-c523na-br0067/version.asp\" onclick=\"EnEcomProdClick('C523NA-BR0067', '-c523na-br0067/version.asp', '5');\" title=\"Asus C523 Intel Celeron N3350 4GB 64GB eMMC 15.6 Inch Chromebook\">\n",
       "<img alt=\"Asus C523 Intel Celeron N3350 4GB 64GB eMMC 15.6 Inch Chromebook\" border=\"0\" class=\"offerImage\" id=\"productImage_1411206\" pid=\"1411206\" src=\"/Images/C523NA-BR0067_1_Classic.jpg?v=8&amp;width=200&amp;height=200&amp;switchoff=enabled\" title=\"Asus C523 Intel Celeron N3350 4GB 64GB eMMC 15.6 Inch Chromebook\"/>\n",
       "</a>\n",
       "<div class=\"merchTopofCentreColumn plogo plogo-asus\" style=\"\">\n",
       "<img border=\"0\" src=\"/files/images/logo-asus.png\"/>\n",
       "</div>\n",
       "</div>\n",
       "<div class=\"OfferBoxProdInfo\">\n",
       "<div class=\"OfferBoxTitle\">\n",
       "<h3>\n",
       "<a class=\"offerboxtitle\" href=\"/-c523na-br0067/version.asp\" onclick=\"EnEcomProdClick('C523NA-BR0067', '-c523na-br0067/version.asp', '5');\" title=\"Asus C523 Intel Celeron N3350 4GB 64GB eMMC 15.6 Inch Chromebook - C523NA-BR0067\">Asus C523 Intel Celeron N3350 4GB 64GB eMMC 15.6 Inch Chromebook - C523NA-BR0067</a>\n",
       "</h3>\n",
       "<star-rating product-url=\"-c523na-br0067/version.asp\" rating-value=\"9\" ratings-count=\"11\"></star-rating>\n",
       "<wishlist-amend currency=\"GBP\" exvatprice=\"189.98\" multiple-mode=\"true\" productavailable=\"true\" productid=\"1411206\" siteid=\"3\" vatrate=\"1.200\"></wishlist-amend>\n",
       "</div>\n",
       "<div class=\"sash-container\">\n",
       "<div class=\"sash-textbanner-half sash-urgency-red-outline\">\n",
       "<p>\n",
       "<span class=\"bg bg-red\">free next day delivery* </span>\n",
       "<span class=\"bg bg-white\">use code: ASUSFND</span>\n",
       "</p>\n",
       "<p class=\"sash-uk\">*UK mainland only</p>\n",
       "</div>\n",
       "</div>\n",
       "<div class=\"productInfo\" id=\"productInfo_1411206\">\n",
       "<ul>\n",
       "<li><span class=\"proddescvalue\">Intel Celeron N3350</span> <span class=\"proddesctitle\">Processor</span></li>\n",
       "<li><span class=\"proddescvalue\">15.6 Inch 1366 x 768 Screen</span></li>\n",
       "<li><span class=\"proddescvalue\">4GB</span> <span class=\"proddesctitle\">RAM</span></li>\n",
       "<li><span class=\"proddescvalue\">64GB</span> <span class=\"proddesctitle\">SSD</span></li>\n",
       "<li><span class=\"proddescvalue\">1 year warranty</span></li>\n",
       "</ul>\n",
       "</div>\n",
       "<div class=\"merchTopofCentreColumn searchicon-laptops\" style=\"\">\n",
       "<img alt=\"Intel Laptop Icon Test\" border=\"0\" src=\"/files/images/ld/558949_942Icons_Intel_101519.png\"/>\n",
       "</div>\n",
       "<div class=\"merchTopofCentreColumn searchicon-laptops\" style=\"\">\n",
       "<img alt=\"usb c icon test\" border=\"0\" src=\"/files/images/ld/USB-C-Iconnew.png\"/>\n",
       "</div>\n",
       "</div>\n",
       "<div class=\"OfferBoxPrice\">\n",
       "<span class=\"strikethrough\">  £279.97 </span>\n",
       "<div class=\"accpricemsgs\">\n",
       "</div>\n",
       "<span class=\"offerpricetext\">Only </span>\n",
       "<span class=\"offerprice\">£227.97<span class=\"tilesUnitText\"></span></span>\n",
       "<div class=\"accpricemsgs\">\n",
       "</div>\n",
       "<a class=\"finance\" onclick=\"ga('send', 'event', 'product page', 'Pay Later');\">\n",
       "<span class=\"financemessage\">or </span>\n",
       "<span class=\"financeprice\">£10.95 a month</span>\n",
       "<span class=\"paypal-credit-ab-test-show\"><span class=\"paypalcredit-srtext\">0% finance available <span class=\"paypal-credit-logo\"></span></span></span>\n",
       "</a>\n",
       "<div class=\"Availability\" id=\"availability_1411206\"></div>\n",
       "<a class=\"offerboxlink btn-prime\" href=\"/-c523na-br0067/version.asp\" onclick=\"document.location.href='/-c523na-br0067/version.asp'; EnEcomProdClick('C523NA-BR0067', '-c523na-br0067/version.asp', '5'); return false;\" title=\"Asus C523 Intel Celeron N3350 4GB 64GB eMMC 15.6 Inch Chromebook\">Find Out More</a>\n",
       "<div class=\"quickview\">\n",
       "<a class=\"dialoganchor btn-second\" id=\"alink_1411206\" onclick=\"CaptureProductClick(39826,1411206,8,24,1,5,34) ; ga('send', 'event', 'QuickView', 'quick view – view', 'C523NA-BR0067');\" style=\"cursor:pointer\">Quick View</a>\n",
       "</div>\n",
       "</div>\n",
       "<script type=\"text/javascript\">\n",
       "            $(function () {\n",
       "                if ('False' == 'True') {\n",
       "                    //get the keywords for videos\n",
       "                    GetKeywordsForSearchPage('1411206')\n",
       "                }\n",
       "            });\n",
       "        </script>\n",
       "</div>"
      ]
     },
     "execution_count": 92,
     "metadata": {},
     "output_type": "execute_result"
    }
   ],
   "source": [
    "result[4]"
   ]
  },
  {
   "cell_type": "code",
   "execution_count": 93,
   "id": "6c94e951",
   "metadata": {},
   "outputs": [
    {
     "data": {
      "text/plain": [
       "'Asus C523 Intel Celeron N3350 4GB 64GB eMMC 15.6 Inch Chromebook - C523NA-BR0067'"
      ]
     },
     "execution_count": 93,
     "metadata": {},
     "output_type": "execute_result"
    }
   ],
   "source": [
    "name=result[4].find('a',class_='offerboxtitle').text  # name of the fourth product in list\n",
    "name"
   ]
  },
  {
   "cell_type": "code",
   "execution_count": 94,
   "id": "99a3cccc",
   "metadata": {},
   "outputs": [
    {
     "data": {
      "text/plain": [
       "'£227.97'"
      ]
     },
     "execution_count": 94,
     "metadata": {},
     "output_type": "execute_result"
    }
   ],
   "source": [
    "price=result[4].find('span',class_='offerprice').text  # price of the fourth product in list\n",
    "price"
   ]
  },
  {
   "cell_type": "code",
   "execution_count": 95,
   "id": "f3b2b572",
   "metadata": {},
   "outputs": [
    {
     "data": {
      "text/plain": [
       "'9'"
      ]
     },
     "execution_count": 95,
     "metadata": {},
     "output_type": "execute_result"
    }
   ],
   "source": [
    "result[4].find('star-rating')['rating-value'] # rating value"
   ]
  },
  {
   "cell_type": "code",
   "execution_count": 96,
   "id": "0e1de0ec",
   "metadata": {},
   "outputs": [
    {
     "data": {
      "text/plain": [
       "'11'"
      ]
     },
     "execution_count": 96,
     "metadata": {},
     "output_type": "execute_result"
    }
   ],
   "source": [
    "result[4].find('star-rating')['ratings-count'] # review count"
   ]
  },
  {
   "cell_type": "code",
   "execution_count": null,
   "id": "e1961cf0",
   "metadata": {},
   "outputs": [],
   "source": []
  },
  {
   "cell_type": "code",
   "execution_count": 97,
   "id": "f9f06fbc",
   "metadata": {},
   "outputs": [],
   "source": [
    "first='https://www.laptopsdirect.co.uk'  #root url"
   ]
  },
  {
   "cell_type": "code",
   "execution_count": 98,
   "id": "384c6481",
   "metadata": {},
   "outputs": [],
   "source": [
    "second_part=result[4].find('a',class_='offerboxtitle')['href']  # realative url"
   ]
  },
  {
   "cell_type": "code",
   "execution_count": 100,
   "id": "0d9fb2f3",
   "metadata": {},
   "outputs": [
    {
     "data": {
      "text/plain": [
       "['https://www.laptopsdirect.co.uk/refurbished-acer-swift-7-sf714-52t-core-i7-8500y-16gb-512gb-14-inch-windows-a1-nx.hb4ek.005/version.asp',\n",
       " 'https://www.laptopsdirect.co.uk/refurbished-huawei-matebook-core-i7-8565u-8gb-512gb-13-inch-windows-10-lapt-a3-s10238983/version.asp',\n",
       " 'https://www.laptopsdirect.co.uk/asus-c223na-intel-celeron-n3350-4gb-32gb-emmc-11.6-inch-windows-10-chromebo-c223na-gj0040/version.asp',\n",
       " 'https://www.laptopsdirect.co.uk/coda-1.2-intel-celeron-n4020-4gb-64gb-emmc-12.5-inch-windows-10-laptop-inc-coda037/version.asp',\n",
       " 'https://www.laptopsdirect.co.uk/-c523na-br0067/version.asp',\n",
       " 'https://www.laptopsdirect.co.uk/lenovo-v14-ada-amd-ryzen-3-3250u-8-gb-ram-256-gb-ssd-14-inch-windows-home-1-82c6006cuk/version.asp',\n",
       " 'https://www.laptopsdirect.co.uk/refurbished-lenovo-yoga-11e-intel-celeron-n2940-4gb-16gb-11.6-inch-touchscr-a2-20dbs05c00/version.asp',\n",
       " 'https://www.laptopsdirect.co.uk/lenovo-v14-ada-core-i3-4-gb-ram-256-gb-ssd-14-inch-windows-10-home-laptop-82c6005cuk/version.asp',\n",
       " 'https://www.laptopsdirect.co.uk/-core-i5-1035g1-8gb-256gb-ssd-15.6-inch-windows-10-laptop-30030444/version.asp',\n",
       " 'https://www.laptopsdirect.co.uk/refurbished-hp-spectre-x360-core-i7-1065g7-8gb-512gb-13.3-inch-windows-10-c-a2-9mn93ea/version.asp',\n",
       " 'https://www.laptopsdirect.co.uk/asus-tuf-dash-f15-core-i7-11800h-16gb-1tb-ssd-15.6-rtx-3060-windows-10-gami-fx506hm-hn014t/version.asp',\n",
       " 'https://www.laptopsdirect.co.uk/lenovo-v15-iil-core-i5-1035u-8gb-256gb-ssd-15.6-inch-fhd-windows-10-laptop-82c50075uk/version.asp',\n",
       " 'https://www.laptopsdirect.co.uk/dell-latitude-3520-core-i5-1135g7-8gb-256gb-ssd-15.6-inch-fhd-windows-10-pr-thy6r/version.asp',\n",
       " 'https://www.laptopsdirect.co.uk/lenovo-l340-core-i5-9300h-8gb-256gb-ssd-15.6-inch-geforce-gtx-1650-windows-81lk01pruk/version.asp',\n",
       " 'https://www.laptopsdirect.co.uk/asus-vivobook-s513ea-core-i7-1165g7-16gb-1tb-ssd-15.6-inch-windows-10-lapto-s513ea-bn698t/version.asp',\n",
       " 'https://www.laptopsdirect.co.uk/hp-255-g8-amd-ryzen-5-3500u-8gb-256gb-ssd-15-inch-windows-10-laptop-2e9j2ea/version.asp',\n",
       " 'https://www.laptopsdirect.co.uk/asus-vivobook-core-i5-1035g1-8gb-256gb-ssd-14-inch-windows-10-laptop-x413ja-eb249t/version.asp',\n",
       " 'https://www.laptopsdirect.co.uk/refurbished-acer-aspire-5-a514-54-core-i5-1135g7-8gb-256gb-14-inch-windows-a1-nx.a68ek.004/version.asp',\n",
       " 'https://www.laptopsdirect.co.uk/refurbished-lenovo-yoga-11e-core-i3-8gb-128gb-11.6-inch-touchscreen-windows-a1-20g8s05h00/version.asp',\n",
       " 'https://www.laptopsdirect.co.uk/hp-250-g8-core-i7-1065g7-8gb-256gb-ssd-15.6-inch-windows-10-pro-laptop-2e9j1ea/version.asp',\n",
       " 'https://www.laptopsdirect.co.uk/asus-vivobook-x712ja-core-i3-1005g1-8gb-1tb-17.3-inch-windows-10-laptop-x712ja-bx353t/version.asp',\n",
       " 'https://www.laptopsdirect.co.uk/lenovo-thinkbook-15-core-i5-10350u-8gb-256gb-ssd-15.6-inch-fhd-windows-10-p-20sm000fuk/version.asp',\n",
       " 'https://www.laptopsdirect.co.uk/asus-vivobook-core-i7-1065g7-8gb-512gb-ssd-14-inch-windows-10-laptop-x413ja-eb489t/version.asp']"
      ]
     },
     "execution_count": 100,
     "metadata": {},
     "output_type": "execute_result"
    }
   ],
   "source": [
    "# combining root and realative url together\n",
    "comb_url=[first+result[k].find('a',class_='offerboxtitle')['href'] for k in range(len(result)) ]\n",
    "comb_url"
   ]
  },
  {
   "cell_type": "code",
   "execution_count": 101,
   "id": "2ba16458",
   "metadata": {},
   "outputs": [
    {
     "data": {
      "text/plain": [
       "'https://www.laptopsdirect.co.uk/-c523na-br0067/version.asp'"
      ]
     },
     "execution_count": 101,
     "metadata": {},
     "output_type": "execute_result"
    }
   ],
   "source": [
    "url"
   ]
  },
  {
   "cell_type": "code",
   "execution_count": 102,
   "id": "a8f791c1",
   "metadata": {},
   "outputs": [
    {
     "data": {
      "text/plain": [
       "'Intel Celeron N3350 Processor, 15.6 Inch 1366 x 768 Screen, 4GB RAM, 64GB SSD, 1 year warranty'"
      ]
     },
     "execution_count": 102,
     "metadata": {},
     "output_type": "execute_result"
    }
   ],
   "source": [
    "# product info\n",
    "product_info=result[4].find('div',class_='productInfo').get_text().strip().replace('\\n',', ')\n",
    "product_info"
   ]
  },
  {
   "cell_type": "code",
   "execution_count": 103,
   "id": "be60d18c",
   "metadata": {},
   "outputs": [],
   "source": [
    "df=pd.DataFrame(columns=['Name','Price','Rating','Review_count'])\n",
    "name=[]\n",
    "price=[]\n",
    "rating=[]\n",
    "review=[]\n",
    "info=[]\n",
    "for item in range(len(result)):\n",
    "    \n",
    "    name.append(result[item].find('a',class_='offerboxtitle').text)\n",
    "    \n",
    "    price.append(result[item].find('span',class_='offerprice').text)\n",
    "    info.append(result[item].find('div',class_='productInfo').get_text().strip().replace('\\n',', '))\n",
    "    try:\n",
    "        rating.append(result[item].find('star-rating')['rating-value'])\n",
    "        review.append(result[item].find('star-rating')['ratings-count'])\n",
    "    except:\n",
    "        \n",
    "        rating.append('n/a')\n",
    "        review.append('n/a')\n",
    " \n",
    "    "
   ]
  },
  {
   "cell_type": "code",
   "execution_count": 104,
   "id": "961f3964",
   "metadata": {},
   "outputs": [
    {
     "name": "stdout",
     "output_type": "stream",
     "text": [
      "23\n",
      "23\n",
      "23\n",
      "23\n",
      "23\n"
     ]
    }
   ],
   "source": [
    "print(len(name))\n",
    "print(len(price))\n",
    "print(len(rating))\n",
    "print(len(info))\n",
    "print(len(review))"
   ]
  },
  {
   "cell_type": "code",
   "execution_count": 69,
   "id": "d95d4b16",
   "metadata": {},
   "outputs": [
    {
     "data": {
      "text/html": [
       "<div>\n",
       "<style scoped>\n",
       "    .dataframe tbody tr th:only-of-type {\n",
       "        vertical-align: middle;\n",
       "    }\n",
       "\n",
       "    .dataframe tbody tr th {\n",
       "        vertical-align: top;\n",
       "    }\n",
       "\n",
       "    .dataframe thead th {\n",
       "        text-align: right;\n",
       "    }\n",
       "</style>\n",
       "<table border=\"1\" class=\"dataframe\">\n",
       "  <thead>\n",
       "    <tr style=\"text-align: right;\">\n",
       "      <th></th>\n",
       "      <th>Name</th>\n",
       "      <th>Price</th>\n",
       "      <th>Rating</th>\n",
       "      <th>Review_count</th>\n",
       "      <th>Product_info</th>\n",
       "      <th>URL</th>\n",
       "    </tr>\n",
       "  </thead>\n",
       "  <tbody>\n",
       "    <tr>\n",
       "      <th>0</th>\n",
       "      <td>Refurbished Acer Swift 7 SF714-52T Core i7-850...</td>\n",
       "      <td>£999.97</td>\n",
       "      <td>n/a</td>\n",
       "      <td>n/a</td>\n",
       "      <td>Intel Core i7 8500Y Processor, 14 Inch Full HD...</td>\n",
       "      <td>https://www.laptopsdirect.co.uk/refurbished-ac...</td>\n",
       "    </tr>\n",
       "    <tr>\n",
       "      <th>1</th>\n",
       "      <td>Refurbished Huawei MateBook Core i7-8565U 8GB ...</td>\n",
       "      <td>£529.97</td>\n",
       "      <td>n/a</td>\n",
       "      <td>n/a</td>\n",
       "      <td>Intel Core i7 8565U Processor, 13 Inch 2160 x ...</td>\n",
       "      <td>https://www.laptopsdirect.co.uk/refurbished-hu...</td>\n",
       "    </tr>\n",
       "    <tr>\n",
       "      <th>2</th>\n",
       "      <td>Asus C223NA Intel Celeron N3350 4GB 32GB eMMC ...</td>\n",
       "      <td>£161.97</td>\n",
       "      <td>n/a</td>\n",
       "      <td>n/a</td>\n",
       "      <td>Intel Celeron N3350 Processor, 11.6 Inch 1366 ...</td>\n",
       "      <td>https://www.laptopsdirect.co.uk/asus-c223na-in...</td>\n",
       "    </tr>\n",
       "    <tr>\n",
       "      <th>3</th>\n",
       "      <td>CODA 1.2 Intel Celeron N4020 4GB 64GB eMMC 12....</td>\n",
       "      <td>£199.97</td>\n",
       "      <td>n/a</td>\n",
       "      <td>n/a</td>\n",
       "      <td>Intel Celeron N4020 Processor, UHD Graphics 62...</td>\n",
       "      <td>https://www.laptopsdirect.co.uk/coda-1.2-intel...</td>\n",
       "    </tr>\n",
       "    <tr>\n",
       "      <th>4</th>\n",
       "      <td>Asus C523 Intel Celeron N3350 4GB 64GB eMMC 15...</td>\n",
       "      <td>£227.97</td>\n",
       "      <td>9</td>\n",
       "      <td>11</td>\n",
       "      <td>Intel Celeron N3350 Processor, 15.6 Inch 1366 ...</td>\n",
       "      <td>https://www.laptopsdirect.co.uk/-c523na-br0067...</td>\n",
       "    </tr>\n",
       "    <tr>\n",
       "      <th>5</th>\n",
       "      <td>Lenovo V14-ADA AMD Ryzen 3 3250U 8GB 256GB SSD...</td>\n",
       "      <td>£399.97</td>\n",
       "      <td>8.8</td>\n",
       "      <td>26</td>\n",
       "      <td>AMD Ryzen 3 3250U Processor, Radeon Graphics G...</td>\n",
       "      <td>https://www.laptopsdirect.co.uk/lenovo-v14-ada...</td>\n",
       "    </tr>\n",
       "    <tr>\n",
       "      <th>6</th>\n",
       "      <td>Refurbished Lenovo Yoga 11e Intel Celeron N294...</td>\n",
       "      <td>£119.97</td>\n",
       "      <td>n/a</td>\n",
       "      <td>n/a</td>\n",
       "      <td>Intel Celeron N2940 Processor, 11.6 Inch 1366 ...</td>\n",
       "      <td>https://www.laptopsdirect.co.uk/refurbished-le...</td>\n",
       "    </tr>\n",
       "    <tr>\n",
       "      <th>7</th>\n",
       "      <td>Lenovo V14-ADA Athlon Gold 3150U 8GB 256GB SSD...</td>\n",
       "      <td>£379.97</td>\n",
       "      <td>9</td>\n",
       "      <td>43</td>\n",
       "      <td>Athlon Gold 3150U Processor, Radeon Graphics G...</td>\n",
       "      <td>https://www.laptopsdirect.co.uk/lenovo-v14-ada...</td>\n",
       "    </tr>\n",
       "    <tr>\n",
       "      <th>8</th>\n",
       "      <td>Medion Akoya E15407 Core i5-1035G1 8GB 256GB S...</td>\n",
       "      <td>£459.97</td>\n",
       "      <td>7.9</td>\n",
       "      <td>45</td>\n",
       "      <td>Intel Core i5 1035G1 Processor, Iris Xe Graphi...</td>\n",
       "      <td>https://www.laptopsdirect.co.uk/-core-i5-1035g...</td>\n",
       "    </tr>\n",
       "    <tr>\n",
       "      <th>9</th>\n",
       "      <td>Refurbished HP Spectre x360 Core i7-1065G7 8GB...</td>\n",
       "      <td>£899.97</td>\n",
       "      <td>n/a</td>\n",
       "      <td>n/a</td>\n",
       "      <td>Intel Core i7 1065G7 Processor, 13.3 Inch Full...</td>\n",
       "      <td>https://www.laptopsdirect.co.uk/refurbished-hp...</td>\n",
       "    </tr>\n",
       "    <tr>\n",
       "      <th>10</th>\n",
       "      <td>Asus TUF Dash F15 Core i7-11800H 16GB 1TB SSD ...</td>\n",
       "      <td>£1094.98</td>\n",
       "      <td>n/a</td>\n",
       "      <td>n/a</td>\n",
       "      <td>Intel Core i7 I7-11800H Processor, RTX 3060 6G...</td>\n",
       "      <td>https://www.laptopsdirect.co.uk/asus-tuf-dash-...</td>\n",
       "    </tr>\n",
       "    <tr>\n",
       "      <th>11</th>\n",
       "      <td>Lenovo V15-IIL Core i5-1035G1 8GB 256GB SSD 15...</td>\n",
       "      <td>£549.97</td>\n",
       "      <td>8.7</td>\n",
       "      <td>905</td>\n",
       "      <td>Intel Core i5 1035G1 Processor, UHD Graphics 6...</td>\n",
       "      <td>https://www.laptopsdirect.co.uk/lenovo-v15-iil...</td>\n",
       "    </tr>\n",
       "    <tr>\n",
       "      <th>12</th>\n",
       "      <td>Dell Latitude 3520 Core i5-1135G7 8GB 256GB SS...</td>\n",
       "      <td>£697.97</td>\n",
       "      <td>10</td>\n",
       "      <td>1</td>\n",
       "      <td>Intel Core i5 1135G7 Processor, UHD Graphics 6...</td>\n",
       "      <td>https://www.laptopsdirect.co.uk/dell-latitude-...</td>\n",
       "    </tr>\n",
       "    <tr>\n",
       "      <th>13</th>\n",
       "      <td>Lenovo IdeaPad L340 Core i5-9300H 8GB 256GB SS...</td>\n",
       "      <td>£749.97</td>\n",
       "      <td>8.9</td>\n",
       "      <td>39</td>\n",
       "      <td>Intel Core i5 9300HF Processor, GeForce GTX 16...</td>\n",
       "      <td>https://www.laptopsdirect.co.uk/lenovo-l340-co...</td>\n",
       "    </tr>\n",
       "    <tr>\n",
       "      <th>14</th>\n",
       "      <td>ASUS VivoBook S513EA Core i7-1165G7 16GB 1TB S...</td>\n",
       "      <td>£799.97</td>\n",
       "      <td>n/a</td>\n",
       "      <td>n/a</td>\n",
       "      <td>Intel Core i7 1165G7 Processor, Iris Xe Graphi...</td>\n",
       "      <td>https://www.laptopsdirect.co.uk/asus-vivobook-...</td>\n",
       "    </tr>\n",
       "    <tr>\n",
       "      <th>15</th>\n",
       "      <td>HP 255 G8 AMD Ryzen 5-3500U 8GB 256GB SSD 15 I...</td>\n",
       "      <td>£509.97</td>\n",
       "      <td>8.5</td>\n",
       "      <td>11</td>\n",
       "      <td>AMD Ryzen 5 3500U Processor, Radeon Graphics G...</td>\n",
       "      <td>https://www.laptopsdirect.co.uk/hp-255-g8-amd-...</td>\n",
       "    </tr>\n",
       "    <tr>\n",
       "      <th>16</th>\n",
       "      <td>Asus Vivobook Core i5-1035G1 8GB 256GB SSD 14 ...</td>\n",
       "      <td>£469.97</td>\n",
       "      <td>9</td>\n",
       "      <td>2</td>\n",
       "      <td>Intel Core i5 I5-1035G1 Processor, UHD Graphic...</td>\n",
       "      <td>https://www.laptopsdirect.co.uk/asus-vivobook-...</td>\n",
       "    </tr>\n",
       "    <tr>\n",
       "      <th>17</th>\n",
       "      <td>Refurbished Acer Aspire 5 A514-54 Core i5-1135...</td>\n",
       "      <td>£439.97</td>\n",
       "      <td>n/a</td>\n",
       "      <td>n/a</td>\n",
       "      <td>Intel Core i5 1135G7 Processor, 14 Inch Full H...</td>\n",
       "      <td>https://www.laptopsdirect.co.uk/refurbished-ac...</td>\n",
       "    </tr>\n",
       "    <tr>\n",
       "      <th>18</th>\n",
       "      <td>Refurbished Lenovo Yoga 11E Core i3 8GB 128GB ...</td>\n",
       "      <td>£249.97</td>\n",
       "      <td>n/a</td>\n",
       "      <td>n/a</td>\n",
       "      <td>Intel Core i3 6100U Processor, 11.6 Inch 1366 ...</td>\n",
       "      <td>https://www.laptopsdirect.co.uk/refurbished-le...</td>\n",
       "    </tr>\n",
       "    <tr>\n",
       "      <th>19</th>\n",
       "      <td>HP 250 G8 Core i7-1065G7 8GB 256GB SSD 15.6 In...</td>\n",
       "      <td>£759.97</td>\n",
       "      <td>8</td>\n",
       "      <td>1</td>\n",
       "      <td>Intel Core i7 I7-1065G7 Processor, UHD Graphic...</td>\n",
       "      <td>https://www.laptopsdirect.co.uk/hp-250-g8-core...</td>\n",
       "    </tr>\n",
       "    <tr>\n",
       "      <th>20</th>\n",
       "      <td>ASUS Vivobook X712JA Core i3-1005G1 8GB 1TB 17...</td>\n",
       "      <td>£419.97</td>\n",
       "      <td>6.9</td>\n",
       "      <td>14</td>\n",
       "      <td>Intel Core i3 1005G1 Processor, UHD Graphics 6...</td>\n",
       "      <td>https://www.laptopsdirect.co.uk/asus-vivobook-...</td>\n",
       "    </tr>\n",
       "    <tr>\n",
       "      <th>21</th>\n",
       "      <td>Lenovo ThinkBook 15 Core i5-1035G1 8GB 256GB S...</td>\n",
       "      <td>£688.97</td>\n",
       "      <td>8.8</td>\n",
       "      <td>102</td>\n",
       "      <td>Intel Core i5 I5-1035G1 Processor, Iris Xe Gra...</td>\n",
       "      <td>https://www.laptopsdirect.co.uk/lenovo-thinkbo...</td>\n",
       "    </tr>\n",
       "    <tr>\n",
       "      <th>22</th>\n",
       "      <td>Asus Vivobook Core i7-1065G7 8GB 512GB SSD 14 ...</td>\n",
       "      <td>£569.97</td>\n",
       "      <td>10</td>\n",
       "      <td>2</td>\n",
       "      <td>Intel Core i7 I7-1065G7 Processor, UHD Graphic...</td>\n",
       "      <td>https://www.laptopsdirect.co.uk/asus-vivobook-...</td>\n",
       "    </tr>\n",
       "  </tbody>\n",
       "</table>\n",
       "</div>"
      ],
      "text/plain": [
       "                                                 Name     Price Rating  \\\n",
       "0   Refurbished Acer Swift 7 SF714-52T Core i7-850...   £999.97    n/a   \n",
       "1   Refurbished Huawei MateBook Core i7-8565U 8GB ...   £529.97    n/a   \n",
       "2   Asus C223NA Intel Celeron N3350 4GB 32GB eMMC ...   £161.97    n/a   \n",
       "3   CODA 1.2 Intel Celeron N4020 4GB 64GB eMMC 12....   £199.97    n/a   \n",
       "4   Asus C523 Intel Celeron N3350 4GB 64GB eMMC 15...   £227.97      9   \n",
       "5   Lenovo V14-ADA AMD Ryzen 3 3250U 8GB 256GB SSD...   £399.97    8.8   \n",
       "6   Refurbished Lenovo Yoga 11e Intel Celeron N294...   £119.97    n/a   \n",
       "7   Lenovo V14-ADA Athlon Gold 3150U 8GB 256GB SSD...   £379.97      9   \n",
       "8   Medion Akoya E15407 Core i5-1035G1 8GB 256GB S...   £459.97    7.9   \n",
       "9   Refurbished HP Spectre x360 Core i7-1065G7 8GB...   £899.97    n/a   \n",
       "10  Asus TUF Dash F15 Core i7-11800H 16GB 1TB SSD ...  £1094.98    n/a   \n",
       "11  Lenovo V15-IIL Core i5-1035G1 8GB 256GB SSD 15...   £549.97    8.7   \n",
       "12  Dell Latitude 3520 Core i5-1135G7 8GB 256GB SS...   £697.97     10   \n",
       "13  Lenovo IdeaPad L340 Core i5-9300H 8GB 256GB SS...   £749.97    8.9   \n",
       "14  ASUS VivoBook S513EA Core i7-1165G7 16GB 1TB S...   £799.97    n/a   \n",
       "15  HP 255 G8 AMD Ryzen 5-3500U 8GB 256GB SSD 15 I...   £509.97    8.5   \n",
       "16  Asus Vivobook Core i5-1035G1 8GB 256GB SSD 14 ...   £469.97      9   \n",
       "17  Refurbished Acer Aspire 5 A514-54 Core i5-1135...   £439.97    n/a   \n",
       "18  Refurbished Lenovo Yoga 11E Core i3 8GB 128GB ...   £249.97    n/a   \n",
       "19  HP 250 G8 Core i7-1065G7 8GB 256GB SSD 15.6 In...   £759.97      8   \n",
       "20  ASUS Vivobook X712JA Core i3-1005G1 8GB 1TB 17...   £419.97    6.9   \n",
       "21  Lenovo ThinkBook 15 Core i5-1035G1 8GB 256GB S...   £688.97    8.8   \n",
       "22  Asus Vivobook Core i7-1065G7 8GB 512GB SSD 14 ...   £569.97     10   \n",
       "\n",
       "   Review_count                                       Product_info  \\\n",
       "0           n/a  Intel Core i7 8500Y Processor, 14 Inch Full HD...   \n",
       "1           n/a  Intel Core i7 8565U Processor, 13 Inch 2160 x ...   \n",
       "2           n/a  Intel Celeron N3350 Processor, 11.6 Inch 1366 ...   \n",
       "3           n/a  Intel Celeron N4020 Processor, UHD Graphics 62...   \n",
       "4            11  Intel Celeron N3350 Processor, 15.6 Inch 1366 ...   \n",
       "5            26  AMD Ryzen 3 3250U Processor, Radeon Graphics G...   \n",
       "6           n/a  Intel Celeron N2940 Processor, 11.6 Inch 1366 ...   \n",
       "7            43  Athlon Gold 3150U Processor, Radeon Graphics G...   \n",
       "8            45  Intel Core i5 1035G1 Processor, Iris Xe Graphi...   \n",
       "9           n/a  Intel Core i7 1065G7 Processor, 13.3 Inch Full...   \n",
       "10          n/a  Intel Core i7 I7-11800H Processor, RTX 3060 6G...   \n",
       "11          905  Intel Core i5 1035G1 Processor, UHD Graphics 6...   \n",
       "12            1  Intel Core i5 1135G7 Processor, UHD Graphics 6...   \n",
       "13           39  Intel Core i5 9300HF Processor, GeForce GTX 16...   \n",
       "14          n/a  Intel Core i7 1165G7 Processor, Iris Xe Graphi...   \n",
       "15           11  AMD Ryzen 5 3500U Processor, Radeon Graphics G...   \n",
       "16            2  Intel Core i5 I5-1035G1 Processor, UHD Graphic...   \n",
       "17          n/a  Intel Core i5 1135G7 Processor, 14 Inch Full H...   \n",
       "18          n/a  Intel Core i3 6100U Processor, 11.6 Inch 1366 ...   \n",
       "19            1  Intel Core i7 I7-1065G7 Processor, UHD Graphic...   \n",
       "20           14  Intel Core i3 1005G1 Processor, UHD Graphics 6...   \n",
       "21          102  Intel Core i5 I5-1035G1 Processor, Iris Xe Gra...   \n",
       "22            2  Intel Core i7 I7-1065G7 Processor, UHD Graphic...   \n",
       "\n",
       "                                                  URL  \n",
       "0   https://www.laptopsdirect.co.uk/refurbished-ac...  \n",
       "1   https://www.laptopsdirect.co.uk/refurbished-hu...  \n",
       "2   https://www.laptopsdirect.co.uk/asus-c223na-in...  \n",
       "3   https://www.laptopsdirect.co.uk/coda-1.2-intel...  \n",
       "4   https://www.laptopsdirect.co.uk/-c523na-br0067...  \n",
       "5   https://www.laptopsdirect.co.uk/lenovo-v14-ada...  \n",
       "6   https://www.laptopsdirect.co.uk/refurbished-le...  \n",
       "7   https://www.laptopsdirect.co.uk/lenovo-v14-ada...  \n",
       "8   https://www.laptopsdirect.co.uk/-core-i5-1035g...  \n",
       "9   https://www.laptopsdirect.co.uk/refurbished-hp...  \n",
       "10  https://www.laptopsdirect.co.uk/asus-tuf-dash-...  \n",
       "11  https://www.laptopsdirect.co.uk/lenovo-v15-iil...  \n",
       "12  https://www.laptopsdirect.co.uk/dell-latitude-...  \n",
       "13  https://www.laptopsdirect.co.uk/lenovo-l340-co...  \n",
       "14  https://www.laptopsdirect.co.uk/asus-vivobook-...  \n",
       "15  https://www.laptopsdirect.co.uk/hp-255-g8-amd-...  \n",
       "16  https://www.laptopsdirect.co.uk/asus-vivobook-...  \n",
       "17  https://www.laptopsdirect.co.uk/refurbished-ac...  \n",
       "18  https://www.laptopsdirect.co.uk/refurbished-le...  \n",
       "19  https://www.laptopsdirect.co.uk/hp-250-g8-core...  \n",
       "20  https://www.laptopsdirect.co.uk/asus-vivobook-...  \n",
       "21  https://www.laptopsdirect.co.uk/lenovo-thinkbo...  \n",
       "22  https://www.laptopsdirect.co.uk/asus-vivobook-...  "
      ]
     },
     "execution_count": 69,
     "metadata": {},
     "output_type": "execute_result"
    }
   ],
   "source": [
    "pd.DataFrame({'Name':name,'Price':price,'Rating':rating,'Review_count':review,'Product_info':info,'URL':comb_url})"
   ]
  },
  {
   "cell_type": "markdown",
   "id": "c6393247",
   "metadata": {},
   "source": [
    "# Webscraping multiple pages"
   ]
  },
  {
   "cell_type": "code",
   "execution_count": 169,
   "id": "f22c8d3f",
   "metadata": {},
   "outputs": [],
   "source": [
    "name=[]\n",
    "price=[]\n",
    "rating=[]\n",
    "review=[]\n",
    "info=[]\n",
    "# first 10 pages\n",
    "for i in range(1,11):\n",
    "    website='https://www.laptopsdirect.co.uk/ct/laptops-and-netbooks/laptops?pageNumber='+str(i)\n",
    "    response=requests.get(website)\n",
    "    soup=BeautifulSoup(response.content,'html.parser')\n",
    "    result=soup.find_all('div',class_='OfferBox')\n",
    "    \n",
    "    for item in range(len(result)):\n",
    "        \n",
    "        name.append(result[item].find('a',class_='offerboxtitle').text)\n",
    "        info.append(result[item].find('div',class_='productInfo').get_text().strip().replace('\\n',', '))\n",
    "        price.append(result[item].find('span',class_='offerprice').text)\n",
    "\n",
    "        \n",
    "\n",
    "        \n",
    "        \n",
    "        try:\n",
    "            rating.append(result[item].find('star-rating')['rating-value'])\n",
    "            review.append(result[item].find('star-rating')['ratings-count'])\n",
    "            \n",
    "            \n",
    "        except:\n",
    "\n",
    "            rating.append('n/a')\n",
    "            review.append('n/a')\n",
    "            #price.append('n/a')\n",
    "            #name.append('n/a')\n",
    "            #info.append('n/a')\n",
    " \n",
    "    "
   ]
  },
  {
   "cell_type": "code",
   "execution_count": 170,
   "id": "66c6ce17",
   "metadata": {},
   "outputs": [
    {
     "name": "stdout",
     "output_type": "stream",
     "text": [
      "238\n",
      "238\n",
      "238\n",
      "238\n",
      "238\n"
     ]
    }
   ],
   "source": [
    "print(len(name))\n",
    "print(len(price))\n",
    "print(len(rating))\n",
    "print(len(info))\n",
    "print(len(review))"
   ]
  },
  {
   "cell_type": "code",
   "execution_count": 171,
   "id": "0bd5c878",
   "metadata": {},
   "outputs": [
    {
     "data": {
      "text/html": [
       "<div>\n",
       "<style scoped>\n",
       "    .dataframe tbody tr th:only-of-type {\n",
       "        vertical-align: middle;\n",
       "    }\n",
       "\n",
       "    .dataframe tbody tr th {\n",
       "        vertical-align: top;\n",
       "    }\n",
       "\n",
       "    .dataframe thead th {\n",
       "        text-align: right;\n",
       "    }\n",
       "</style>\n",
       "<table border=\"1\" class=\"dataframe\">\n",
       "  <thead>\n",
       "    <tr style=\"text-align: right;\">\n",
       "      <th></th>\n",
       "      <th>Name</th>\n",
       "      <th>Price</th>\n",
       "      <th>Rating</th>\n",
       "      <th>Review_count</th>\n",
       "      <th>Product_info</th>\n",
       "    </tr>\n",
       "  </thead>\n",
       "  <tbody>\n",
       "    <tr>\n",
       "      <th>0</th>\n",
       "      <td>Refurbished Acer Swift 7 SF714-52T Core i7-850...</td>\n",
       "      <td>£999.97</td>\n",
       "      <td>n/a</td>\n",
       "      <td>n/a</td>\n",
       "      <td>Intel Core i7 8500Y Processor, 14 Inch Full HD...</td>\n",
       "    </tr>\n",
       "    <tr>\n",
       "      <th>1</th>\n",
       "      <td>Refurbished Huawei MateBook Core i7-8565U 8GB ...</td>\n",
       "      <td>£529.97</td>\n",
       "      <td>n/a</td>\n",
       "      <td>n/a</td>\n",
       "      <td>Intel Core i7 8565U Processor, 13 Inch 2160 x ...</td>\n",
       "    </tr>\n",
       "    <tr>\n",
       "      <th>2</th>\n",
       "      <td>Asus C223NA Intel Celeron N3350 4GB 32GB eMMC ...</td>\n",
       "      <td>£161.97</td>\n",
       "      <td>n/a</td>\n",
       "      <td>n/a</td>\n",
       "      <td>Intel Celeron N3350 Processor, 11.6 Inch 1366 ...</td>\n",
       "    </tr>\n",
       "    <tr>\n",
       "      <th>3</th>\n",
       "      <td>CODA 1.2 Intel Celeron N4020 4GB 64GB eMMC 12....</td>\n",
       "      <td>£199.97</td>\n",
       "      <td>n/a</td>\n",
       "      <td>n/a</td>\n",
       "      <td>Intel Celeron N4020 Processor, UHD Graphics 62...</td>\n",
       "    </tr>\n",
       "    <tr>\n",
       "      <th>4</th>\n",
       "      <td>Asus C523 Intel Celeron N3350 4GB 64GB eMMC 15...</td>\n",
       "      <td>£227.97</td>\n",
       "      <td>9</td>\n",
       "      <td>11</td>\n",
       "      <td>Intel Celeron N3350 Processor, 15.6 Inch 1366 ...</td>\n",
       "    </tr>\n",
       "    <tr>\n",
       "      <th>...</th>\n",
       "      <td>...</td>\n",
       "      <td>...</td>\n",
       "      <td>...</td>\n",
       "      <td>...</td>\n",
       "      <td>...</td>\n",
       "    </tr>\n",
       "    <tr>\n",
       "      <th>233</th>\n",
       "      <td>Refurbished Lenovo IdeaPad 3i 14IIL05 Core i3-...</td>\n",
       "      <td>£259.97</td>\n",
       "      <td>n/a</td>\n",
       "      <td>n/a</td>\n",
       "      <td>Intel Core i3 1005G1 Processor, INTEL IRIS PLU...</td>\n",
       "    </tr>\n",
       "    <tr>\n",
       "      <th>234</th>\n",
       "      <td>Refurbished HP Pavilion x360 Core i3-1005G1 4G...</td>\n",
       "      <td>£329.97</td>\n",
       "      <td>n/a</td>\n",
       "      <td>n/a</td>\n",
       "      <td>Intel Core i3 1005G1 Processor, 14 Inch Full H...</td>\n",
       "    </tr>\n",
       "    <tr>\n",
       "      <th>235</th>\n",
       "      <td>Refurbished HP 14s-dq1508sa Core i3-1005G1 4GB...</td>\n",
       "      <td>£279.97</td>\n",
       "      <td>n/a</td>\n",
       "      <td>n/a</td>\n",
       "      <td>Intel Core i3 1005G1 Processor, INTEL IRIS PLU...</td>\n",
       "    </tr>\n",
       "    <tr>\n",
       "      <th>236</th>\n",
       "      <td>Refurbished HP Spectre x360 Core i7-1065G7 8GB...</td>\n",
       "      <td>£999.97</td>\n",
       "      <td>n/a</td>\n",
       "      <td>n/a</td>\n",
       "      <td>Intel Core i7 1065G7 Processor, 13.3 Inch Full...</td>\n",
       "    </tr>\n",
       "    <tr>\n",
       "      <th>237</th>\n",
       "      <td>Refurbished Acer Nitro 5 AN517 Core i7-9750H 8...</td>\n",
       "      <td>£849.97</td>\n",
       "      <td>n/a</td>\n",
       "      <td>n/a</td>\n",
       "      <td>Intel Core i7 9750H Processor, GeForce RTX 206...</td>\n",
       "    </tr>\n",
       "  </tbody>\n",
       "</table>\n",
       "<p>238 rows × 5 columns</p>\n",
       "</div>"
      ],
      "text/plain": [
       "                                                  Name    Price Rating  \\\n",
       "0    Refurbished Acer Swift 7 SF714-52T Core i7-850...  £999.97    n/a   \n",
       "1    Refurbished Huawei MateBook Core i7-8565U 8GB ...  £529.97    n/a   \n",
       "2    Asus C223NA Intel Celeron N3350 4GB 32GB eMMC ...  £161.97    n/a   \n",
       "3    CODA 1.2 Intel Celeron N4020 4GB 64GB eMMC 12....  £199.97    n/a   \n",
       "4    Asus C523 Intel Celeron N3350 4GB 64GB eMMC 15...  £227.97      9   \n",
       "..                                                 ...      ...    ...   \n",
       "233  Refurbished Lenovo IdeaPad 3i 14IIL05 Core i3-...  £259.97    n/a   \n",
       "234  Refurbished HP Pavilion x360 Core i3-1005G1 4G...  £329.97    n/a   \n",
       "235  Refurbished HP 14s-dq1508sa Core i3-1005G1 4GB...  £279.97    n/a   \n",
       "236  Refurbished HP Spectre x360 Core i7-1065G7 8GB...  £999.97    n/a   \n",
       "237  Refurbished Acer Nitro 5 AN517 Core i7-9750H 8...  £849.97    n/a   \n",
       "\n",
       "    Review_count                                       Product_info  \n",
       "0            n/a  Intel Core i7 8500Y Processor, 14 Inch Full HD...  \n",
       "1            n/a  Intel Core i7 8565U Processor, 13 Inch 2160 x ...  \n",
       "2            n/a  Intel Celeron N3350 Processor, 11.6 Inch 1366 ...  \n",
       "3            n/a  Intel Celeron N4020 Processor, UHD Graphics 62...  \n",
       "4             11  Intel Celeron N3350 Processor, 15.6 Inch 1366 ...  \n",
       "..           ...                                                ...  \n",
       "233          n/a  Intel Core i3 1005G1 Processor, INTEL IRIS PLU...  \n",
       "234          n/a  Intel Core i3 1005G1 Processor, 14 Inch Full H...  \n",
       "235          n/a  Intel Core i3 1005G1 Processor, INTEL IRIS PLU...  \n",
       "236          n/a  Intel Core i7 1065G7 Processor, 13.3 Inch Full...  \n",
       "237          n/a  Intel Core i7 9750H Processor, GeForce RTX 206...  \n",
       "\n",
       "[238 rows x 5 columns]"
      ]
     },
     "execution_count": 171,
     "metadata": {},
     "output_type": "execute_result"
    }
   ],
   "source": [
    "pd.DataFrame({'Name':name,'Price':price,'Rating':rating,'Review_count':review,'Product_info':info})"
   ]
  },
  {
   "cell_type": "code",
   "execution_count": null,
   "id": "b954584a",
   "metadata": {},
   "outputs": [],
   "source": []
  },
  {
   "cell_type": "code",
   "execution_count": null,
   "id": "1cd91dfa",
   "metadata": {},
   "outputs": [],
   "source": []
  },
  {
   "cell_type": "code",
   "execution_count": null,
   "id": "4496a93a",
   "metadata": {},
   "outputs": [],
   "source": []
  }
 ],
 "metadata": {
  "kernelspec": {
   "display_name": "Python 3",
   "language": "python",
   "name": "python3"
  },
  "language_info": {
   "codemirror_mode": {
    "name": "ipython",
    "version": 3
   },
   "file_extension": ".py",
   "mimetype": "text/x-python",
   "name": "python",
   "nbconvert_exporter": "python",
   "pygments_lexer": "ipython3",
   "version": "3.8.8"
  }
 },
 "nbformat": 4,
 "nbformat_minor": 5
}
