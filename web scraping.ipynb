{
 "cells": [
  {
   "cell_type": "markdown",
   "id": "2c9dcea9",
   "metadata": {},
   "source": [
    "# Webscraping project"
   ]
  },
  {
   "cell_type": "markdown",
   "id": "bd3d3f53",
   "metadata": {},
   "source": [
    "For this project ,I am scraping video title,description and link from a given website"
   ]
  },
  {
   "cell_type": "code",
   "execution_count": 2,
   "id": "2bc1b597",
   "metadata": {},
   "outputs": [],
   "source": [
    "from bs4 import BeautifulSoup\n",
    "import requests\n",
    "import pandas as pd"
   ]
  },
  {
   "cell_type": "code",
   "execution_count": 4,
   "id": "f130e4ed",
   "metadata": {},
   "outputs": [],
   "source": [
    "source=requests.get('https://coreyms.com').text\n",
    "soup=BeautifulSoup(source,'lxml')"
   ]
  },
  {
   "cell_type": "code",
   "execution_count": 8,
   "id": "9a50d0eb",
   "metadata": {},
   "outputs": [
    {
     "name": "stdout",
     "output_type": "stream",
     "text": [
      "Python Tutorial: Zip Files – Creating and Extracting Zip Archives\n"
     ]
    }
   ],
   "source": [
    "article=soup.find('article')  # headline\n",
    "headline=article.h2.a.text\n",
    "print(headline)"
   ]
  },
  {
   "cell_type": "code",
   "execution_count": 9,
   "id": "8211a449",
   "metadata": {},
   "outputs": [
    {
     "data": {
      "text/plain": [
       "'In this video, we will be learning how to create and extract zip archives. We will start by using the zipfile module, and then we will see how to do this using the shutil module. We will learn how to do this with single files and directories, as well as learning how to use gzip as well. Let’s get started…'"
      ]
     },
     "execution_count": 9,
     "metadata": {},
     "output_type": "execute_result"
    }
   ],
   "source": [
    "# summary tag\n",
    "summary=soup.find('div',class_='entry-content').p.text\n",
    "summary"
   ]
  },
  {
   "cell_type": "code",
   "execution_count": 16,
   "id": "eda35c10",
   "metadata": {},
   "outputs": [
    {
     "name": "stdout",
     "output_type": "stream",
     "text": [
      "z0gguhEmWiY\n"
     ]
    }
   ],
   "source": [
    "#print(article.prettify())\n",
    "vid_id=soup.find('iframe',class_='youtube-player')['src'].split('/')[-1].split('?')[0]\n",
    "print(vid_id)"
   ]
  },
  {
   "cell_type": "code",
   "execution_count": 18,
   "id": "e54b266b",
   "metadata": {},
   "outputs": [
    {
     "name": "stdout",
     "output_type": "stream",
     "text": [
      " https://youtube.com/watch?v=z0gguhEmWiY\n"
     ]
    }
   ],
   "source": [
    "#creating video link\n",
    "vid_link= f' https://youtube.com/watch?v={vid_id}'\n",
    "print(vid_link)"
   ]
  },
  {
   "cell_type": "code",
   "execution_count": 26,
   "id": "da09d955",
   "metadata": {},
   "outputs": [
    {
     "name": "stdout",
     "output_type": "stream",
     "text": [
      "Python Tutorial: Zip Files – Creating and Extracting Zip Archives\n",
      "In this video, we will be learning how to create and extract zip archives. We will start by using the zipfile module, and then we will see how to do this using the shutil module. We will learn how to do this with single files and directories, as well as learning how to use gzip as well. Let’s get started…\n",
      " https://youtube.com/watch?v=z0gguhEmWiY\n",
      "************************************************************************************************************************\n",
      "Python Data Science Tutorial: Analyzing the 2019 Stack Overflow Developer Survey\n",
      "In this video, we will be learning how to create and extract zip archives. We will start by using the zipfile module, and then we will see how to do this using the shutil module. We will learn how to do this with single files and directories, as well as learning how to use gzip as well. Let’s get started…\n",
      " https://youtube.com/watch?v=z0gguhEmWiY\n",
      "************************************************************************************************************************\n",
      "Python Multiprocessing Tutorial: Run Code in Parallel Using the Multiprocessing Module\n",
      "In this video, we will be learning how to create and extract zip archives. We will start by using the zipfile module, and then we will see how to do this using the shutil module. We will learn how to do this with single files and directories, as well as learning how to use gzip as well. Let’s get started…\n",
      " https://youtube.com/watch?v=z0gguhEmWiY\n",
      "************************************************************************************************************************\n",
      "Python Threading Tutorial: Run Code Concurrently Using the Threading Module\n",
      "In this video, we will be learning how to create and extract zip archives. We will start by using the zipfile module, and then we will see how to do this using the shutil module. We will learn how to do this with single files and directories, as well as learning how to use gzip as well. Let’s get started…\n",
      " https://youtube.com/watch?v=z0gguhEmWiY\n",
      "************************************************************************************************************************\n",
      "Update (2019-09-03)\n",
      "In this video, we will be learning how to create and extract zip archives. We will start by using the zipfile module, and then we will see how to do this using the shutil module. We will learn how to do this with single files and directories, as well as learning how to use gzip as well. Let’s get started…\n",
      " https://youtube.com/watch?v=z0gguhEmWiY\n",
      "************************************************************************************************************************\n",
      "Python Quick Tip: The Difference Between “==” and “is” (Equality vs Identity)\n",
      "In this video, we will be learning how to create and extract zip archives. We will start by using the zipfile module, and then we will see how to do this using the shutil module. We will learn how to do this with single files and directories, as well as learning how to use gzip as well. Let’s get started…\n",
      " https://youtube.com/watch?v=z0gguhEmWiY\n",
      "************************************************************************************************************************\n",
      "Python Tutorial: Calling External Commands Using the Subprocess Module\n",
      "In this video, we will be learning how to create and extract zip archives. We will start by using the zipfile module, and then we will see how to do this using the shutil module. We will learn how to do this with single files and directories, as well as learning how to use gzip as well. Let’s get started…\n",
      " https://youtube.com/watch?v=z0gguhEmWiY\n",
      "************************************************************************************************************************\n",
      "Visual Studio Code (Windows) – Setting up a Python Development Environment and Complete Overview\n",
      "In this video, we will be learning how to create and extract zip archives. We will start by using the zipfile module, and then we will see how to do this using the shutil module. We will learn how to do this with single files and directories, as well as learning how to use gzip as well. Let’s get started…\n",
      " https://youtube.com/watch?v=z0gguhEmWiY\n",
      "************************************************************************************************************************\n",
      "Visual Studio Code (Mac) – Setting up a Python Development Environment and Complete Overview\n",
      "In this video, we will be learning how to create and extract zip archives. We will start by using the zipfile module, and then we will see how to do this using the shutil module. We will learn how to do this with single files and directories, as well as learning how to use gzip as well. Let’s get started…\n",
      " https://youtube.com/watch?v=z0gguhEmWiY\n",
      "************************************************************************************************************************\n",
      "Clarifying the Issues with Mutable Default Arguments\n",
      "In this video, we will be learning how to create and extract zip archives. We will start by using the zipfile module, and then we will see how to do this using the shutil module. We will learn how to do this with single files and directories, as well as learning how to use gzip as well. Let’s get started…\n",
      " https://youtube.com/watch?v=z0gguhEmWiY\n",
      "************************************************************************************************************************\n"
     ]
    }
   ],
   "source": [
    "# for all  video in website\n",
    "import csv\n",
    "csv_file=open('web_scraping.csv','w')\n",
    "csv_writer=csv.writer(csv_file)\n",
    "csv_writer.writerow(['headline','summary','vid_link'])\n",
    "for article in soup.find_all('article'):  \n",
    "    headline=article.h2.a.text\n",
    "    print(headline)\n",
    "    summary=soup.find('div',class_='entry-content').p.text\n",
    "    print(summary)\n",
    "    vid_id=soup.find('iframe',class_='youtube-player')['src'].split('/')[-1].split('?')[0]\n",
    "    vid_link= f' https://youtube.com/watch?v={vid_id}'\n",
    "    print(vid_link)\n",
    "    print('*'*120)\n",
    "    csv_writer.writerow([headline,summary,vid_link])\n",
    "csv_file.close()    "
   ]
  },
  {
   "cell_type": "code",
   "execution_count": 28,
   "id": "47f79c86",
   "metadata": {},
   "outputs": [
    {
     "data": {
      "text/html": [
       "<div>\n",
       "<style scoped>\n",
       "    .dataframe tbody tr th:only-of-type {\n",
       "        vertical-align: middle;\n",
       "    }\n",
       "\n",
       "    .dataframe tbody tr th {\n",
       "        vertical-align: top;\n",
       "    }\n",
       "\n",
       "    .dataframe thead th {\n",
       "        text-align: right;\n",
       "    }\n",
       "</style>\n",
       "<table border=\"1\" class=\"dataframe\">\n",
       "  <thead>\n",
       "    <tr style=\"text-align: right;\">\n",
       "      <th></th>\n",
       "      <th>headline</th>\n",
       "      <th>summary</th>\n",
       "      <th>vid_link</th>\n",
       "    </tr>\n",
       "  </thead>\n",
       "  <tbody>\n",
       "    <tr>\n",
       "      <th>0</th>\n",
       "      <td>Python Tutorial: Zip Files � Creating and Extr...</td>\n",
       "      <td>In this video, we will be learning how to crea...</td>\n",
       "      <td>https://youtube.com/watch?v=z0gguhEmWiY</td>\n",
       "    </tr>\n",
       "    <tr>\n",
       "      <th>1</th>\n",
       "      <td>Python Data Science Tutorial: Analyzing the 20...</td>\n",
       "      <td>In this video, we will be learning how to crea...</td>\n",
       "      <td>https://youtube.com/watch?v=z0gguhEmWiY</td>\n",
       "    </tr>\n",
       "    <tr>\n",
       "      <th>2</th>\n",
       "      <td>Python Multiprocessing Tutorial: Run Code in P...</td>\n",
       "      <td>In this video, we will be learning how to crea...</td>\n",
       "      <td>https://youtube.com/watch?v=z0gguhEmWiY</td>\n",
       "    </tr>\n",
       "    <tr>\n",
       "      <th>3</th>\n",
       "      <td>Python Threading Tutorial: Run Code Concurrent...</td>\n",
       "      <td>In this video, we will be learning how to crea...</td>\n",
       "      <td>https://youtube.com/watch?v=z0gguhEmWiY</td>\n",
       "    </tr>\n",
       "    <tr>\n",
       "      <th>4</th>\n",
       "      <td>Update (2019-09-03)</td>\n",
       "      <td>In this video, we will be learning how to crea...</td>\n",
       "      <td>https://youtube.com/watch?v=z0gguhEmWiY</td>\n",
       "    </tr>\n",
       "    <tr>\n",
       "      <th>5</th>\n",
       "      <td>Python Quick Tip: The Difference Between �==� ...</td>\n",
       "      <td>In this video, we will be learning how to crea...</td>\n",
       "      <td>https://youtube.com/watch?v=z0gguhEmWiY</td>\n",
       "    </tr>\n",
       "    <tr>\n",
       "      <th>6</th>\n",
       "      <td>Python Tutorial: Calling External Commands Usi...</td>\n",
       "      <td>In this video, we will be learning how to crea...</td>\n",
       "      <td>https://youtube.com/watch?v=z0gguhEmWiY</td>\n",
       "    </tr>\n",
       "    <tr>\n",
       "      <th>7</th>\n",
       "      <td>Visual Studio Code (Windows) � Setting up a Py...</td>\n",
       "      <td>In this video, we will be learning how to crea...</td>\n",
       "      <td>https://youtube.com/watch?v=z0gguhEmWiY</td>\n",
       "    </tr>\n",
       "    <tr>\n",
       "      <th>8</th>\n",
       "      <td>Visual Studio Code (Mac) � Setting up a Python...</td>\n",
       "      <td>In this video, we will be learning how to crea...</td>\n",
       "      <td>https://youtube.com/watch?v=z0gguhEmWiY</td>\n",
       "    </tr>\n",
       "    <tr>\n",
       "      <th>9</th>\n",
       "      <td>Clarifying the Issues with Mutable Default Arg...</td>\n",
       "      <td>In this video, we will be learning how to crea...</td>\n",
       "      <td>https://youtube.com/watch?v=z0gguhEmWiY</td>\n",
       "    </tr>\n",
       "  </tbody>\n",
       "</table>\n",
       "</div>"
      ],
      "text/plain": [
       "                                            headline  \\\n",
       "0  Python Tutorial: Zip Files � Creating and Extr...   \n",
       "1  Python Data Science Tutorial: Analyzing the 20...   \n",
       "2  Python Multiprocessing Tutorial: Run Code in P...   \n",
       "3  Python Threading Tutorial: Run Code Concurrent...   \n",
       "4                                Update (2019-09-03)   \n",
       "5  Python Quick Tip: The Difference Between �==� ...   \n",
       "6  Python Tutorial: Calling External Commands Usi...   \n",
       "7  Visual Studio Code (Windows) � Setting up a Py...   \n",
       "8  Visual Studio Code (Mac) � Setting up a Python...   \n",
       "9  Clarifying the Issues with Mutable Default Arg...   \n",
       "\n",
       "                                             summary  \\\n",
       "0  In this video, we will be learning how to crea...   \n",
       "1  In this video, we will be learning how to crea...   \n",
       "2  In this video, we will be learning how to crea...   \n",
       "3  In this video, we will be learning how to crea...   \n",
       "4  In this video, we will be learning how to crea...   \n",
       "5  In this video, we will be learning how to crea...   \n",
       "6  In this video, we will be learning how to crea...   \n",
       "7  In this video, we will be learning how to crea...   \n",
       "8  In this video, we will be learning how to crea...   \n",
       "9  In this video, we will be learning how to crea...   \n",
       "\n",
       "                                   vid_link  \n",
       "0   https://youtube.com/watch?v=z0gguhEmWiY  \n",
       "1   https://youtube.com/watch?v=z0gguhEmWiY  \n",
       "2   https://youtube.com/watch?v=z0gguhEmWiY  \n",
       "3   https://youtube.com/watch?v=z0gguhEmWiY  \n",
       "4   https://youtube.com/watch?v=z0gguhEmWiY  \n",
       "5   https://youtube.com/watch?v=z0gguhEmWiY  \n",
       "6   https://youtube.com/watch?v=z0gguhEmWiY  \n",
       "7   https://youtube.com/watch?v=z0gguhEmWiY  \n",
       "8   https://youtube.com/watch?v=z0gguhEmWiY  \n",
       "9   https://youtube.com/watch?v=z0gguhEmWiY  "
      ]
     },
     "execution_count": 28,
     "metadata": {},
     "output_type": "execute_result"
    }
   ],
   "source": [
    "import pandas as pd\n",
    "df=pd.read_csv('web_scraping.csv')\n",
    "df"
   ]
  },
  {
   "cell_type": "markdown",
   "id": "ae9e00cd",
   "metadata": {},
   "source": [
    "# Scraping Book price from website"
   ]
  },
  {
   "cell_type": "code",
   "execution_count": 3,
   "id": "1cf363ec",
   "metadata": {},
   "outputs": [],
   "source": [
    "source='https://books.toscrape.com'"
   ]
  },
  {
   "cell_type": "code",
   "execution_count": 4,
   "id": "ed4239b8",
   "metadata": {},
   "outputs": [],
   "source": [
    "response=requests.get(source)"
   ]
  },
  {
   "cell_type": "code",
   "execution_count": 5,
   "id": "3b77add0",
   "metadata": {},
   "outputs": [
    {
     "data": {
      "text/plain": [
       "200"
      ]
     },
     "execution_count": 5,
     "metadata": {},
     "output_type": "execute_result"
    }
   ],
   "source": [
    "response.status_code"
   ]
  },
  {
   "cell_type": "code",
   "execution_count": null,
   "id": "e40c24d3",
   "metadata": {},
   "outputs": [],
   "source": [
    "soup=BeautifulSoup(response.content,'html.parser')  # creating soup object"
   ]
  },
  {
   "cell_type": "code",
   "execution_count": 9,
   "id": "32a01e82",
   "metadata": {},
   "outputs": [],
   "source": [
    "result=soup.find_all('li',class_='col-xs-6')"
   ]
  },
  {
   "cell_type": "code",
   "execution_count": 11,
   "id": "11010a4f",
   "metadata": {},
   "outputs": [
    {
     "data": {
      "text/plain": [
       "20"
      ]
     },
     "execution_count": 11,
     "metadata": {},
     "output_type": "execute_result"
    }
   ],
   "source": [
    "len(result)   # checking total item since it returns list"
   ]
  },
  {
   "cell_type": "code",
   "execution_count": 15,
   "id": "c1f69a20",
   "metadata": {},
   "outputs": [
    {
     "data": {
      "text/plain": [
       "'A Light in the ...'"
      ]
     },
     "execution_count": 15,
     "metadata": {},
     "output_type": "execute_result"
    }
   ],
   "source": [
    "result[0].find('h3').text"
   ]
  },
  {
   "cell_type": "code",
   "execution_count": 19,
   "id": "70262c35",
   "metadata": {},
   "outputs": [
    {
     "data": {
      "text/plain": [
       "'A Light in the Attic'"
      ]
     },
     "execution_count": 19,
     "metadata": {},
     "output_type": "execute_result"
    }
   ],
   "source": [
    "result[0].find('h3').find('a').get('title')  # book title"
   ]
  },
  {
   "cell_type": "code",
   "execution_count": 22,
   "id": "9d80a92a",
   "metadata": {},
   "outputs": [
    {
     "data": {
      "text/plain": [
       "'£51.77'"
      ]
     },
     "execution_count": 22,
     "metadata": {},
     "output_type": "execute_result"
    }
   ],
   "source": [
    "result[0].find('p',class_='price_color').text# book price"
   ]
  },
  {
   "cell_type": "code",
   "execution_count": 27,
   "id": "ac75f5f9",
   "metadata": {},
   "outputs": [
    {
     "data": {
      "text/plain": [
       "'In stock'"
      ]
     },
     "execution_count": 27,
     "metadata": {},
     "output_type": "execute_result"
    }
   ],
   "source": [
    "result[0].find('p',class_=\"instock availability\").text.strip()  # book availability"
   ]
  },
  {
   "cell_type": "code",
   "execution_count": 29,
   "id": "c2ee518c",
   "metadata": {},
   "outputs": [
    {
     "name": "stdout",
     "output_type": "stream",
     "text": [
      "A Light in the Attic\n",
      "£51.77\n",
      "In stock\n",
      "************************************************************************************************************************\n",
      "Tipping the Velvet\n",
      "£53.74\n",
      "In stock\n",
      "************************************************************************************************************************\n",
      "Soumission\n",
      "£50.10\n",
      "In stock\n",
      "************************************************************************************************************************\n",
      "Sharp Objects\n",
      "£47.82\n",
      "In stock\n",
      "************************************************************************************************************************\n",
      "Sapiens: A Brief History of Humankind\n",
      "£54.23\n",
      "In stock\n",
      "************************************************************************************************************************\n",
      "The Requiem Red\n",
      "£22.65\n",
      "In stock\n",
      "************************************************************************************************************************\n",
      "The Dirty Little Secrets of Getting Your Dream Job\n",
      "£33.34\n",
      "In stock\n",
      "************************************************************************************************************************\n",
      "The Coming Woman: A Novel Based on the Life of the Infamous Feminist, Victoria Woodhull\n",
      "£17.93\n",
      "In stock\n",
      "************************************************************************************************************************\n",
      "The Boys in the Boat: Nine Americans and Their Epic Quest for Gold at the 1936 Berlin Olympics\n",
      "£22.60\n",
      "In stock\n",
      "************************************************************************************************************************\n",
      "The Black Maria\n",
      "£52.15\n",
      "In stock\n",
      "************************************************************************************************************************\n",
      "Starving Hearts (Triangular Trade Trilogy, #1)\n",
      "£13.99\n",
      "In stock\n",
      "************************************************************************************************************************\n",
      "Shakespeare's Sonnets\n",
      "£20.66\n",
      "In stock\n",
      "************************************************************************************************************************\n",
      "Set Me Free\n",
      "£17.46\n",
      "In stock\n",
      "************************************************************************************************************************\n",
      "Scott Pilgrim's Precious Little Life (Scott Pilgrim #1)\n",
      "£52.29\n",
      "In stock\n",
      "************************************************************************************************************************\n",
      "Rip it Up and Start Again\n",
      "£35.02\n",
      "In stock\n",
      "************************************************************************************************************************\n",
      "Our Band Could Be Your Life: Scenes from the American Indie Underground, 1981-1991\n",
      "£57.25\n",
      "In stock\n",
      "************************************************************************************************************************\n",
      "Olio\n",
      "£23.88\n",
      "In stock\n",
      "************************************************************************************************************************\n",
      "Mesaerion: The Best Science Fiction Stories 1800-1849\n",
      "£37.59\n",
      "In stock\n",
      "************************************************************************************************************************\n",
      "Libertarianism for Beginners\n",
      "£51.33\n",
      "In stock\n",
      "************************************************************************************************************************\n",
      "It's Only the Himalayas\n",
      "£45.17\n",
      "In stock\n",
      "************************************************************************************************************************\n"
     ]
    }
   ],
   "source": [
    "for item in range(len(result)):\n",
    "    title=result[item].find('h3').find('a').get('title')\n",
    "    print(title)\n",
    "    price=result[item].find('p',class_='price_color').text\n",
    "    print(price)\n",
    "    availability=result[item].find('p',class_=\"instock availability\").text.strip()\n",
    "    print(availability)\n",
    "    print('*'*120)\n",
    "    "
   ]
  },
  {
   "cell_type": "code",
   "execution_count": 31,
   "id": "c96445db",
   "metadata": {},
   "outputs": [
    {
     "data": {
      "text/plain": [
       "['A Light in the Attic',\n",
       " 'Tipping the Velvet',\n",
       " 'Soumission',\n",
       " 'Sharp Objects',\n",
       " 'Sapiens: A Brief History of Humankind',\n",
       " 'The Requiem Red',\n",
       " 'The Dirty Little Secrets of Getting Your Dream Job',\n",
       " 'The Coming Woman: A Novel Based on the Life of the Infamous Feminist, Victoria Woodhull',\n",
       " 'The Boys in the Boat: Nine Americans and Their Epic Quest for Gold at the 1936 Berlin Olympics',\n",
       " 'The Black Maria',\n",
       " 'Starving Hearts (Triangular Trade Trilogy, #1)',\n",
       " \"Shakespeare's Sonnets\",\n",
       " 'Set Me Free',\n",
       " \"Scott Pilgrim's Precious Little Life (Scott Pilgrim #1)\",\n",
       " 'Rip it Up and Start Again',\n",
       " 'Our Band Could Be Your Life: Scenes from the American Indie Underground, 1981-1991',\n",
       " 'Olio',\n",
       " 'Mesaerion: The Best Science Fiction Stories 1800-1849',\n",
       " 'Libertarianism for Beginners',\n",
       " \"It's Only the Himalayas\"]"
      ]
     },
     "execution_count": 31,
     "metadata": {},
     "output_type": "execute_result"
    }
   ],
   "source": [
    "results=soup.find_all('li',class_='col-xs-6')\n",
    "book_name=[result.find('h3').find('a').get('title') for result in results]\n",
    "book_name # using list comprehension to get names"
   ]
  },
  {
   "cell_type": "code",
   "execution_count": 32,
   "id": "523a389a",
   "metadata": {},
   "outputs": [
    {
     "data": {
      "text/plain": [
       "['£51.77',\n",
       " '£53.74',\n",
       " '£50.10',\n",
       " '£47.82',\n",
       " '£54.23',\n",
       " '£22.65',\n",
       " '£33.34',\n",
       " '£17.93',\n",
       " '£22.60',\n",
       " '£52.15',\n",
       " '£13.99',\n",
       " '£20.66',\n",
       " '£17.46',\n",
       " '£52.29',\n",
       " '£35.02',\n",
       " '£57.25',\n",
       " '£23.88',\n",
       " '£37.59',\n",
       " '£51.33',\n",
       " '£45.17']"
      ]
     },
     "execution_count": 32,
     "metadata": {},
     "output_type": "execute_result"
    }
   ],
   "source": [
    "book_price=[result.find('p',class_='price_color').text for result in results]\n",
    "book_price"
   ]
  },
  {
   "cell_type": "code",
   "execution_count": 33,
   "id": "6379e8f8",
   "metadata": {},
   "outputs": [
    {
     "data": {
      "text/plain": [
       "['In stock',\n",
       " 'In stock',\n",
       " 'In stock',\n",
       " 'In stock',\n",
       " 'In stock',\n",
       " 'In stock',\n",
       " 'In stock',\n",
       " 'In stock',\n",
       " 'In stock',\n",
       " 'In stock',\n",
       " 'In stock',\n",
       " 'In stock',\n",
       " 'In stock',\n",
       " 'In stock',\n",
       " 'In stock',\n",
       " 'In stock',\n",
       " 'In stock',\n",
       " 'In stock',\n",
       " 'In stock',\n",
       " 'In stock']"
      ]
     },
     "execution_count": 33,
     "metadata": {},
     "output_type": "execute_result"
    }
   ],
   "source": [
    "stock_availability=[result.find('p',class_=\"instock availability\").text.strip() for result in results]\n",
    "stock_availability"
   ]
  },
  {
   "cell_type": "code",
   "execution_count": 35,
   "id": "8fa5d8c6",
   "metadata": {},
   "outputs": [
    {
     "data": {
      "text/html": [
       "<div>\n",
       "<style scoped>\n",
       "    .dataframe tbody tr th:only-of-type {\n",
       "        vertical-align: middle;\n",
       "    }\n",
       "\n",
       "    .dataframe tbody tr th {\n",
       "        vertical-align: top;\n",
       "    }\n",
       "\n",
       "    .dataframe thead th {\n",
       "        text-align: right;\n",
       "    }\n",
       "</style>\n",
       "<table border=\"1\" class=\"dataframe\">\n",
       "  <thead>\n",
       "    <tr style=\"text-align: right;\">\n",
       "      <th></th>\n",
       "      <th>Name</th>\n",
       "      <th>Price</th>\n",
       "      <th>availability</th>\n",
       "    </tr>\n",
       "  </thead>\n",
       "  <tbody>\n",
       "    <tr>\n",
       "      <th>0</th>\n",
       "      <td>A Light in the Attic</td>\n",
       "      <td>£51.77</td>\n",
       "      <td>In stock</td>\n",
       "    </tr>\n",
       "    <tr>\n",
       "      <th>1</th>\n",
       "      <td>Tipping the Velvet</td>\n",
       "      <td>£53.74</td>\n",
       "      <td>In stock</td>\n",
       "    </tr>\n",
       "    <tr>\n",
       "      <th>2</th>\n",
       "      <td>Soumission</td>\n",
       "      <td>£50.10</td>\n",
       "      <td>In stock</td>\n",
       "    </tr>\n",
       "    <tr>\n",
       "      <th>3</th>\n",
       "      <td>Sharp Objects</td>\n",
       "      <td>£47.82</td>\n",
       "      <td>In stock</td>\n",
       "    </tr>\n",
       "    <tr>\n",
       "      <th>4</th>\n",
       "      <td>Sapiens: A Brief History of Humankind</td>\n",
       "      <td>£54.23</td>\n",
       "      <td>In stock</td>\n",
       "    </tr>\n",
       "    <tr>\n",
       "      <th>5</th>\n",
       "      <td>The Requiem Red</td>\n",
       "      <td>£22.65</td>\n",
       "      <td>In stock</td>\n",
       "    </tr>\n",
       "    <tr>\n",
       "      <th>6</th>\n",
       "      <td>The Dirty Little Secrets of Getting Your Dream...</td>\n",
       "      <td>£33.34</td>\n",
       "      <td>In stock</td>\n",
       "    </tr>\n",
       "    <tr>\n",
       "      <th>7</th>\n",
       "      <td>The Coming Woman: A Novel Based on the Life of...</td>\n",
       "      <td>£17.93</td>\n",
       "      <td>In stock</td>\n",
       "    </tr>\n",
       "    <tr>\n",
       "      <th>8</th>\n",
       "      <td>The Boys in the Boat: Nine Americans and Their...</td>\n",
       "      <td>£22.60</td>\n",
       "      <td>In stock</td>\n",
       "    </tr>\n",
       "    <tr>\n",
       "      <th>9</th>\n",
       "      <td>The Black Maria</td>\n",
       "      <td>£52.15</td>\n",
       "      <td>In stock</td>\n",
       "    </tr>\n",
       "    <tr>\n",
       "      <th>10</th>\n",
       "      <td>Starving Hearts (Triangular Trade Trilogy, #1)</td>\n",
       "      <td>£13.99</td>\n",
       "      <td>In stock</td>\n",
       "    </tr>\n",
       "    <tr>\n",
       "      <th>11</th>\n",
       "      <td>Shakespeare's Sonnets</td>\n",
       "      <td>£20.66</td>\n",
       "      <td>In stock</td>\n",
       "    </tr>\n",
       "    <tr>\n",
       "      <th>12</th>\n",
       "      <td>Set Me Free</td>\n",
       "      <td>£17.46</td>\n",
       "      <td>In stock</td>\n",
       "    </tr>\n",
       "    <tr>\n",
       "      <th>13</th>\n",
       "      <td>Scott Pilgrim's Precious Little Life (Scott Pi...</td>\n",
       "      <td>£52.29</td>\n",
       "      <td>In stock</td>\n",
       "    </tr>\n",
       "    <tr>\n",
       "      <th>14</th>\n",
       "      <td>Rip it Up and Start Again</td>\n",
       "      <td>£35.02</td>\n",
       "      <td>In stock</td>\n",
       "    </tr>\n",
       "    <tr>\n",
       "      <th>15</th>\n",
       "      <td>Our Band Could Be Your Life: Scenes from the A...</td>\n",
       "      <td>£57.25</td>\n",
       "      <td>In stock</td>\n",
       "    </tr>\n",
       "    <tr>\n",
       "      <th>16</th>\n",
       "      <td>Olio</td>\n",
       "      <td>£23.88</td>\n",
       "      <td>In stock</td>\n",
       "    </tr>\n",
       "    <tr>\n",
       "      <th>17</th>\n",
       "      <td>Mesaerion: The Best Science Fiction Stories 18...</td>\n",
       "      <td>£37.59</td>\n",
       "      <td>In stock</td>\n",
       "    </tr>\n",
       "    <tr>\n",
       "      <th>18</th>\n",
       "      <td>Libertarianism for Beginners</td>\n",
       "      <td>£51.33</td>\n",
       "      <td>In stock</td>\n",
       "    </tr>\n",
       "    <tr>\n",
       "      <th>19</th>\n",
       "      <td>It's Only the Himalayas</td>\n",
       "      <td>£45.17</td>\n",
       "      <td>In stock</td>\n",
       "    </tr>\n",
       "  </tbody>\n",
       "</table>\n",
       "</div>"
      ],
      "text/plain": [
       "                                                 Name   Price availability\n",
       "0                                A Light in the Attic  £51.77     In stock\n",
       "1                                  Tipping the Velvet  £53.74     In stock\n",
       "2                                          Soumission  £50.10     In stock\n",
       "3                                       Sharp Objects  £47.82     In stock\n",
       "4               Sapiens: A Brief History of Humankind  £54.23     In stock\n",
       "5                                     The Requiem Red  £22.65     In stock\n",
       "6   The Dirty Little Secrets of Getting Your Dream...  £33.34     In stock\n",
       "7   The Coming Woman: A Novel Based on the Life of...  £17.93     In stock\n",
       "8   The Boys in the Boat: Nine Americans and Their...  £22.60     In stock\n",
       "9                                     The Black Maria  £52.15     In stock\n",
       "10     Starving Hearts (Triangular Trade Trilogy, #1)  £13.99     In stock\n",
       "11                              Shakespeare's Sonnets  £20.66     In stock\n",
       "12                                        Set Me Free  £17.46     In stock\n",
       "13  Scott Pilgrim's Precious Little Life (Scott Pi...  £52.29     In stock\n",
       "14                          Rip it Up and Start Again  £35.02     In stock\n",
       "15  Our Band Could Be Your Life: Scenes from the A...  £57.25     In stock\n",
       "16                                               Olio  £23.88     In stock\n",
       "17  Mesaerion: The Best Science Fiction Stories 18...  £37.59     In stock\n",
       "18                       Libertarianism for Beginners  £51.33     In stock\n",
       "19                            It's Only the Himalayas  £45.17     In stock"
      ]
     },
     "execution_count": 35,
     "metadata": {},
     "output_type": "execute_result"
    }
   ],
   "source": [
    "df=pd.DataFrame({'Name':book_name,'Price':book_price,'availability':stock_availability})\n",
    "df"
   ]
  },
  {
   "cell_type": "code",
   "execution_count": 36,
   "id": "6084065b",
   "metadata": {},
   "outputs": [],
   "source": [
    "df.to_excel('book.xlsx',index=False)"
   ]
  },
  {
   "cell_type": "markdown",
   "id": "950c24f6",
   "metadata": {},
   "source": [
    "# Webscraping real state from trulia"
   ]
  },
  {
   "cell_type": "code",
   "execution_count": null,
   "id": "6d07620d",
   "metadata": {},
   "outputs": [],
   "source": []
  },
  {
   "cell_type": "code",
   "execution_count": 37,
   "id": "b9f5ae3f",
   "metadata": {},
   "outputs": [],
   "source": [
    "website='https://www.trulia.com/CA/San_Francisco'"
   ]
  },
  {
   "cell_type": "code",
   "execution_count": 38,
   "id": "3ff29c59",
   "metadata": {},
   "outputs": [],
   "source": [
    "response=requests.get(website)"
   ]
  },
  {
   "cell_type": "code",
   "execution_count": 40,
   "id": "6be41d59",
   "metadata": {},
   "outputs": [
    {
     "data": {
      "text/plain": [
       "200"
      ]
     },
     "execution_count": 40,
     "metadata": {},
     "output_type": "execute_result"
    }
   ],
   "source": [
    "response.status_code"
   ]
  },
  {
   "cell_type": "code",
   "execution_count": null,
   "id": "519b804d",
   "metadata": {},
   "outputs": [],
   "source": [
    "\n",
    "soup=BeautifulSoup(response.content,'html.parser')"
   ]
  },
  {
   "cell_type": "code",
   "execution_count": 44,
   "id": "06cebe38",
   "metadata": {},
   "outputs": [],
   "source": [
    "result=soup.find_all('li',class_='SearchResultsList__WideCell-b7y9ki-2')"
   ]
  },
  {
   "attachments": {
    "Screenshot%20%28287%29.png": {
     "image/png": "[encoded data removed]"
    }
   },
   "cell_type": "markdown",
   "id": "75ea9cbc",
   "metadata": {},
   "source": [
    "![Screenshot%20%28287%29.png](attachment:Screenshot%20%28287%29.png)"
   ]
  },
  {
   "cell_type": "code",
   "execution_count": 45,
   "id": "c3702fc4",
   "metadata": {},
   "outputs": [
    {
     "data": {
      "text/plain": [
       "42"
      ]
     },
     "execution_count": 45,
     "metadata": {},
     "output_type": "execute_result"
    }
   ],
   "source": [
    "len(result)  #but if you see above figure there  should be 40"
   ]
  },
  {
   "cell_type": "code",
   "execution_count": 50,
   "id": "41953e2e",
   "metadata": {},
   "outputs": [
    {
     "data": {
      "text/plain": [
       "40"
      ]
     },
     "execution_count": 50,
     "metadata": {},
     "output_type": "execute_result"
    }
   ],
   "source": [
    "final_result=[res for res in result if res.has_attr('data-testid')]  # so we set has attribute to data-testid\n",
    "len(final_result)"
   ]
  },
  {
   "cell_type": "code",
   "execution_count": 65,
   "id": "e5292665",
   "metadata": {},
   "outputs": [
    {
     "data": {
      "text/plain": [
       "'1125 Vicente St, San Francisco, CA 94116'"
      ]
     },
     "execution_count": 65,
     "metadata": {},
     "output_type": "execute_result"
    }
   ],
   "source": [
    "address=final_result[0].find('div',{'data-testid':'property-address'}).text\n",
    "address"
   ]
  },
  {
   "cell_type": "code",
   "execution_count": 66,
   "id": "4ffb757e",
   "metadata": {},
   "outputs": [
    {
     "data": {
      "text/plain": [
       "'3bd'"
      ]
     },
     "execution_count": 66,
     "metadata": {},
     "output_type": "execute_result"
    }
   ],
   "source": [
    "beds=final_result[0].find('div',{'data-testid':'property-beds'}).text\n",
    "beds"
   ]
  },
  {
   "cell_type": "code",
   "execution_count": 67,
   "id": "1e95597b",
   "metadata": {},
   "outputs": [
    {
     "data": {
      "text/plain": [
       "'2ba'"
      ]
     },
     "execution_count": 67,
     "metadata": {},
     "output_type": "execute_result"
    }
   ],
   "source": [
    "baths=final_result[0].find('div',{'data-testid':'property-baths'}).text\n",
    "baths"
   ]
  },
  {
   "cell_type": "code",
   "execution_count": 68,
   "id": "9b84b34d",
   "metadata": {},
   "outputs": [
    {
     "data": {
      "text/plain": [
       "'2,018 sqft'"
      ]
     },
     "execution_count": 68,
     "metadata": {},
     "output_type": "execute_result"
    }
   ],
   "source": [
    "area=final_result[0].find('div',{'data-testid':'property-floorSpace'}).text\n",
    "area"
   ]
  },
  {
   "cell_type": "code",
   "execution_count": 69,
   "id": "d28971ba",
   "metadata": {},
   "outputs": [
    {
     "data": {
      "text/plain": [
       "'$998,000'"
      ]
     },
     "execution_count": 69,
     "metadata": {},
     "output_type": "execute_result"
    }
   ],
   "source": [
    "price=final_result[0].find('div',{'data-testid':'property-price'}).text\n",
    "price"
   ]
  },
  {
   "cell_type": "code",
   "execution_count": 73,
   "id": "10d8bb7d",
   "metadata": {},
   "outputs": [
    {
     "data": {
      "text/plain": [
       "['$998,000',\n",
       " '$998,000',\n",
       " '$995,000',\n",
       " '$895,000',\n",
       " '$1,195,000',\n",
       " '$1,195,000',\n",
       " '$1,150,000',\n",
       " '$15,950,000',\n",
       " '$725,000',\n",
       " '$14,200,000',\n",
       " '$4,995,000',\n",
       " '$899,000',\n",
       " '$1,700,000',\n",
       " '$995,000',\n",
       " '$354,457',\n",
       " '$1,595,000',\n",
       " '$1,788,000',\n",
       " '$46,000,000',\n",
       " '$6,800,000',\n",
       " '$1,245,000',\n",
       " '$12,900,000',\n",
       " '$999,888',\n",
       " '$2,095,000',\n",
       " '$3,900,000',\n",
       " '$585,000',\n",
       " '$798,000',\n",
       " '$1,995,000',\n",
       " '$3,095,000',\n",
       " '$875,000',\n",
       " '$1,675,000',\n",
       " '$699,000',\n",
       " '$2,750,000',\n",
       " '$995,000',\n",
       " '$3,395,000',\n",
       " '$1,775,000',\n",
       " '$795,000',\n",
       " '$550,000',\n",
       " '$1,298,000',\n",
       " '$1,395,000',\n",
       " '$759,000']"
      ]
     },
     "execution_count": 73,
     "metadata": {},
     "output_type": "execute_result"
    }
   ],
   "source": [
    "price=[result.find('div',{'data-testid':'property-price'}).text for result in final_result]\n",
    "price"
   ]
  },
  {
   "cell_type": "code",
   "execution_count": 74,
   "id": "04c5c585",
   "metadata": {},
   "outputs": [
    {
     "data": {
      "text/plain": [
       "40"
      ]
     },
     "execution_count": 74,
     "metadata": {},
     "output_type": "execute_result"
    }
   ],
   "source": [
    "len(price)"
   ]
  },
  {
   "cell_type": "code",
   "execution_count": 77,
   "id": "391e09f4",
   "metadata": {},
   "outputs": [
    {
     "name": "stdout",
     "output_type": "stream",
     "text": [
      "1125 Vicente St, San Francisco, CA 94116\n",
      "3bd\n",
      "2ba\n",
      "2,018 sqft\n",
      "$998,000\n",
      "************************************************************************************************************************\n",
      "214 Putnam St, San Francisco, CA 94110\n",
      "3bd\n",
      "4ba\n",
      "2,255 sqft\n",
      "$998,000\n",
      "************************************************************************************************************************\n",
      "2026 47th Ave, San Francisco, CA 94116\n",
      "3bd\n",
      "2ba\n",
      "1,224 sqft\n",
      "$995,000\n",
      "************************************************************************************************************************\n",
      "134-136 Hartford St, San Francisco, CA 94114\n",
      "2bd\n",
      "2ba\n",
      "2,000 sqft\n",
      "$895,000\n",
      "************************************************************************************************************************\n",
      "1350 27th Ave, San Francisco, CA 94122\n",
      "3bd\n",
      "2ba\n",
      "2,198 sqft\n",
      "$1,195,000\n",
      "************************************************************************************************************************\n",
      "1226 44th Ave, San Francisco, CA 94122\n",
      "4bd\n",
      "3ba\n",
      "1,915 sqft\n",
      "$1,195,000\n",
      "************************************************************************************************************************\n",
      "70 Rockridge Dr, San Francisco, CA 94116\n",
      "2bd\n",
      "2ba\n",
      "1,546 sqft\n",
      "$1,150,000\n",
      "************************************************************************************************************************\n",
      "160 Sea Cliff Ave, San Francisco, CA 94121\n",
      "5bd\n",
      "6ba\n",
      "5,930 sqft\n",
      "$15,950,000\n",
      "************************************************************************************************************************\n",
      "759 Grove St #759, San Francisco, CA 94102\n",
      "2bd\n",
      "1ba\n",
      "940 sqft\n",
      "$725,000\n",
      "************************************************************************************************************************\n",
      "3080 Pacific Ave, San Francisco, CA 94115\n",
      "6bd\n",
      "9ba\n",
      "7,675 sqft\n",
      "$14,200,000\n",
      "************************************************************************************************************************\n",
      "459 Ashbury St, San Francisco, CA 94117\n",
      "5bd\n",
      "6ba\n",
      "4,270 sqft\n",
      "$4,995,000\n",
      "************************************************************************************************************************\n",
      "89 Vienna St, San Francisco, CA 94112\n",
      "2bd\n",
      "1ba\n",
      "$899,000\n",
      "************************************************************************************************************************\n",
      "1721 Baker St, San Francisco, CA 94115\n",
      "2bd\n",
      "2ba\n",
      "1,859 sqft\n",
      "$1,700,000\n",
      "************************************************************************************************************************\n",
      "3846 23rd St, San Francisco, CA 94114\n",
      "2bd\n",
      "1ba\n",
      "$995,000\n",
      "************************************************************************************************************************\n",
      "338 Potrero Ave #304, San Francisco, CA 94103\n",
      "2bd\n",
      "2ba\n",
      "832 sqft\n",
      "$354,457\n",
      "************************************************************************************************************************\n",
      "68 Glenview Dr, San Francisco, CA 94131\n",
      "4bd\n",
      "3ba\n",
      "1,829 sqft\n",
      "$1,595,000\n",
      "************************************************************************************************************************\n",
      "1054 Plymouth Ave, San Francisco, CA 94112\n",
      "5bd\n",
      "5ba\n",
      "2,595 sqft\n",
      "$1,788,000\n",
      "************************************************************************************************************************\n",
      "2582 Filbert St, San Francisco, CA 94123\n",
      "6bd\n",
      "9ba\n",
      "12,200 sqft\n",
      "$46,000,000\n",
      "************************************************************************************************************************\n",
      "1446 Francisco St, San Francisco, CA 94123\n",
      "4bd\n",
      "4ba\n",
      "3,800 sqft\n",
      "$6,800,000\n",
      "************************************************************************************************************************\n",
      "874 Shotwell St, San Francisco, CA 94110\n",
      "2bd\n",
      "2ba\n",
      "1,330 sqft\n",
      "$1,245,000\n",
      "************************************************************************************************************************\n",
      "3498 Jackson St, San Francisco, CA 94118\n",
      "5bd\n",
      "8ba\n",
      "6,385 sqft\n",
      "$12,900,000\n",
      "************************************************************************************************************************\n",
      "161 Miramar Ave, San Francisco, CA 94112\n",
      "4bd\n",
      "2ba\n",
      "1,619 sqft\n",
      "$999,888\n",
      "************************************************************************************************************************\n",
      "65 Homestead St, San Francisco, CA 94114\n",
      "3bd\n",
      "4ba\n",
      "2,477 sqft\n",
      "$2,095,000\n",
      "************************************************************************************************************************\n",
      "127 Manchester St, San Francisco, CA 94110\n",
      "4bd\n",
      "4ba\n",
      "3,405 sqft\n",
      "$3,900,000\n",
      "************************************************************************************************************************\n",
      "237 Greenwich St, San Francisco, CA 94133\n",
      "1bd\n",
      "1ba\n",
      "$585,000\n",
      "************************************************************************************************************************\n",
      "1910 Divisadero St #4, San Francisco, CA 94115\n",
      "2bd\n",
      "1ba\n",
      "845 sqft\n",
      "$798,000\n",
      "************************************************************************************************************************\n",
      "2945 Lincoln Way, San Francisco, CA 94122\n",
      "4bd\n",
      "4ba\n",
      "2,940 sqft\n",
      "$1,995,000\n",
      "************************************************************************************************************************\n",
      "337 Warren Dr, San Francisco, CA 94131\n",
      "4bd\n",
      "4ba\n",
      "2,950 sqft\n",
      "$3,095,000\n",
      "************************************************************************************************************************\n",
      "174 Naples St, San Francisco, CA 94112\n",
      "3bd\n",
      "2ba\n",
      "1,350 sqft\n",
      "$875,000\n",
      "************************************************************************************************************************\n",
      "477 A Frederick St, San Francisco, CA 94117\n",
      "3bd\n",
      "2ba\n",
      "1,293 sqft\n",
      "$1,675,000\n",
      "************************************************************************************************************************\n",
      "8100 Oceanview Ter #114, San Francisco, CA 94132\n",
      "2bd\n",
      "2ba\n",
      "1,019 sqft\n",
      "$699,000\n",
      "************************************************************************************************************************\n",
      "3733 Clay St, San Francisco, CA 94118\n",
      "3bd\n",
      "4ba\n",
      "2,345 sqft\n",
      "$2,750,000\n",
      "************************************************************************************************************************\n",
      "99 Hillcrest Ct, San Francisco, CA 94127\n",
      "3bd\n",
      "2ba\n",
      "1,294 sqft\n",
      "$995,000\n",
      "************************************************************************************************************************\n",
      "701 Congo St, San Francisco, CA 94131\n",
      "4bd\n",
      "4ba\n",
      "3,770 sqft\n",
      "$3,395,000\n",
      "************************************************************************************************************************\n",
      "67-69 Deming St, San Francisco, CA 94114\n",
      "4bd\n",
      "3ba\n",
      "1,660 sqft\n",
      "$1,775,000\n",
      "************************************************************************************************************************\n",
      "3324-3330 19th St #3326A, San Francisco, CA 94110\n",
      "3bd\n",
      "2ba\n",
      "896 sqft\n",
      "$795,000\n",
      "************************************************************************************************************************\n",
      "2130 Leavenworth St #2, San Francisco, CA 94133\n",
      "1bd\n",
      "1ba\n",
      "$550,000\n",
      "************************************************************************************************************************\n",
      "2210 Cecilia Ave, San Francisco, CA 94116\n",
      "3bd\n",
      "3ba\n",
      "2,421 sqft\n",
      "$1,298,000\n",
      "************************************************************************************************************************\n",
      "646 De Haro St, San Francisco, CA 94107\n",
      "2bd\n",
      "2ba\n",
      "1,515 sqft\n",
      "$1,395,000\n",
      "************************************************************************************************************************\n",
      "2245 Cabrillo St #3, San Francisco, CA 94121\n",
      "1bd\n",
      "1ba\n",
      "822 sqft\n",
      "$759,000\n",
      "************************************************************************************************************************\n"
     ]
    }
   ],
   "source": [
    "for item in range(len(final_result)):\n",
    "   \n",
    "        address=final_result[item].find('div',{'data-testid':'property-address'}).text\n",
    "        print(address)\n",
    "        beds=final_result[item].find('div',{'data-testid':'property-beds'}).text\n",
    "        print(beds)\n",
    "        baths=final_result[item].find('div',{'data-testid':'property-baths'}).text\n",
    "        print(baths)\n",
    "        try:\n",
    "            area=final_result[item].find('div',{'data-testid':'property-floorSpace'}).text\n",
    "            print(area)\n",
    "        except:\n",
    "            pass\n",
    "        price=final_result[item].find('div',{'data-testid':'property-price'}).text\n",
    "        print(price)\n",
    "   \n",
    "        print('*'*120)"
   ]
  },
  {
   "cell_type": "code",
   "execution_count": 85,
   "id": "aee56b01",
   "metadata": {},
   "outputs": [
    {
     "data": {
      "text/plain": [
       "['3bd',\n",
       " '3bd',\n",
       " '3bd',\n",
       " '2bd',\n",
       " '3bd',\n",
       " '4bd',\n",
       " '2bd',\n",
       " '5bd',\n",
       " '2bd',\n",
       " '6bd',\n",
       " '5bd',\n",
       " '2bd',\n",
       " '2bd',\n",
       " '2bd',\n",
       " '2bd',\n",
       " '4bd',\n",
       " '5bd',\n",
       " '6bd',\n",
       " '4bd',\n",
       " '2bd',\n",
       " '5bd',\n",
       " '4bd',\n",
       " '3bd',\n",
       " '4bd',\n",
       " '1bd',\n",
       " '2bd',\n",
       " '4bd',\n",
       " '4bd',\n",
       " '3bd',\n",
       " '3bd',\n",
       " '2bd',\n",
       " '3bd',\n",
       " '3bd',\n",
       " '4bd',\n",
       " '4bd',\n",
       " '3bd',\n",
       " '1bd',\n",
       " '3bd',\n",
       " '2bd',\n",
       " '1bd']"
      ]
     },
     "execution_count": 85,
     "metadata": {},
     "output_type": "execute_result"
    }
   ],
   "source": [
    "beds=[result.find('div',{'data-testid':'property-beds'}).text for result in final_result]\n",
    "beds"
   ]
  },
  {
   "cell_type": "code",
   "execution_count": 86,
   "id": "edde8be4",
   "metadata": {},
   "outputs": [
    {
     "data": {
      "text/plain": [
       "['2ba',\n",
       " '4ba',\n",
       " '2ba',\n",
       " '2ba',\n",
       " '2ba',\n",
       " '3ba',\n",
       " '2ba',\n",
       " '6ba',\n",
       " '1ba',\n",
       " '9ba',\n",
       " '6ba',\n",
       " '1ba',\n",
       " '2ba',\n",
       " '1ba',\n",
       " '2ba',\n",
       " '3ba',\n",
       " '5ba',\n",
       " '9ba',\n",
       " '4ba',\n",
       " '2ba',\n",
       " '8ba',\n",
       " '2ba',\n",
       " '4ba',\n",
       " '4ba',\n",
       " '1ba',\n",
       " '1ba',\n",
       " '4ba',\n",
       " '4ba',\n",
       " '2ba',\n",
       " '2ba',\n",
       " '2ba',\n",
       " '4ba',\n",
       " '2ba',\n",
       " '4ba',\n",
       " '3ba',\n",
       " '2ba',\n",
       " '1ba',\n",
       " '3ba',\n",
       " '2ba',\n",
       " '1ba']"
      ]
     },
     "execution_count": 86,
     "metadata": {},
     "output_type": "execute_result"
    }
   ],
   "source": [
    "bath=[result.find('div',{'data-testid':'property-baths'}).text for result in final_result]\n",
    "bath"
   ]
  },
  {
   "cell_type": "code",
   "execution_count": 93,
   "id": "0501d494",
   "metadata": {},
   "outputs": [],
   "source": [
    "area1=[]\n",
    "# since few area is missing \n",
    "for item in range(len(final_result)):\n",
    "    \n",
    "    try:\n",
    "        area=final_result[item].find('div',{'data-testid':'property-floorSpace'}).text\n",
    "        area1.append(area)\n",
    "    except:\n",
    "        area1.append(' ')\n",
    "        \n",
    "       \n",
    "   \n",
    "        "
   ]
  },
  {
   "cell_type": "code",
   "execution_count": 95,
   "id": "95142a9c",
   "metadata": {},
   "outputs": [
    {
     "data": {
      "text/plain": [
       "['2,018 sqft',\n",
       " '2,255 sqft',\n",
       " '1,224 sqft',\n",
       " '2,000 sqft',\n",
       " '2,198 sqft',\n",
       " '1,915 sqft',\n",
       " '1,546 sqft',\n",
       " '5,930 sqft',\n",
       " '940 sqft',\n",
       " '7,675 sqft',\n",
       " '4,270 sqft',\n",
       " ' ',\n",
       " '1,859 sqft',\n",
       " ' ',\n",
       " '832 sqft',\n",
       " '1,829 sqft',\n",
       " '2,595 sqft',\n",
       " '12,200 sqft',\n",
       " '3,800 sqft',\n",
       " '1,330 sqft',\n",
       " '6,385 sqft',\n",
       " '1,619 sqft',\n",
       " '2,477 sqft',\n",
       " '3,405 sqft',\n",
       " ' ',\n",
       " '845 sqft',\n",
       " '2,940 sqft',\n",
       " '2,950 sqft',\n",
       " '1,350 sqft',\n",
       " '1,293 sqft',\n",
       " '1,019 sqft',\n",
       " '2,345 sqft',\n",
       " '1,294 sqft',\n",
       " '3,770 sqft',\n",
       " '1,660 sqft',\n",
       " '896 sqft',\n",
       " ' ',\n",
       " '2,421 sqft',\n",
       " '1,515 sqft',\n",
       " '822 sqft']"
      ]
     },
     "execution_count": 95,
     "metadata": {},
     "output_type": "execute_result"
    }
   ],
   "source": [
    "area1"
   ]
  },
  {
   "cell_type": "code",
   "execution_count": 99,
   "id": "6985a80b",
   "metadata": {},
   "outputs": [
    {
     "data": {
      "text/plain": [
       "['1125 Vicente St, San Francisco, CA 94116',\n",
       " '214 Putnam St, San Francisco, CA 94110',\n",
       " '2026 47th Ave, San Francisco, CA 94116',\n",
       " '134-136 Hartford St, San Francisco, CA 94114',\n",
       " '1350 27th Ave, San Francisco, CA 94122',\n",
       " '1226 44th Ave, San Francisco, CA 94122',\n",
       " '70 Rockridge Dr, San Francisco, CA 94116',\n",
       " '160 Sea Cliff Ave, San Francisco, CA 94121',\n",
       " '759 Grove St #759, San Francisco, CA 94102',\n",
       " '3080 Pacific Ave, San Francisco, CA 94115',\n",
       " '459 Ashbury St, San Francisco, CA 94117',\n",
       " '89 Vienna St, San Francisco, CA 94112',\n",
       " '1721 Baker St, San Francisco, CA 94115',\n",
       " '3846 23rd St, San Francisco, CA 94114',\n",
       " '338 Potrero Ave #304, San Francisco, CA 94103',\n",
       " '68 Glenview Dr, San Francisco, CA 94131',\n",
       " '1054 Plymouth Ave, San Francisco, CA 94112',\n",
       " '2582 Filbert St, San Francisco, CA 94123',\n",
       " '1446 Francisco St, San Francisco, CA 94123',\n",
       " '874 Shotwell St, San Francisco, CA 94110',\n",
       " '3498 Jackson St, San Francisco, CA 94118',\n",
       " '161 Miramar Ave, San Francisco, CA 94112',\n",
       " '65 Homestead St, San Francisco, CA 94114',\n",
       " '127 Manchester St, San Francisco, CA 94110',\n",
       " '237 Greenwich St, San Francisco, CA 94133',\n",
       " '1910 Divisadero St #4, San Francisco, CA 94115',\n",
       " '2945 Lincoln Way, San Francisco, CA 94122',\n",
       " '337 Warren Dr, San Francisco, CA 94131',\n",
       " '174 Naples St, San Francisco, CA 94112',\n",
       " '477 A Frederick St, San Francisco, CA 94117',\n",
       " '8100 Oceanview Ter #114, San Francisco, CA 94132',\n",
       " '3733 Clay St, San Francisco, CA 94118',\n",
       " '99 Hillcrest Ct, San Francisco, CA 94127',\n",
       " '701 Congo St, San Francisco, CA 94131',\n",
       " '67-69 Deming St, San Francisco, CA 94114',\n",
       " '3324-3330 19th St #3326A, San Francisco, CA 94110',\n",
       " '2130 Leavenworth St #2, San Francisco, CA 94133',\n",
       " '2210 Cecilia Ave, San Francisco, CA 94116',\n",
       " '646 De Haro St, San Francisco, CA 94107',\n",
       " '2245 Cabrillo St #3, San Francisco, CA 94121']"
      ]
     },
     "execution_count": 99,
     "metadata": {},
     "output_type": "execute_result"
    }
   ],
   "source": [
    "address=[result.find('div',{'data-testid':'property-address'}).text for result in final_result]\n",
    "address"
   ]
  },
  {
   "cell_type": "code",
   "execution_count": 100,
   "id": "52c6b097",
   "metadata": {},
   "outputs": [
    {
     "data": {
      "text/html": [
       "<div>\n",
       "<style scoped>\n",
       "    .dataframe tbody tr th:only-of-type {\n",
       "        vertical-align: middle;\n",
       "    }\n",
       "\n",
       "    .dataframe tbody tr th {\n",
       "        vertical-align: top;\n",
       "    }\n",
       "\n",
       "    .dataframe thead th {\n",
       "        text-align: right;\n",
       "    }\n",
       "</style>\n",
       "<table border=\"1\" class=\"dataframe\">\n",
       "  <thead>\n",
       "    <tr style=\"text-align: right;\">\n",
       "      <th></th>\n",
       "      <th>area</th>\n",
       "      <th>Bath</th>\n",
       "      <th>Bed</th>\n",
       "      <th>Location</th>\n",
       "      <th>Price</th>\n",
       "    </tr>\n",
       "  </thead>\n",
       "  <tbody>\n",
       "    <tr>\n",
       "      <th>0</th>\n",
       "      <td>2,018 sqft</td>\n",
       "      <td>1ba</td>\n",
       "      <td>3bd</td>\n",
       "      <td>1125 Vicente St, San Francisco, CA 94116</td>\n",
       "      <td>$759,000</td>\n",
       "    </tr>\n",
       "    <tr>\n",
       "      <th>1</th>\n",
       "      <td>2,255 sqft</td>\n",
       "      <td>1ba</td>\n",
       "      <td>3bd</td>\n",
       "      <td>214 Putnam St, San Francisco, CA 94110</td>\n",
       "      <td>$759,000</td>\n",
       "    </tr>\n",
       "    <tr>\n",
       "      <th>2</th>\n",
       "      <td>1,224 sqft</td>\n",
       "      <td>1ba</td>\n",
       "      <td>3bd</td>\n",
       "      <td>2026 47th Ave, San Francisco, CA 94116</td>\n",
       "      <td>$759,000</td>\n",
       "    </tr>\n",
       "    <tr>\n",
       "      <th>3</th>\n",
       "      <td>2,000 sqft</td>\n",
       "      <td>1ba</td>\n",
       "      <td>2bd</td>\n",
       "      <td>134-136 Hartford St, San Francisco, CA 94114</td>\n",
       "      <td>$759,000</td>\n",
       "    </tr>\n",
       "    <tr>\n",
       "      <th>4</th>\n",
       "      <td>2,198 sqft</td>\n",
       "      <td>1ba</td>\n",
       "      <td>3bd</td>\n",
       "      <td>1350 27th Ave, San Francisco, CA 94122</td>\n",
       "      <td>$759,000</td>\n",
       "    </tr>\n",
       "    <tr>\n",
       "      <th>5</th>\n",
       "      <td>1,915 sqft</td>\n",
       "      <td>1ba</td>\n",
       "      <td>4bd</td>\n",
       "      <td>1226 44th Ave, San Francisco, CA 94122</td>\n",
       "      <td>$759,000</td>\n",
       "    </tr>\n",
       "    <tr>\n",
       "      <th>6</th>\n",
       "      <td>1,546 sqft</td>\n",
       "      <td>1ba</td>\n",
       "      <td>2bd</td>\n",
       "      <td>70 Rockridge Dr, San Francisco, CA 94116</td>\n",
       "      <td>$759,000</td>\n",
       "    </tr>\n",
       "    <tr>\n",
       "      <th>7</th>\n",
       "      <td>5,930 sqft</td>\n",
       "      <td>1ba</td>\n",
       "      <td>5bd</td>\n",
       "      <td>160 Sea Cliff Ave, San Francisco, CA 94121</td>\n",
       "      <td>$759,000</td>\n",
       "    </tr>\n",
       "    <tr>\n",
       "      <th>8</th>\n",
       "      <td>940 sqft</td>\n",
       "      <td>1ba</td>\n",
       "      <td>2bd</td>\n",
       "      <td>759 Grove St #759, San Francisco, CA 94102</td>\n",
       "      <td>$759,000</td>\n",
       "    </tr>\n",
       "    <tr>\n",
       "      <th>9</th>\n",
       "      <td>7,675 sqft</td>\n",
       "      <td>1ba</td>\n",
       "      <td>6bd</td>\n",
       "      <td>3080 Pacific Ave, San Francisco, CA 94115</td>\n",
       "      <td>$759,000</td>\n",
       "    </tr>\n",
       "    <tr>\n",
       "      <th>10</th>\n",
       "      <td>4,270 sqft</td>\n",
       "      <td>1ba</td>\n",
       "      <td>5bd</td>\n",
       "      <td>459 Ashbury St, San Francisco, CA 94117</td>\n",
       "      <td>$759,000</td>\n",
       "    </tr>\n",
       "    <tr>\n",
       "      <th>11</th>\n",
       "      <td></td>\n",
       "      <td>1ba</td>\n",
       "      <td>2bd</td>\n",
       "      <td>89 Vienna St, San Francisco, CA 94112</td>\n",
       "      <td>$759,000</td>\n",
       "    </tr>\n",
       "    <tr>\n",
       "      <th>12</th>\n",
       "      <td>1,859 sqft</td>\n",
       "      <td>1ba</td>\n",
       "      <td>2bd</td>\n",
       "      <td>1721 Baker St, San Francisco, CA 94115</td>\n",
       "      <td>$759,000</td>\n",
       "    </tr>\n",
       "    <tr>\n",
       "      <th>13</th>\n",
       "      <td></td>\n",
       "      <td>1ba</td>\n",
       "      <td>2bd</td>\n",
       "      <td>3846 23rd St, San Francisco, CA 94114</td>\n",
       "      <td>$759,000</td>\n",
       "    </tr>\n",
       "    <tr>\n",
       "      <th>14</th>\n",
       "      <td>832 sqft</td>\n",
       "      <td>1ba</td>\n",
       "      <td>2bd</td>\n",
       "      <td>338 Potrero Ave #304, San Francisco, CA 94103</td>\n",
       "      <td>$759,000</td>\n",
       "    </tr>\n",
       "    <tr>\n",
       "      <th>15</th>\n",
       "      <td>1,829 sqft</td>\n",
       "      <td>1ba</td>\n",
       "      <td>4bd</td>\n",
       "      <td>68 Glenview Dr, San Francisco, CA 94131</td>\n",
       "      <td>$759,000</td>\n",
       "    </tr>\n",
       "    <tr>\n",
       "      <th>16</th>\n",
       "      <td>2,595 sqft</td>\n",
       "      <td>1ba</td>\n",
       "      <td>5bd</td>\n",
       "      <td>1054 Plymouth Ave, San Francisco, CA 94112</td>\n",
       "      <td>$759,000</td>\n",
       "    </tr>\n",
       "    <tr>\n",
       "      <th>17</th>\n",
       "      <td>12,200 sqft</td>\n",
       "      <td>1ba</td>\n",
       "      <td>6bd</td>\n",
       "      <td>2582 Filbert St, San Francisco, CA 94123</td>\n",
       "      <td>$759,000</td>\n",
       "    </tr>\n",
       "    <tr>\n",
       "      <th>18</th>\n",
       "      <td>3,800 sqft</td>\n",
       "      <td>1ba</td>\n",
       "      <td>4bd</td>\n",
       "      <td>1446 Francisco St, San Francisco, CA 94123</td>\n",
       "      <td>$759,000</td>\n",
       "    </tr>\n",
       "    <tr>\n",
       "      <th>19</th>\n",
       "      <td>1,330 sqft</td>\n",
       "      <td>1ba</td>\n",
       "      <td>2bd</td>\n",
       "      <td>874 Shotwell St, San Francisco, CA 94110</td>\n",
       "      <td>$759,000</td>\n",
       "    </tr>\n",
       "    <tr>\n",
       "      <th>20</th>\n",
       "      <td>6,385 sqft</td>\n",
       "      <td>1ba</td>\n",
       "      <td>5bd</td>\n",
       "      <td>3498 Jackson St, San Francisco, CA 94118</td>\n",
       "      <td>$759,000</td>\n",
       "    </tr>\n",
       "    <tr>\n",
       "      <th>21</th>\n",
       "      <td>1,619 sqft</td>\n",
       "      <td>1ba</td>\n",
       "      <td>4bd</td>\n",
       "      <td>161 Miramar Ave, San Francisco, CA 94112</td>\n",
       "      <td>$759,000</td>\n",
       "    </tr>\n",
       "    <tr>\n",
       "      <th>22</th>\n",
       "      <td>2,477 sqft</td>\n",
       "      <td>1ba</td>\n",
       "      <td>3bd</td>\n",
       "      <td>65 Homestead St, San Francisco, CA 94114</td>\n",
       "      <td>$759,000</td>\n",
       "    </tr>\n",
       "    <tr>\n",
       "      <th>23</th>\n",
       "      <td>3,405 sqft</td>\n",
       "      <td>1ba</td>\n",
       "      <td>4bd</td>\n",
       "      <td>127 Manchester St, San Francisco, CA 94110</td>\n",
       "      <td>$759,000</td>\n",
       "    </tr>\n",
       "    <tr>\n",
       "      <th>24</th>\n",
       "      <td></td>\n",
       "      <td>1ba</td>\n",
       "      <td>1bd</td>\n",
       "      <td>237 Greenwich St, San Francisco, CA 94133</td>\n",
       "      <td>$759,000</td>\n",
       "    </tr>\n",
       "    <tr>\n",
       "      <th>25</th>\n",
       "      <td>845 sqft</td>\n",
       "      <td>1ba</td>\n",
       "      <td>2bd</td>\n",
       "      <td>1910 Divisadero St #4, San Francisco, CA 94115</td>\n",
       "      <td>$759,000</td>\n",
       "    </tr>\n",
       "    <tr>\n",
       "      <th>26</th>\n",
       "      <td>2,940 sqft</td>\n",
       "      <td>1ba</td>\n",
       "      <td>4bd</td>\n",
       "      <td>2945 Lincoln Way, San Francisco, CA 94122</td>\n",
       "      <td>$759,000</td>\n",
       "    </tr>\n",
       "    <tr>\n",
       "      <th>27</th>\n",
       "      <td>2,950 sqft</td>\n",
       "      <td>1ba</td>\n",
       "      <td>4bd</td>\n",
       "      <td>337 Warren Dr, San Francisco, CA 94131</td>\n",
       "      <td>$759,000</td>\n",
       "    </tr>\n",
       "    <tr>\n",
       "      <th>28</th>\n",
       "      <td>1,350 sqft</td>\n",
       "      <td>1ba</td>\n",
       "      <td>3bd</td>\n",
       "      <td>174 Naples St, San Francisco, CA 94112</td>\n",
       "      <td>$759,000</td>\n",
       "    </tr>\n",
       "    <tr>\n",
       "      <th>29</th>\n",
       "      <td>1,293 sqft</td>\n",
       "      <td>1ba</td>\n",
       "      <td>3bd</td>\n",
       "      <td>477 A Frederick St, San Francisco, CA 94117</td>\n",
       "      <td>$759,000</td>\n",
       "    </tr>\n",
       "    <tr>\n",
       "      <th>30</th>\n",
       "      <td>1,019 sqft</td>\n",
       "      <td>1ba</td>\n",
       "      <td>2bd</td>\n",
       "      <td>8100 Oceanview Ter #114, San Francisco, CA 94132</td>\n",
       "      <td>$759,000</td>\n",
       "    </tr>\n",
       "    <tr>\n",
       "      <th>31</th>\n",
       "      <td>2,345 sqft</td>\n",
       "      <td>1ba</td>\n",
       "      <td>3bd</td>\n",
       "      <td>3733 Clay St, San Francisco, CA 94118</td>\n",
       "      <td>$759,000</td>\n",
       "    </tr>\n",
       "    <tr>\n",
       "      <th>32</th>\n",
       "      <td>1,294 sqft</td>\n",
       "      <td>1ba</td>\n",
       "      <td>3bd</td>\n",
       "      <td>99 Hillcrest Ct, San Francisco, CA 94127</td>\n",
       "      <td>$759,000</td>\n",
       "    </tr>\n",
       "    <tr>\n",
       "      <th>33</th>\n",
       "      <td>3,770 sqft</td>\n",
       "      <td>1ba</td>\n",
       "      <td>4bd</td>\n",
       "      <td>701 Congo St, San Francisco, CA 94131</td>\n",
       "      <td>$759,000</td>\n",
       "    </tr>\n",
       "    <tr>\n",
       "      <th>34</th>\n",
       "      <td>1,660 sqft</td>\n",
       "      <td>1ba</td>\n",
       "      <td>4bd</td>\n",
       "      <td>67-69 Deming St, San Francisco, CA 94114</td>\n",
       "      <td>$759,000</td>\n",
       "    </tr>\n",
       "    <tr>\n",
       "      <th>35</th>\n",
       "      <td>896 sqft</td>\n",
       "      <td>1ba</td>\n",
       "      <td>3bd</td>\n",
       "      <td>3324-3330 19th St #3326A, San Francisco, CA 94110</td>\n",
       "      <td>$759,000</td>\n",
       "    </tr>\n",
       "    <tr>\n",
       "      <th>36</th>\n",
       "      <td></td>\n",
       "      <td>1ba</td>\n",
       "      <td>1bd</td>\n",
       "      <td>2130 Leavenworth St #2, San Francisco, CA 94133</td>\n",
       "      <td>$759,000</td>\n",
       "    </tr>\n",
       "    <tr>\n",
       "      <th>37</th>\n",
       "      <td>2,421 sqft</td>\n",
       "      <td>1ba</td>\n",
       "      <td>3bd</td>\n",
       "      <td>2210 Cecilia Ave, San Francisco, CA 94116</td>\n",
       "      <td>$759,000</td>\n",
       "    </tr>\n",
       "    <tr>\n",
       "      <th>38</th>\n",
       "      <td>1,515 sqft</td>\n",
       "      <td>1ba</td>\n",
       "      <td>2bd</td>\n",
       "      <td>646 De Haro St, San Francisco, CA 94107</td>\n",
       "      <td>$759,000</td>\n",
       "    </tr>\n",
       "    <tr>\n",
       "      <th>39</th>\n",
       "      <td>822 sqft</td>\n",
       "      <td>1ba</td>\n",
       "      <td>1bd</td>\n",
       "      <td>2245 Cabrillo St #3, San Francisco, CA 94121</td>\n",
       "      <td>$759,000</td>\n",
       "    </tr>\n",
       "  </tbody>\n",
       "</table>\n",
       "</div>"
      ],
      "text/plain": [
       "           area Bath  Bed                                           Location  \\\n",
       "0    2,018 sqft  1ba  3bd           1125 Vicente St, San Francisco, CA 94116   \n",
       "1    2,255 sqft  1ba  3bd             214 Putnam St, San Francisco, CA 94110   \n",
       "2    1,224 sqft  1ba  3bd             2026 47th Ave, San Francisco, CA 94116   \n",
       "3    2,000 sqft  1ba  2bd       134-136 Hartford St, San Francisco, CA 94114   \n",
       "4    2,198 sqft  1ba  3bd             1350 27th Ave, San Francisco, CA 94122   \n",
       "5    1,915 sqft  1ba  4bd             1226 44th Ave, San Francisco, CA 94122   \n",
       "6    1,546 sqft  1ba  2bd           70 Rockridge Dr, San Francisco, CA 94116   \n",
       "7    5,930 sqft  1ba  5bd         160 Sea Cliff Ave, San Francisco, CA 94121   \n",
       "8      940 sqft  1ba  2bd         759 Grove St #759, San Francisco, CA 94102   \n",
       "9    7,675 sqft  1ba  6bd          3080 Pacific Ave, San Francisco, CA 94115   \n",
       "10   4,270 sqft  1ba  5bd            459 Ashbury St, San Francisco, CA 94117   \n",
       "11               1ba  2bd              89 Vienna St, San Francisco, CA 94112   \n",
       "12   1,859 sqft  1ba  2bd             1721 Baker St, San Francisco, CA 94115   \n",
       "13               1ba  2bd              3846 23rd St, San Francisco, CA 94114   \n",
       "14     832 sqft  1ba  2bd      338 Potrero Ave #304, San Francisco, CA 94103   \n",
       "15   1,829 sqft  1ba  4bd            68 Glenview Dr, San Francisco, CA 94131   \n",
       "16   2,595 sqft  1ba  5bd         1054 Plymouth Ave, San Francisco, CA 94112   \n",
       "17  12,200 sqft  1ba  6bd           2582 Filbert St, San Francisco, CA 94123   \n",
       "18   3,800 sqft  1ba  4bd         1446 Francisco St, San Francisco, CA 94123   \n",
       "19   1,330 sqft  1ba  2bd           874 Shotwell St, San Francisco, CA 94110   \n",
       "20   6,385 sqft  1ba  5bd           3498 Jackson St, San Francisco, CA 94118   \n",
       "21   1,619 sqft  1ba  4bd           161 Miramar Ave, San Francisco, CA 94112   \n",
       "22   2,477 sqft  1ba  3bd           65 Homestead St, San Francisco, CA 94114   \n",
       "23   3,405 sqft  1ba  4bd         127 Manchester St, San Francisco, CA 94110   \n",
       "24               1ba  1bd          237 Greenwich St, San Francisco, CA 94133   \n",
       "25     845 sqft  1ba  2bd     1910 Divisadero St #4, San Francisco, CA 94115   \n",
       "26   2,940 sqft  1ba  4bd          2945 Lincoln Way, San Francisco, CA 94122   \n",
       "27   2,950 sqft  1ba  4bd             337 Warren Dr, San Francisco, CA 94131   \n",
       "28   1,350 sqft  1ba  3bd             174 Naples St, San Francisco, CA 94112   \n",
       "29   1,293 sqft  1ba  3bd        477 A Frederick St, San Francisco, CA 94117   \n",
       "30   1,019 sqft  1ba  2bd   8100 Oceanview Ter #114, San Francisco, CA 94132   \n",
       "31   2,345 sqft  1ba  3bd              3733 Clay St, San Francisco, CA 94118   \n",
       "32   1,294 sqft  1ba  3bd           99 Hillcrest Ct, San Francisco, CA 94127   \n",
       "33   3,770 sqft  1ba  4bd              701 Congo St, San Francisco, CA 94131   \n",
       "34   1,660 sqft  1ba  4bd           67-69 Deming St, San Francisco, CA 94114   \n",
       "35     896 sqft  1ba  3bd  3324-3330 19th St #3326A, San Francisco, CA 94110   \n",
       "36               1ba  1bd    2130 Leavenworth St #2, San Francisco, CA 94133   \n",
       "37   2,421 sqft  1ba  3bd          2210 Cecilia Ave, San Francisco, CA 94116   \n",
       "38   1,515 sqft  1ba  2bd            646 De Haro St, San Francisco, CA 94107   \n",
       "39     822 sqft  1ba  1bd       2245 Cabrillo St #3, San Francisco, CA 94121   \n",
       "\n",
       "       Price  \n",
       "0   $759,000  \n",
       "1   $759,000  \n",
       "2   $759,000  \n",
       "3   $759,000  \n",
       "4   $759,000  \n",
       "5   $759,000  \n",
       "6   $759,000  \n",
       "7   $759,000  \n",
       "8   $759,000  \n",
       "9   $759,000  \n",
       "10  $759,000  \n",
       "11  $759,000  \n",
       "12  $759,000  \n",
       "13  $759,000  \n",
       "14  $759,000  \n",
       "15  $759,000  \n",
       "16  $759,000  \n",
       "17  $759,000  \n",
       "18  $759,000  \n",
       "19  $759,000  \n",
       "20  $759,000  \n",
       "21  $759,000  \n",
       "22  $759,000  \n",
       "23  $759,000  \n",
       "24  $759,000  \n",
       "25  $759,000  \n",
       "26  $759,000  \n",
       "27  $759,000  \n",
       "28  $759,000  \n",
       "29  $759,000  \n",
       "30  $759,000  \n",
       "31  $759,000  \n",
       "32  $759,000  \n",
       "33  $759,000  \n",
       "34  $759,000  \n",
       "35  $759,000  \n",
       "36  $759,000  \n",
       "37  $759,000  \n",
       "38  $759,000  \n",
       "39  $759,000  "
      ]
     },
     "execution_count": 100,
     "metadata": {},
     "output_type": "execute_result"
    }
   ],
   "source": [
    "pd.DataFrame({'area':area1,'Bath':baths,'Bed':beds,'Bath':baths,'Location':address,'Price':price})"
   ]
  },
  {
   "cell_type": "code",
   "execution_count": null,
   "id": "bfca9091",
   "metadata": {},
   "outputs": [],
   "source": []
  },
  {
   "cell_type": "code",
   "execution_count": null,
   "id": "1a01c044",
   "metadata": {},
   "outputs": [],
   "source": []
  },
  {
   "cell_type": "markdown",
   "id": "41c9d34d",
   "metadata": {},
   "source": [
    "# scarping multiple pages"
   ]
  },
  {
   "cell_type": "code",
   "execution_count": 101,
   "id": "5e81999f",
   "metadata": {},
   "outputs": [],
   "source": [
    "website='https://www.trulia.com/NY/New_York'\n",
    "response=requests.get(website)"
   ]
  },
  {
   "cell_type": "code",
   "execution_count": 102,
   "id": "083c55de",
   "metadata": {},
   "outputs": [
    {
     "data": {
      "text/plain": [
       "200"
      ]
     },
     "execution_count": 102,
     "metadata": {},
     "output_type": "execute_result"
    }
   ],
   "source": [
    "response.status_code"
   ]
  },
  {
   "cell_type": "code",
   "execution_count": 112,
   "id": "d28ff931",
   "metadata": {},
   "outputs": [
    {
     "name": "stdout",
     "output_type": "stream",
     "text": [
      "https://www.trulia.com/NY/New_York0_p\n",
      "https://www.trulia.com/NY/New_York1_p\n",
      "https://www.trulia.com/NY/New_York2_p\n",
      "https://www.trulia.com/NY/New_York3_p\n",
      "https://www.trulia.com/NY/New_York4_p\n",
      "https://www.trulia.com/NY/New_York5_p\n",
      "https://www.trulia.com/NY/New_York6_p\n",
      "https://www.trulia.com/NY/New_York7_p\n",
      "https://www.trulia.com/NY/New_York8_p\n",
      "https://www.trulia.com/NY/New_York9_p\n"
     ]
    }
   ],
   "source": [
    "for i in range(10):\n",
    "    website='https://www.trulia.com/NY/New_York'+ str(i)+'_p'\n",
    "    print(website)"
   ]
  },
  {
   "cell_type": "code",
   "execution_count": 122,
   "id": "5aa84eb5",
   "metadata": {},
   "outputs": [],
   "source": [
    "df=pd.DataFrame(columns=['Price','Bath','Address','Beds','Area'])\n",
    "for i in range(10):  # scraping first 10 pages\n",
    "    website='https://www.trulia.com/NY/New_York'+ str(i)+ '_p'\n",
    "    soup=BeautifulSoup(response.content,'html.parser')\n",
    "    result=soup.find_all('li',class_='SearchResultsList__WideCell-b7y9ki-2')\n",
    "    final_result=[res for res in result if res.has_attr('data-testid')]\n",
    "    price=[result.find('div',{'data-testid':'property-price'}).text for result in final_result]\n",
    "    bath=[result.find('div',{'data-testid':'property-baths'}).text for result in final_result]\n",
    "    address=[result.find('div',{'data-testid':'property-address'}).text for result in final_result]\n",
    "    beds=[result.find('div',{'data-testid':'property-beds'}).text for result in final_result]\n",
    "    area1=[]\n",
    "    for item in range(len(final_result)):\n",
    "\n",
    "        try:\n",
    "            area=final_result[item].find('div',{'data-testid':'property-floorSpace'}).text\n",
    "            area1.append(area)\n",
    "        except:\n",
    "            area1.append(' ')\n",
    "    for k in range(len(bath)):\n",
    "        df=df.append({'Price':price[k],'Bath':bath[k],'Address':address[k],'Beds':beds[k],'Area':area1[k]},ignore_index=True)\n",
    "    #print(bath)\n",
    "            \n",
    "        \n"
   ]
  },
  {
   "cell_type": "code",
   "execution_count": 123,
   "id": "75517434",
   "metadata": {},
   "outputs": [
    {
     "data": {
      "text/html": [
       "<div>\n",
       "<style scoped>\n",
       "    .dataframe tbody tr th:only-of-type {\n",
       "        vertical-align: middle;\n",
       "    }\n",
       "\n",
       "    .dataframe tbody tr th {\n",
       "        vertical-align: top;\n",
       "    }\n",
       "\n",
       "    .dataframe thead th {\n",
       "        text-align: right;\n",
       "    }\n",
       "</style>\n",
       "<table border=\"1\" class=\"dataframe\">\n",
       "  <thead>\n",
       "    <tr style=\"text-align: right;\">\n",
       "      <th></th>\n",
       "      <th>Price</th>\n",
       "      <th>Bath</th>\n",
       "      <th>Address</th>\n",
       "      <th>Beds</th>\n",
       "      <th>Area</th>\n",
       "    </tr>\n",
       "  </thead>\n",
       "  <tbody>\n",
       "    <tr>\n",
       "      <th>0</th>\n",
       "      <td>$169,000,000</td>\n",
       "      <td>9ba</td>\n",
       "      <td>432 Park Ave #PENTHOUSE, New York, NY 10022</td>\n",
       "      <td>6bd</td>\n",
       "      <td>8,255 sqft</td>\n",
       "    </tr>\n",
       "    <tr>\n",
       "      <th>1</th>\n",
       "      <td>$329,000</td>\n",
       "      <td>3ba</td>\n",
       "      <td>303 E 57th St #32B, New York, NY 10022</td>\n",
       "      <td>2bd</td>\n",
       "      <td>1,800 sqft</td>\n",
       "    </tr>\n",
       "    <tr>\n",
       "      <th>2</th>\n",
       "      <td>$495,000</td>\n",
       "      <td>4ba</td>\n",
       "      <td>303 E 57th St #37DE, New York, NY 10022</td>\n",
       "      <td>4bd</td>\n",
       "      <td></td>\n",
       "    </tr>\n",
       "    <tr>\n",
       "      <th>3</th>\n",
       "      <td>$119,000</td>\n",
       "      <td>1ba</td>\n",
       "      <td>100 W 57th St #19M, New York, NY 10019</td>\n",
       "      <td>Studio</td>\n",
       "      <td>450 sqft</td>\n",
       "    </tr>\n",
       "    <tr>\n",
       "      <th>4</th>\n",
       "      <td>$995,000</td>\n",
       "      <td>3ba</td>\n",
       "      <td>26 Lortel Ave, Staten Island, NY 10314</td>\n",
       "      <td>4bd</td>\n",
       "      <td>1,274 sqft</td>\n",
       "    </tr>\n",
       "    <tr>\n",
       "      <th>...</th>\n",
       "      <td>...</td>\n",
       "      <td>...</td>\n",
       "      <td>...</td>\n",
       "      <td>...</td>\n",
       "      <td>...</td>\n",
       "    </tr>\n",
       "    <tr>\n",
       "      <th>395</th>\n",
       "      <td>$1,800,000</td>\n",
       "      <td>2ba</td>\n",
       "      <td>539 4th St #3L, Brooklyn, NY 11215</td>\n",
       "      <td>3bd</td>\n",
       "      <td>1,722 sqft</td>\n",
       "    </tr>\n",
       "    <tr>\n",
       "      <th>396</th>\n",
       "      <td>$900,000</td>\n",
       "      <td>3ba</td>\n",
       "      <td>1815 Newkirk Ave, Brooklyn, NY 11226</td>\n",
       "      <td>4bd</td>\n",
       "      <td>3,034 sqft</td>\n",
       "    </tr>\n",
       "    <tr>\n",
       "      <th>397</th>\n",
       "      <td>$300,000</td>\n",
       "      <td>3ba</td>\n",
       "      <td>10727 155th St, Jamaica, NY 11433</td>\n",
       "      <td>6bd</td>\n",
       "      <td>3,120 sqft</td>\n",
       "    </tr>\n",
       "    <tr>\n",
       "      <th>398</th>\n",
       "      <td>$675,000</td>\n",
       "      <td>3ba</td>\n",
       "      <td>105 Rugby Ave, Staten Island, NY 10301</td>\n",
       "      <td>3bd</td>\n",
       "      <td>1,344 sqft</td>\n",
       "    </tr>\n",
       "    <tr>\n",
       "      <th>399</th>\n",
       "      <td>$199,000</td>\n",
       "      <td>1ba</td>\n",
       "      <td>2239 Troy Ave #5N, Brooklyn, NY 11234</td>\n",
       "      <td>2bd</td>\n",
       "      <td>1,000 sqft</td>\n",
       "    </tr>\n",
       "  </tbody>\n",
       "</table>\n",
       "<p>400 rows × 5 columns</p>\n",
       "</div>"
      ],
      "text/plain": [
       "            Price Bath                                      Address    Beds  \\\n",
       "0    $169,000,000  9ba  432 Park Ave #PENTHOUSE, New York, NY 10022     6bd   \n",
       "1        $329,000  3ba       303 E 57th St #32B, New York, NY 10022     2bd   \n",
       "2        $495,000  4ba      303 E 57th St #37DE, New York, NY 10022     4bd   \n",
       "3        $119,000  1ba       100 W 57th St #19M, New York, NY 10019  Studio   \n",
       "4        $995,000  3ba       26 Lortel Ave, Staten Island, NY 10314     4bd   \n",
       "..            ...  ...                                          ...     ...   \n",
       "395    $1,800,000  2ba           539 4th St #3L, Brooklyn, NY 11215     3bd   \n",
       "396      $900,000  3ba         1815 Newkirk Ave, Brooklyn, NY 11226     4bd   \n",
       "397      $300,000  3ba            10727 155th St, Jamaica, NY 11433     6bd   \n",
       "398      $675,000  3ba       105 Rugby Ave, Staten Island, NY 10301     3bd   \n",
       "399      $199,000  1ba        2239 Troy Ave #5N, Brooklyn, NY 11234     2bd   \n",
       "\n",
       "           Area  \n",
       "0    8,255 sqft  \n",
       "1    1,800 sqft  \n",
       "2                \n",
       "3      450 sqft  \n",
       "4    1,274 sqft  \n",
       "..          ...  \n",
       "395  1,722 sqft  \n",
       "396  3,034 sqft  \n",
       "397  3,120 sqft  \n",
       "398  1,344 sqft  \n",
       "399  1,000 sqft  \n",
       "\n",
       "[400 rows x 5 columns]"
      ]
     },
     "execution_count": 123,
     "metadata": {},
     "output_type": "execute_result"
    }
   ],
   "source": [
    "df"
   ]
  },
  {
   "cell_type": "code",
   "execution_count": null,
   "id": "ac77fa98",
   "metadata": {},
   "outputs": [],
   "source": []
  }
 ],
 "metadata": {
  "kernelspec": {
   "display_name": "Python 3",
   "language": "python",
   "name": "python3"
  },
  "language_info": {
   "codemirror_mode": {
    "name": "ipython",
    "version": 3
   },
   "file_extension": ".py",
   "mimetype": "text/x-python",
   "name": "python",
   "nbconvert_exporter": "python",
   "pygments_lexer": "ipython3",
   "version": "3.8.8"
  }
 },
 "nbformat": 4,
 "nbformat_minor": 5
}
