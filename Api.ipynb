{
 "cells": [
  {
   "cell_type": "markdown",
   "id": "fd2e8c87",
   "metadata": {},
   "source": [
    "# Currency Convertor by using API"
   ]
  },
  {
   "cell_type": "markdown",
   "id": "1d0f1497",
   "metadata": {},
   "source": [
    "Here,I have used API of European Bank to exptract currency note"
   ]
  },
  {
   "cell_type": "code",
   "execution_count": 226,
   "id": "b5db72bc",
   "metadata": {},
   "outputs": [],
   "source": [
    "import requests\n",
    "import pandas as pd\n",
    "import json   # loading necessary packages"
   ]
  },
  {
   "cell_type": "code",
   "execution_count": 163,
   "id": "124605a9",
   "metadata": {},
   "outputs": [],
   "source": [
    "src='http://api.exchangeratesapi.io/v1/latest?access_key=ab0abda31c9910c3625f1164d9cb1a2f'  # this is webiste"
   ]
  },
  {
   "cell_type": "code",
   "execution_count": 9,
   "id": "765a9708",
   "metadata": {},
   "outputs": [],
   "source": [
    "response=requests.get(src)"
   ]
  },
  {
   "cell_type": "code",
   "execution_count": 10,
   "id": "2990c2c1",
   "metadata": {},
   "outputs": [
    {
     "data": {
      "text/plain": [
       "200"
      ]
     },
     "execution_count": 10,
     "metadata": {},
     "output_type": "execute_result"
    }
   ],
   "source": [
    "response.status_code  # check the response"
   ]
  },
  {
   "cell_type": "code",
   "execution_count": 14,
   "id": "17f63f78",
   "metadata": {},
   "outputs": [
    {
     "name": "stdout",
     "output_type": "stream",
     "text": [
      "{\n",
      "    \"success\": true,\n",
      "    \"timestamp\": 1635269778,\n",
      "    \"base\": \"EUR\",\n",
      "    \"date\": \"2021-10-26\",\n",
      "    \"rates\": {\n",
      "        \"AED\": 4.2589,\n",
      "        \"AFN\": 105.452122,\n",
      "        \"ALL\": 122.177139,\n",
      "        \"AMD\": 552.721886,\n",
      "        \"ANG\": 2.089556,\n",
      "        \"AOA\": 692.202387,\n",
      "        \"ARS\": 115.4211,\n",
      "        \"AUD\": 1.545769,\n",
      "        \"AWG\": 2.087011,\n",
      "        \"AZN\": 1.96964,\n",
      "        \"BAM\": 1.951027,\n",
      "        \"BBD\": 2.340937,\n",
      "        \"BDT\": 99.275116,\n",
      "        \"BGN\": 1.955986,\n",
      "        \"BHD\": 0.43714,\n",
      "        \"BIF\": 2318.901073,\n",
      "        \"BMD\": 1.159451,\n",
      "        \"BND\": 1.56003,\n",
      "        \"BOB\": 8.005522,\n",
      "        \"BRL\": 6.460343,\n",
      "        \"BSD\": 1.159346,\n",
      "        \"BTC\": 1.8597555e-05,\n",
      "        \"BTN\": 86.93261,\n",
      "        \"BWP\": 12.997701,\n",
      "        \"BYN\": 2.797413,\n",
      "        \"BYR\": 22725.230513,\n",
      "        \"BZD\": 2.336947,\n",
      "        \"CAD\": 1.435753,\n",
      "        \"CDF\": 2335.133592,\n",
      "        \"CHF\": 1.066346,\n",
      "        \"CLF\": 0.033847,\n",
      "        \"CLP\": 933.914633,\n",
      "        \"CNY\": 7.400785,\n",
      "        \"COP\": 4373.447423,\n",
      "        \"CRC\": 729.992823,\n",
      "        \"CUC\": 1.159451,\n",
      "        \"CUP\": 30.725439,\n",
      "        \"CVE\": 110.497137,\n",
      "        \"CZK\": 25.688815,\n",
      "        \"DJF\": 206.057676,\n",
      "        \"DKK\": 7.439383,\n",
      "        \"DOP\": 65.451068,\n",
      "        \"DZD\": 158.641073,\n",
      "        \"EGP\": 18.213344,\n",
      "        \"ERN\": 17.393195,\n",
      "        \"ETB\": 54.435863,\n",
      "        \"EUR\": 1,\n",
      "        \"FJD\": 2.411554,\n",
      "        \"FKP\": 0.850135,\n",
      "        \"GBP\": 0.842399,\n",
      "        \"GEL\": 3.640893,\n",
      "        \"GGP\": 0.850135,\n",
      "        \"GHS\": 7.084541,\n",
      "        \"GIP\": 0.850135,\n",
      "        \"GMD\": 60.349613,\n",
      "        \"GNF\": 11188.697436,\n",
      "        \"GTQ\": 8.970815,\n",
      "        \"GYD\": 242.480942,\n",
      "        \"HKD\": 9.015574,\n",
      "        \"HNL\": 28.023806,\n",
      "        \"HRK\": 7.52254,\n",
      "        \"HTG\": 117.098713,\n",
      "        \"HUF\": 364.798283,\n",
      "        \"IDR\": 16405.877255,\n",
      "        \"ILS\": 3.709081,\n",
      "        \"IMP\": 0.850135,\n",
      "        \"INR\": 86.910673,\n",
      "        \"IQD\": 1692.797783,\n",
      "        \"IRR\": 48986.785523,\n",
      "        \"ISK\": 150.067789,\n",
      "        \"JEP\": 0.850135,\n",
      "        \"JMD\": 178.337948,\n",
      "        \"JOD\": 0.822099,\n",
      "        \"JPY\": 132.326933,\n",
      "        \"KES\": 128.872717,\n",
      "        \"KGS\": 98.308764,\n",
      "        \"KHR\": 4731.717797,\n",
      "        \"KMF\": 491.95753,\n",
      "        \"KPW\": 1043.505135,\n",
      "        \"KRW\": 1353.948428,\n",
      "        \"KWD\": 0.349748,\n",
      "        \"KYD\": 0.966121,\n",
      "        \"KZT\": 493.724494,\n",
      "        \"LAK\": 11855.381709,\n",
      "        \"LBP\": 1778.597027,\n",
      "        \"LKR\": 233.615245,\n",
      "        \"LRD\": 176.526252,\n",
      "        \"LSL\": 17.049696,\n",
      "        \"LTL\": 3.423556,\n",
      "        \"LVL\": 0.701341,\n",
      "        \"LYD\": 5.275158,\n",
      "        \"MAD\": 10.522596,\n",
      "        \"MDL\": 20.329949,\n",
      "        \"MGA\": 4600.120657,\n",
      "        \"MKD\": 61.463682,\n",
      "        \"MMK\": 2162.247391,\n",
      "        \"MNT\": 3305.505879,\n",
      "        \"MOP\": 9.285659,\n",
      "        \"MRO\": 413.923642,\n",
      "        \"MUR\": 49.74113,\n",
      "        \"MVR\": 17.913515,\n",
      "        \"MWK\": 944.951961,\n",
      "        \"MXN\": 23.417017,\n",
      "        \"MYR\": 4.808823,\n",
      "        \"MZN\": 74.00746,\n",
      "        \"NAD\": 17.049698,\n",
      "        \"NGN\": 475.653319,\n",
      "        \"NIO\": 40.841672,\n",
      "        \"NOK\": 9.696166,\n",
      "        \"NPR\": 139.120298,\n",
      "        \"NZD\": 1.619412,\n",
      "        \"OMR\": 0.446378,\n",
      "        \"PAB\": 1.159346,\n",
      "        \"PEN\": 4.6291,\n",
      "        \"PGK\": 4.098623,\n",
      "        \"PHP\": 58.920378,\n",
      "        \"PKR\": 202.758928,\n",
      "        \"PLN\": 4.606242,\n",
      "        \"PYG\": 8003.296599,\n",
      "        \"QAR\": 4.221518,\n",
      "        \"RON\": 4.948998,\n",
      "        \"RSD\": 117.281264,\n",
      "        \"RUB\": 80.722804,\n",
      "        \"RWF\": 1159.450536,\n",
      "        \"SAR\": 4.348963,\n",
      "        \"SBD\": 9.305435,\n",
      "        \"SCR\": 14.84777,\n",
      "        \"SDG\": 510.715996,\n",
      "        \"SEK\": 9.989095,\n",
      "        \"SGD\": 1.562591,\n",
      "        \"SHP\": 1.597031,\n",
      "        \"SLL\": 12498.877185,\n",
      "        \"SOS\": 679.437922,\n",
      "        \"SRD\": 24.925882,\n",
      "        \"STD\": 23998.285182,\n",
      "        \"SVC\": 10.144026,\n",
      "        \"SYP\": 1457.396887,\n",
      "        \"SZL\": 17.055005,\n",
      "        \"THB\": 38.516787,\n",
      "        \"TJS\": 13.048975,\n",
      "        \"TMT\": 4.063874,\n",
      "        \"TND\": 3.269906,\n",
      "        \"TOP\": 2.594793,\n",
      "        \"TRY\": 11.061366,\n",
      "        \"TTD\": 7.869526,\n",
      "        \"TWD\": 32.236781,\n",
      "        \"TZS\": 2672.533214,\n",
      "        \"UAH\": 30.627897,\n",
      "        \"UGX\": 4123.94721,\n",
      "        \"USD\": 1.159451,\n",
      "        \"UYU\": 50.891271,\n",
      "        \"UZS\": 12411.91784,\n",
      "        \"VEF\": 247925565986.4435,\n",
      "        \"VND\": 26387.355032,\n",
      "        \"VUV\": 130.202159,\n",
      "        \"WST\": 2.987896,\n",
      "        \"XAF\": 654.340429,\n",
      "        \"XAG\": 0.048193,\n",
      "        \"XAU\": 0.000647,\n",
      "        \"XCD\": 3.133473,\n",
      "        \"XDR\": 0.819675,\n",
      "        \"XOF\": 655.67392,\n",
      "        \"XPF\": 119.684299,\n",
      "        \"YER\": 290.152016,\n",
      "        \"ZAR\": 17.206536,\n",
      "        \"ZMK\": 10436.42185,\n",
      "        \"ZMW\": 19.883548,\n",
      "        \"ZWL\": 373.3426\n",
      "    }\n",
      "}\n"
     ]
    }
   ],
   "source": [
    "print(json.dumps(response.json(),indent=4))  # this is output"
   ]
  },
  {
   "cell_type": "code",
   "execution_count": 15,
   "id": "0e6acb57",
   "metadata": {},
   "outputs": [
    {
     "data": {
      "text/plain": [
       "dict_keys(['success', 'timestamp', 'base', 'date', 'rates'])"
      ]
     },
     "execution_count": 15,
     "metadata": {},
     "output_type": "execute_result"
    }
   ],
   "source": [
    "response.json().keys()   # since this is dictinary with 5 keys"
   ]
  },
  {
   "cell_type": "code",
   "execution_count": 92,
   "id": "935b5a62",
   "metadata": {},
   "outputs": [
    {
     "data": {
      "text/plain": [
       "'http://api.exchangeratesapi.io/v1/latest?access_key=ab0abda31c9910c3625f1164d9cb1a2f&symbols=NPR'"
      ]
     },
     "execution_count": 92,
     "metadata": {},
     "output_type": "execute_result"
    }
   ],
   "source": [
    "url=src+ '&symbols=NPR'  # I want only NPR,which is Nepal currency\n",
    "url"
   ]
  },
  {
   "cell_type": "code",
   "execution_count": 96,
   "id": "63ef1d1d",
   "metadata": {},
   "outputs": [],
   "source": [
    "response=requests.get(url)"
   ]
  },
  {
   "cell_type": "code",
   "execution_count": 97,
   "id": "e725d6b8",
   "metadata": {},
   "outputs": [
    {
     "data": {
      "text/plain": [
       "{'success': True,\n",
       " 'timestamp': 1635273064,\n",
       " 'base': 'EUR',\n",
       " 'date': '2021-10-26',\n",
       " 'rates': {'NPR': 139.16911}}"
      ]
     },
     "execution_count": 97,
     "metadata": {},
     "output_type": "execute_result"
    }
   ],
   "source": [
    "data=response.json()  # so we get now only Nepalese currency interms of Euro.Here EUR is base currency\n",
    "data"
   ]
  },
  {
   "cell_type": "code",
   "execution_count": 205,
   "id": "5993dcdc",
   "metadata": {},
   "outputs": [],
   "source": [
    "def currency_convert(date,C,qty=1):\n",
    "    \"\"\" currency convertor that change Euro into respect currency,\n",
    "    C=currency that you want to convert EURO into\n",
    "    qty=Qunatity(How much money do you want convert\"\"\"\n",
    "    src='http://api.exchangeratesapi.io/v1/'+date+'?access_key=ab0abda31c9910c3625f1164d9cb1a2f'+'&symbols='+C\n",
    "    response=requests.get(src)\n",
    "    data=response.json()\n",
    "    #print(data['rates'][C]*qty)\n",
    "    #print(np.round(data['rates'][C]*qty))\n",
    "    print(qty,'EUR gives money',np.round(data['rates'][C]*qty,2),C,'on date',date)"
   ]
  },
  {
   "cell_type": "code",
   "execution_count": 206,
   "id": "8a065921",
   "metadata": {},
   "outputs": [
    {
     "name": "stdout",
     "output_type": "stream",
     "text": [
      "1 EUR gives money 139.19 NPR on date latest\n"
     ]
    }
   ],
   "source": [
    "currency_convert('latest','NPR') # this convert euro to nepalese currency corresponding to today's data\n",
    "# here latest means today"
   ]
  },
  {
   "cell_type": "code",
   "execution_count": 207,
   "id": "1ec5013b",
   "metadata": {},
   "outputs": [
    {
     "name": "stdout",
     "output_type": "stream",
     "text": [
      "23 EUR gives money 3117.21 NPR on date 2013-12-26\n"
     ]
    }
   ],
   "source": [
    "currency_convert('2013-12-26','NPR',23)\n",
    "#convert 23 euro to nepalese currency at date '2013-12-26'"
   ]
  },
  {
   "cell_type": "code",
   "execution_count": 212,
   "id": "9ac11abd",
   "metadata": {},
   "outputs": [
    {
     "name": "stdout",
     "output_type": "stream",
     "text": [
      "1 EUR gives money 1.18 USD on date 2020-10-26\n"
     ]
    }
   ],
   "source": [
    "currency_convert('2020-10-26','USD') # euro to american dollar"
   ]
  },
  {
   "cell_type": "code",
   "execution_count": 209,
   "id": "b3d77036",
   "metadata": {},
   "outputs": [
    {
     "name": "stdout",
     "output_type": "stream",
     "text": [
      "70 EUR gives money 6087.93 INR on date latest\n"
     ]
    }
   ],
   "source": [
    "currency_convert(date,'INR',qty=70) # 70 euro to indian currency"
   ]
  },
  {
   "cell_type": "code",
   "execution_count": 210,
   "id": "0de441ac",
   "metadata": {},
   "outputs": [
    {
     "name": "stdout",
     "output_type": "stream",
     "text": [
      "23 EUR gives money 3117.21 NPR on date 2013-12-26\n"
     ]
    }
   ],
   "source": [
    "currency_convert('2013-12-26','NPR',23) # 23 euro to nepalese currency"
   ]
  },
  {
   "cell_type": "code",
   "execution_count": 211,
   "id": "a0828022",
   "metadata": {},
   "outputs": [
    {
     "name": "stdout",
     "output_type": "stream",
     "text": [
      "23 EUR gives money 32.32 CAD on date 2000-12-26\n"
     ]
    }
   ],
   "source": [
    "currency_convert('2000-12-26','CAD',23)  #23 euro to canadian dollar"
   ]
  },
  {
   "cell_type": "markdown",
   "id": "fbd42d1a",
   "metadata": {},
   "source": [
    "# iTunes search API"
   ]
  },
  {
   "cell_type": "code",
   "execution_count": 213,
   "id": "28b5912f",
   "metadata": {},
   "outputs": [],
   "source": [
    "url='https://itunes.apple.com/search'"
   ]
  },
  {
   "cell_type": "code",
   "execution_count": 215,
   "id": "0804a734",
   "metadata": {},
   "outputs": [],
   "source": [
    "response=requests.get(url)"
   ]
  },
  {
   "cell_type": "code",
   "execution_count": 216,
   "id": "f3fa9dbe",
   "metadata": {},
   "outputs": [
    {
     "data": {
      "text/plain": [
       "200"
      ]
     },
     "execution_count": 216,
     "metadata": {},
     "output_type": "execute_result"
    }
   ],
   "source": [
    "response.status_code"
   ]
  },
  {
   "cell_type": "code",
   "execution_count": 219,
   "id": "8a68585f",
   "metadata": {},
   "outputs": [
    {
     "data": {
      "text/plain": [
       "200"
      ]
     },
     "execution_count": 219,
     "metadata": {},
     "output_type": "execute_result"
    }
   ],
   "source": [
    "r=requests.get(url,params={'term':'beatles','country':'us'})\n",
    "r.status_code"
   ]
  },
  {
   "cell_type": "code",
   "execution_count": 251,
   "id": "c8b85276",
   "metadata": {},
   "outputs": [],
   "source": [
    "#info=r.json()\n",
    "#print(json.dumps(info,indent=4))"
   ]
  },
  {
   "cell_type": "code",
   "execution_count": 223,
   "id": "05188039",
   "metadata": {},
   "outputs": [
    {
     "data": {
      "text/plain": [
       "dict_keys(['resultCount', 'results'])"
      ]
     },
     "execution_count": 223,
     "metadata": {},
     "output_type": "execute_result"
    }
   ],
   "source": [
    "info.keys()"
   ]
  },
  {
   "cell_type": "code",
   "execution_count": 225,
   "id": "5393ec20",
   "metadata": {},
   "outputs": [
    {
     "name": "stdout",
     "output_type": "stream",
     "text": [
      "{\n",
      "    \"wrapperType\": \"audiobook\",\n",
      "    \"artistId\": 270708576,\n",
      "    \"collectionId\": 338505525,\n",
      "    \"amgArtistId\": 170505,\n",
      "    \"artistName\": \"Alan Clayson\",\n",
      "    \"collectionName\": \"George Harrison\",\n",
      "    \"collectionCensoredName\": \"George Harrison\",\n",
      "    \"artistViewUrl\": \"https://books.apple.com/us/author/alan-clayson/id270708576?uo=4\",\n",
      "    \"collectionViewUrl\": \"https://books.apple.com/us/audiobook/george-harrison/id338505525?uo=4\",\n",
      "    \"artworkUrl60\": \"https://is4-ssl.mzstatic.com/image/thumb/Music/7f/47/2a/mzi.mactdqeb.jpg/60x60bb.jpg\",\n",
      "    \"artworkUrl100\": \"https://is4-ssl.mzstatic.com/image/thumb/Music/7f/47/2a/mzi.mactdqeb.jpg/100x100bb.jpg\",\n",
      "    \"collectionPrice\": 7.99,\n",
      "    \"collectionExplicitness\": \"notExplicit\",\n",
      "    \"trackCount\": 1,\n",
      "    \"copyright\": \"\\u00a9 2007 Music Sales Corporation\",\n",
      "    \"country\": \"USA\",\n",
      "    \"currency\": \"USD\",\n",
      "    \"releaseDate\": \"2007-12-12T08:00:00Z\",\n",
      "    \"primaryGenreName\": \"Biographies & Memoirs\",\n",
      "    \"previewUrl\": \"https://audio-ssl.itunes.apple.com/itunes-assets/AudioPreview123/v4/0e/34/40/0e344038-389a-7b12-7d24-d6da0ea06d7c/mzaf_7683800266064038765.std.aac.p.m4a\",\n",
      "    \"description\": \"Often overlooked as a songwriter, despite penning The Beatles' standards \\\"Something\\\" and \\\"Here Comes the Sun\\\", and being the first of the four to release solo material, George Harrison embraced fame reluctantly, retiring from public life after the assassination of John Lennon. Launching a spectacular late-1980s comeback with The Traveling Wilburys, he returned as a household name for a new generation with the Anthology projects and 2000's best-selling <i>1</i> album.<br />This abridged version of <i>George Harrison</i> chronicles the life of  \\\"the quiet one\\\" right up to his recent unsuccessful battle with cancer.\"\n",
      "}\n"
     ]
    }
   ],
   "source": [
    "print(json.dumps(info['results'][0],indent=4))   "
   ]
  },
  {
   "cell_type": "code",
   "execution_count": 230,
   "id": "5f7e1f48",
   "metadata": {},
   "outputs": [
    {
     "data": {
      "text/html": [
       "<div>\n",
       "<style scoped>\n",
       "    .dataframe tbody tr th:only-of-type {\n",
       "        vertical-align: middle;\n",
       "    }\n",
       "\n",
       "    .dataframe tbody tr th {\n",
       "        vertical-align: top;\n",
       "    }\n",
       "\n",
       "    .dataframe thead th {\n",
       "        text-align: right;\n",
       "    }\n",
       "</style>\n",
       "<table border=\"1\" class=\"dataframe\">\n",
       "  <thead>\n",
       "    <tr style=\"text-align: right;\">\n",
       "      <th></th>\n",
       "      <th>wrapperType</th>\n",
       "      <th>artistId</th>\n",
       "      <th>collectionId</th>\n",
       "      <th>amgArtistId</th>\n",
       "      <th>artistName</th>\n",
       "      <th>collectionName</th>\n",
       "      <th>collectionCensoredName</th>\n",
       "      <th>artistViewUrl</th>\n",
       "      <th>collectionViewUrl</th>\n",
       "      <th>artworkUrl60</th>\n",
       "      <th>...</th>\n",
       "      <th>trackNumber</th>\n",
       "      <th>trackTimeMillis</th>\n",
       "      <th>contentAdvisoryRating</th>\n",
       "      <th>isStreamable</th>\n",
       "      <th>trackRentalPrice</th>\n",
       "      <th>collectionHdPrice</th>\n",
       "      <th>trackHdPrice</th>\n",
       "      <th>trackHdRentalPrice</th>\n",
       "      <th>longDescription</th>\n",
       "      <th>collectionArtistName</th>\n",
       "    </tr>\n",
       "  </thead>\n",
       "  <tbody>\n",
       "    <tr>\n",
       "      <th>0</th>\n",
       "      <td>audiobook</td>\n",
       "      <td>270708576.0</td>\n",
       "      <td>3.385055e+08</td>\n",
       "      <td>170505.0</td>\n",
       "      <td>Alan Clayson</td>\n",
       "      <td>George Harrison</td>\n",
       "      <td>George Harrison</td>\n",
       "      <td>https://books.apple.com/us/author/alan-clayson...</td>\n",
       "      <td>https://books.apple.com/us/audiobook/george-ha...</td>\n",
       "      <td>https://is4-ssl.mzstatic.com/image/thumb/Music...</td>\n",
       "      <td>...</td>\n",
       "      <td>NaN</td>\n",
       "      <td>NaN</td>\n",
       "      <td>NaN</td>\n",
       "      <td>NaN</td>\n",
       "      <td>NaN</td>\n",
       "      <td>NaN</td>\n",
       "      <td>NaN</td>\n",
       "      <td>NaN</td>\n",
       "      <td>NaN</td>\n",
       "      <td>NaN</td>\n",
       "    </tr>\n",
       "    <tr>\n",
       "      <th>1</th>\n",
       "      <td>audiobook</td>\n",
       "      <td>2093340.0</td>\n",
       "      <td>3.628129e+08</td>\n",
       "      <td>NaN</td>\n",
       "      <td>Jim Fleming</td>\n",
       "      <td>The Meaning of Life in 5 Easy Lessons (To the ...</td>\n",
       "      <td>The Meaning of Life in 5 Easy Lessons (To the ...</td>\n",
       "      <td>https://books.apple.com/us/author/jim-fleming/...</td>\n",
       "      <td>https://books.apple.com/us/audiobook/the-meani...</td>\n",
       "      <td>https://is4-ssl.mzstatic.com/image/thumb/Music...</td>\n",
       "      <td>...</td>\n",
       "      <td>NaN</td>\n",
       "      <td>NaN</td>\n",
       "      <td>NaN</td>\n",
       "      <td>NaN</td>\n",
       "      <td>NaN</td>\n",
       "      <td>NaN</td>\n",
       "      <td>NaN</td>\n",
       "      <td>NaN</td>\n",
       "      <td>NaN</td>\n",
       "      <td>NaN</td>\n",
       "    </tr>\n",
       "    <tr>\n",
       "      <th>2</th>\n",
       "      <td>audiobook</td>\n",
       "      <td>270708576.0</td>\n",
       "      <td>4.010906e+08</td>\n",
       "      <td>170505.0</td>\n",
       "      <td>Alan Clayson</td>\n",
       "      <td>Paul McCartney</td>\n",
       "      <td>Paul McCartney</td>\n",
       "      <td>https://books.apple.com/us/author/alan-clayson...</td>\n",
       "      <td>https://books.apple.com/us/audiobook/paul-mcca...</td>\n",
       "      <td>https://is2-ssl.mzstatic.com/image/thumb/Music...</td>\n",
       "      <td>...</td>\n",
       "      <td>NaN</td>\n",
       "      <td>NaN</td>\n",
       "      <td>NaN</td>\n",
       "      <td>NaN</td>\n",
       "      <td>NaN</td>\n",
       "      <td>NaN</td>\n",
       "      <td>NaN</td>\n",
       "      <td>NaN</td>\n",
       "      <td>NaN</td>\n",
       "      <td>NaN</td>\n",
       "    </tr>\n",
       "    <tr>\n",
       "      <th>3</th>\n",
       "      <td>track</td>\n",
       "      <td>829356035.0</td>\n",
       "      <td>1.440844e+09</td>\n",
       "      <td>NaN</td>\n",
       "      <td>Rae Sremmurd</td>\n",
       "      <td>SremmLife 2 (Deluxe)</td>\n",
       "      <td>SremmLife 2 (Deluxe)</td>\n",
       "      <td>https://music.apple.com/us/artist/rae-sremmurd...</td>\n",
       "      <td>https://music.apple.com/us/album/black-beatles...</td>\n",
       "      <td>https://is4-ssl.mzstatic.com/image/thumb/Music...</td>\n",
       "      <td>...</td>\n",
       "      <td>5.0</td>\n",
       "      <td>291891.0</td>\n",
       "      <td>Explicit</td>\n",
       "      <td>True</td>\n",
       "      <td>NaN</td>\n",
       "      <td>NaN</td>\n",
       "      <td>NaN</td>\n",
       "      <td>NaN</td>\n",
       "      <td>NaN</td>\n",
       "      <td>NaN</td>\n",
       "    </tr>\n",
       "    <tr>\n",
       "      <th>4</th>\n",
       "      <td>audiobook</td>\n",
       "      <td>270708576.0</td>\n",
       "      <td>3.385055e+08</td>\n",
       "      <td>170505.0</td>\n",
       "      <td>Alan Clayson</td>\n",
       "      <td>Ringo Starr</td>\n",
       "      <td>Ringo Starr</td>\n",
       "      <td>https://books.apple.com/us/author/alan-clayson...</td>\n",
       "      <td>https://books.apple.com/us/audiobook/ringo-sta...</td>\n",
       "      <td>https://is1-ssl.mzstatic.com/image/thumb/Music...</td>\n",
       "      <td>...</td>\n",
       "      <td>NaN</td>\n",
       "      <td>NaN</td>\n",
       "      <td>NaN</td>\n",
       "      <td>NaN</td>\n",
       "      <td>NaN</td>\n",
       "      <td>NaN</td>\n",
       "      <td>NaN</td>\n",
       "      <td>NaN</td>\n",
       "      <td>NaN</td>\n",
       "      <td>NaN</td>\n",
       "    </tr>\n",
       "  </tbody>\n",
       "</table>\n",
       "<p>5 rows × 41 columns</p>\n",
       "</div>"
      ],
      "text/plain": [
       "  wrapperType     artistId  collectionId  amgArtistId    artistName  \\\n",
       "0   audiobook  270708576.0  3.385055e+08     170505.0  Alan Clayson   \n",
       "1   audiobook    2093340.0  3.628129e+08          NaN   Jim Fleming   \n",
       "2   audiobook  270708576.0  4.010906e+08     170505.0  Alan Clayson   \n",
       "3       track  829356035.0  1.440844e+09          NaN  Rae Sremmurd   \n",
       "4   audiobook  270708576.0  3.385055e+08     170505.0  Alan Clayson   \n",
       "\n",
       "                                      collectionName  \\\n",
       "0                                    George Harrison   \n",
       "1  The Meaning of Life in 5 Easy Lessons (To the ...   \n",
       "2                                     Paul McCartney   \n",
       "3                               SremmLife 2 (Deluxe)   \n",
       "4                                        Ringo Starr   \n",
       "\n",
       "                              collectionCensoredName  \\\n",
       "0                                    George Harrison   \n",
       "1  The Meaning of Life in 5 Easy Lessons (To the ...   \n",
       "2                                     Paul McCartney   \n",
       "3                               SremmLife 2 (Deluxe)   \n",
       "4                                        Ringo Starr   \n",
       "\n",
       "                                       artistViewUrl  \\\n",
       "0  https://books.apple.com/us/author/alan-clayson...   \n",
       "1  https://books.apple.com/us/author/jim-fleming/...   \n",
       "2  https://books.apple.com/us/author/alan-clayson...   \n",
       "3  https://music.apple.com/us/artist/rae-sremmurd...   \n",
       "4  https://books.apple.com/us/author/alan-clayson...   \n",
       "\n",
       "                                   collectionViewUrl  \\\n",
       "0  https://books.apple.com/us/audiobook/george-ha...   \n",
       "1  https://books.apple.com/us/audiobook/the-meani...   \n",
       "2  https://books.apple.com/us/audiobook/paul-mcca...   \n",
       "3  https://music.apple.com/us/album/black-beatles...   \n",
       "4  https://books.apple.com/us/audiobook/ringo-sta...   \n",
       "\n",
       "                                        artworkUrl60  ... trackNumber  \\\n",
       "0  https://is4-ssl.mzstatic.com/image/thumb/Music...  ...         NaN   \n",
       "1  https://is4-ssl.mzstatic.com/image/thumb/Music...  ...         NaN   \n",
       "2  https://is2-ssl.mzstatic.com/image/thumb/Music...  ...         NaN   \n",
       "3  https://is4-ssl.mzstatic.com/image/thumb/Music...  ...         5.0   \n",
       "4  https://is1-ssl.mzstatic.com/image/thumb/Music...  ...         NaN   \n",
       "\n",
       "   trackTimeMillis contentAdvisoryRating  isStreamable trackRentalPrice  \\\n",
       "0              NaN                   NaN           NaN              NaN   \n",
       "1              NaN                   NaN           NaN              NaN   \n",
       "2              NaN                   NaN           NaN              NaN   \n",
       "3         291891.0              Explicit          True              NaN   \n",
       "4              NaN                   NaN           NaN              NaN   \n",
       "\n",
       "  collectionHdPrice trackHdPrice trackHdRentalPrice longDescription  \\\n",
       "0               NaN          NaN                NaN             NaN   \n",
       "1               NaN          NaN                NaN             NaN   \n",
       "2               NaN          NaN                NaN             NaN   \n",
       "3               NaN          NaN                NaN             NaN   \n",
       "4               NaN          NaN                NaN             NaN   \n",
       "\n",
       "  collectionArtistName  \n",
       "0                  NaN  \n",
       "1                  NaN  \n",
       "2                  NaN  \n",
       "3                  NaN  \n",
       "4                  NaN  \n",
       "\n",
       "[5 rows x 41 columns]"
      ]
     },
     "execution_count": 230,
     "metadata": {},
     "output_type": "execute_result"
    }
   ],
   "source": [
    "df=pd.DataFrame(info['results'])\n",
    "df.head()"
   ]
  }
 ],
 "metadata": {
  "kernelspec": {
   "display_name": "Python 3",
   "language": "python",
   "name": "python3"
  },
  "language_info": {
   "codemirror_mode": {
    "name": "ipython",
    "version": 3
   },
   "file_extension": ".py",
   "mimetype": "text/x-python",
   "name": "python",
   "nbconvert_exporter": "python",
   "pygments_lexer": "ipython3",
   "version": "3.8.8"
  }
 },
 "nbformat": 4,
 "nbformat_minor": 5
}
