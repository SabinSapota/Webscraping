{
 "cells": [
  {
   "cell_type": "markdown",
   "id": "b77b0bea",
   "metadata": {},
   "source": [
    "# Webscraping from car.com"
   ]
  },
  {
   "cell_type": "code",
   "execution_count": null,
   "id": "30624fc1",
   "metadata": {},
   "outputs": [],
   "source": [
    "import requests\n",
    "import pandas as pd\n",
    "from bs4 import BeautifulSoup"
   ]
  },
  {
   "cell_type": "code",
   "execution_count": 3,
   "id": "63372fab",
   "metadata": {},
   "outputs": [],
   "source": [
    "url='https://www.cars.com/shopping/results/?stock_type=all&makes%5B%5D=mercedes_benz&models%5B%5D=&list_price_max=&maximum_distance=20&zip='"
   ]
  },
  {
   "cell_type": "code",
   "execution_count": 4,
   "id": "8b549dfb",
   "metadata": {},
   "outputs": [],
   "source": [
    "response=requests.get(url)"
   ]
  },
  {
   "cell_type": "code",
   "execution_count": 5,
   "id": "03d6acfb",
   "metadata": {},
   "outputs": [
    {
     "data": {
      "text/plain": [
       "200"
      ]
     },
     "execution_count": 5,
     "metadata": {},
     "output_type": "execute_result"
    }
   ],
   "source": [
    "response.status_code"
   ]
  },
  {
   "cell_type": "code",
   "execution_count": 6,
   "id": "ff7fd282",
   "metadata": {},
   "outputs": [],
   "source": [
    "soup=BeautifulSoup(response.content,parser='html.parser') # create soup page"
   ]
  },
  {
   "cell_type": "code",
   "execution_count": 13,
   "id": "0447f512",
   "metadata": {},
   "outputs": [],
   "source": [
    "results=soup.find_all('div',class_='vehicle-details')   #extract all list present in page"
   ]
  },
  {
   "cell_type": "code",
   "execution_count": 14,
   "id": "693a24a8",
   "metadata": {},
   "outputs": [
    {
     "data": {
      "text/plain": [
       "20"
      ]
     },
     "execution_count": 14,
     "metadata": {},
     "output_type": "execute_result"
    }
   ],
   "source": [
    "len(results)  # we have 2o variable per page"
   ]
  },
  {
   "cell_type": "code",
   "execution_count": 15,
   "id": "d7e8d6c5",
   "metadata": {},
   "outputs": [
    {
     "data": {
      "text/plain": [
       "<div class=\"vehicle-details\">\n",
       "<div class=\"save-vehicle\">\n",
       "<div class=\"favorite\">\n",
       "<button class=\"heart\" data-activity-rule-type=\"custom\" data-component=\"save-vehicle-add\" data-index=\"1\" data-linkname=\"save-vehicle-sign-up\" data-listing-id=\"ec8de4b4-58fe-43cd-9bbc-60ac8d89c62a\" id=\"vehicle-heart-1\" onclick=\"event.preventDefault()\" phx-click=\"save_listing\" phx-hook=\"RecordSaveListingAction\" phx-target=\"83\" phx-value-is_vdp=\"false\" phx-value-listing_id=\"ec8de4b4-58fe-43cd-9bbc-60ac8d89c62a\">\n",
       "<svg class=\"sds-text-field__icon\" height=\"16\" width=\"16\"><use xlink:href=\"/svg/spritemap-9957805ae2a418ae7507c2b0e074f33e.svg?vsn=d#heart\"></use></svg>\n",
       "<span class=\"text\">Save</span>\n",
       "</button>\n",
       "</div>\n",
       "</div>\n",
       "<p class=\"stock-type\">Mercedes-Benz Certified</p>\n",
       "<a class=\"vehicle-card-link js-gallery-click-link\" data-activity-rule-type=\"page-over-page\" data-linkname=\"vehicle-listing\" href=\"/vehicledetail/ec8de4b4-58fe-43cd-9bbc-60ac8d89c62a/?results_page_number=1&amp;search_instance_id=2f382829-af84-4387-af6b-e3114351b887&amp;search_zipcode=&amp;sponsored%3F=false&amp;vertical_position=1\" rel=\"nofollow\">\n",
       "<h2 class=\"title\">2020 Mercedes-Benz GLE 350 Base 4MATIC</h2>\n",
       "</a>\n",
       "<div class=\"mileage\">22,464 mi.</div>\n",
       "<div class=\"price-section price-section-vehicle-card\">\n",
       "<span class=\"primary-price\">$62,987</span>\n",
       "</div>\n",
       "<div class=\"vehicle-badging\" data-click-intent-id=\"badges-explainer\" data-contents=\"{&quot;cpo_badge&quot;:true,&quot;home_delivery_badge&quot;:true,&quot;price_badge&quot;:{&quot;price_badge&quot;:&quot;similarly&quot;,&quot;price_badge_description&quot;:&quot;This car is fairly priced. Our analysis compares this car's price, features, and condition with similar 2020 GLE 350s.&quot;,&quot;price_badge_savings_icon_text&quot;:&quot;&quot;,&quot;price_badge_text&quot;:&quot;Fair&quot;,&quot;price_badge_text_lowercase&quot;:&quot;fair&quot;,&quot;price_savings_text&quot;:&quot;&quot;,&quot;svg_tag&quot;:&quot;&lt;svg class=\\&quot;sds-text-field__icon\\&quot; height=\\&quot;16\\&quot; width=\\&quot;16\\&quot;&gt;&lt;use xlink:href=\\&quot;/svg/spritemap-9957805ae2a418ae7507c2b0e074f33e.svg?vsn=d#arrow-right-thick\\&quot;&gt;&lt;/use&gt;&lt;/svg&gt;&quot;},&quot;href_to_vdp&quot;:{&quot;href_to_vdp&quot;:&quot;/vehicledetail/ec8de4b4-58fe-43cd-9bbc-60ac8d89c62a/?bodystyle=suv&amp;cpo_indicator=true&amp;customer_id=26708&amp;intent_id=badges-explainer&amp;listing_id=ec8de4b4-58fe-43cd-9bbc-60ac8d89c62a&amp;make=mercedes_benz&amp;model=gle+350&amp;model_year=2020&amp;msrp=71995&amp;price=62987&amp;sponsored%3F=false&amp;stock_type=used&amp;trim=base+4matic&quot;}}\" data-override-payload='{\"bodystyle\":\"suv\",\"cpo_indicator\":true,\"customer_id\":\"26708\",\"horizontal_position\":null,\"listing_id\":\"ec8de4b4-58fe-43cd-9bbc-60ac8d89c62a\",\"make\":\"mercedes_benz\",\"model\":\"gle 350\",\"model_year\":\"2020\",\"msrp\":\"71995\",\"price\":\"62987\",\"results_page_number\":1,\"sponsored?\":false,\"stock_type\":\"used\",\"trim\":\"base 4matic\",\"vertical_position\":1,\"web_page_type_from\":\"shopping/search-results\"}' data-target=\"#sds-modal\" data-toggle=\"expanda-modal\" tabindex=\"0\">\n",
       "<div aria-label=\"price_badge\" class=\"sds-badge sds-badge--icon sds-badge--fair js-price-badging\" data-linkname=\"price-badge-fair\">\n",
       "<div class=\"sds-badge__icon\">\n",
       "<svg class=\"sds-text-field__icon\" height=\"16\" width=\"16\"><use xlink:href=\"/svg/spritemap-9957805ae2a418ae7507c2b0e074f33e.svg?vsn=d#arrow-right-thick\"></use></svg>\n",
       "</div>\n",
       "<span class=\"sds-badge__label\">Fair Deal<span class=\"sds-badge--price-savings\"></span></span>\n",
       "</div>\n",
       "<div class=\"sds-badge sds-badge--cpo\">\n",
       "<span class=\"sds-badge__label\">CPO Warrantied</span>\n",
       "</div>\n",
       "<div class=\"sds-badge sds-badge--home-delivery\">\n",
       "<span class=\"sds-badge__label\">Home Delivery</span>\n",
       "</div>\n",
       "</div>\n",
       "<div class=\"vehicle-links external-links\">\n",
       "<div class=\"vehicle-deeplink\">\n",
       "<a aria-describedby=\"new-tab-link\" aria-label=\"Free CARFAX 1-Owner Report, External link\" class=\"sds-link--ext\" data-intent-id=\"srp-vehicle-history-report\" data-linkname=\"vehicle-history\" data-override-payload='{\"page_url\":\"https://www.carfax.com/VehicleHistory/ar20/qggIDydseZAxOL-n-U24cnAgSwSpa7X3PTjbLfo9yw6IglzaVSRrS_h7Z4z02rAyccSTkR6-Bpda5VoZXCM0DuUHG-_kS_JIu74\"}' href=\"/external/carfax/?redirect=https%3A%2F%2Fwww.carfax.com%2FVehicleHistory%2Far20%2FqggIDydseZAxOL-n-U24cnAgSwSpa7X3PTjbLfo9yw6IglzaVSRrS_h7Z4z02rAyccSTkR6-Bpda5VoZXCM0DuUHG-_kS_JIu74\" rel=\"noopener nofollow\" target=\"_blank\">Free CARFAX 1-Owner Report<svg class=\"sds-text-field__icon\" height=\"16\" width=\"16\"><use xlink:href=\"/svg/spritemap-9957805ae2a418ae7507c2b0e074f33e.svg?vsn=d#arrow-up-right\"></use></svg></a>\n",
       "</div>\n",
       "</div>\n",
       "<div class=\"vehicle-dealer\">\n",
       "<div class=\"dealer-name\">\n",
       "<strong>Mercedes-Benz Of Tacoma</strong>\n",
       "</div>\n",
       "<div class=\"sds-rating\">\n",
       "<span class=\"sds-rating__count\">4.5</span>\n",
       "<div class=\"sds-rating__wrapper\">\n",
       "<span class=\"sds-rating__item sds-icon--filled\">\n",
       "<svg fill=\"none\" height=\"24\" stroke=\"#000000\" viewbox=\"0 0 24 24\" width=\"24\" xmlns=\"http://www.w3.org/2000/svg\">\n",
       "<polygon points=\"12 2 15.09 8.26 22 9.27 17 14.14 18.18 21.02 12 17.77 5.82 21.02 7 14.14 2 9.27 8.91 8.26 12 2\" stroke-linecap=\"round\" stroke-linejoin=\"round\" stroke-width=\"2\"></polygon>\n",
       "</svg>\n",
       "</span>\n",
       "<span class=\"sds-rating__item sds-icon--filled\">\n",
       "<svg fill=\"none\" height=\"24\" stroke=\"#000000\" viewbox=\"0 0 24 24\" width=\"24\" xmlns=\"http://www.w3.org/2000/svg\">\n",
       "<polygon points=\"12 2 15.09 8.26 22 9.27 17 14.14 18.18 21.02 12 17.77 5.82 21.02 7 14.14 2 9.27 8.91 8.26 12 2\" stroke-linecap=\"round\" stroke-linejoin=\"round\" stroke-width=\"2\"></polygon>\n",
       "</svg>\n",
       "</span>\n",
       "<span class=\"sds-rating__item sds-icon--filled\">\n",
       "<svg fill=\"none\" height=\"24\" stroke=\"#000000\" viewbox=\"0 0 24 24\" width=\"24\" xmlns=\"http://www.w3.org/2000/svg\">\n",
       "<polygon points=\"12 2 15.09 8.26 22 9.27 17 14.14 18.18 21.02 12 17.77 5.82 21.02 7 14.14 2 9.27 8.91 8.26 12 2\" stroke-linecap=\"round\" stroke-linejoin=\"round\" stroke-width=\"2\"></polygon>\n",
       "</svg>\n",
       "</span>\n",
       "<span class=\"sds-rating__item sds-icon--filled\">\n",
       "<svg fill=\"none\" height=\"24\" stroke=\"#000000\" viewbox=\"0 0 24 24\" width=\"24\" xmlns=\"http://www.w3.org/2000/svg\">\n",
       "<polygon points=\"12 2 15.09 8.26 22 9.27 17 14.14 18.18 21.02 12 17.77 5.82 21.02 7 14.14 2 9.27 8.91 8.26 12 2\" stroke-linecap=\"round\" stroke-linejoin=\"round\" stroke-width=\"2\"></polygon>\n",
       "</svg>\n",
       "</span>\n",
       "<span class=\"sds-rating__item sds-icon--half\">\n",
       "<svg fill=\"none\" height=\"24\" stroke=\"#000000\" viewbox=\"0 0 24 24\" width=\"24\" xmlns=\"http://www.w3.org/2000/svg\">\n",
       "<defs>\n",
       "<lineargradient id=\"linear\" x1=\"0%\" x2=\"100%\" y1=\"0%\" y2=\"0%\">\n",
       "<stop offset=\"0%\" stop-color=\"#532380\"></stop>\n",
       "<stop offset=\"50%\" stop-color=\"#532380\"></stop>\n",
       "<stop offset=\"50%\" stop-color=\"transparent\"></stop>\n",
       "<stop offset=\"100%\" stop-color=\"transparent\"></stop>\n",
       "</lineargradient>\n",
       "</defs>\n",
       "<polygon points=\"12 2 15.09 8.26 22 9.27 17 14.14 18.18 21.02 12 17.77 5.82 21.02 7 14.14 2 9.27 8.91 8.26 12 2\" stroke-linecap=\"round\" stroke-linejoin=\"round\" stroke-width=\"2\"></polygon>\n",
       "</svg>\n",
       "</span>\n",
       "</div>\n",
       "<span class=\"sds-rating__link sds-button-link\">(2,715 reviews)</span>\n",
       "</div>\n",
       "<div class=\"miles-from hidden\"> mi. from </div>\n",
       "</div>\n",
       "<div class=\"miles-from hidden\"> mi. from </div>\n",
       "</div>"
      ]
     },
     "execution_count": 15,
     "metadata": {},
     "output_type": "execute_result"
    }
   ],
   "source": [
    "results[0]  # extract first element of the list"
   ]
  },
  {
   "cell_type": "code",
   "execution_count": 18,
   "id": "38510132",
   "metadata": {},
   "outputs": [
    {
     "data": {
      "text/plain": [
       "'2020 Mercedes-Benz GLE 350 Base 4MATIC'"
      ]
     },
     "execution_count": 18,
     "metadata": {},
     "output_type": "execute_result"
    }
   ],
   "source": [
    "#name of car\n",
    "results[0].find('h2').text"
   ]
  },
  {
   "cell_type": "code",
   "execution_count": 21,
   "id": "bbed32c4",
   "metadata": {},
   "outputs": [
    {
     "data": {
      "text/plain": [
       "'22,464 mi.'"
      ]
     },
     "execution_count": 21,
     "metadata": {},
     "output_type": "execute_result"
    }
   ],
   "source": [
    "#milage of car\n",
    "results[0].find('div',class_='mileage').text"
   ]
  },
  {
   "cell_type": "code",
   "execution_count": 25,
   "id": "8705793b",
   "metadata": {},
   "outputs": [
    {
     "data": {
      "text/plain": [
       "'4.5'"
      ]
     },
     "execution_count": 25,
     "metadata": {},
     "output_type": "execute_result"
    }
   ],
   "source": [
    "#rating\n",
    "results[0].find('span',class_='sds-rating__count').text"
   ]
  },
  {
   "cell_type": "code",
   "execution_count": 29,
   "id": "64250536",
   "metadata": {},
   "outputs": [
    {
     "data": {
      "text/plain": [
       "'2,715 reviews'"
      ]
     },
     "execution_count": 29,
     "metadata": {},
     "output_type": "execute_result"
    }
   ],
   "source": [
    "# rating reviews\n",
    "results[0].find('span',class_='sds-rating__link sds-button-link').text.replace('(','').replace(')','').strip()"
   ]
  },
  {
   "cell_type": "code",
   "execution_count": 31,
   "id": "baf5de39",
   "metadata": {},
   "outputs": [
    {
     "data": {
      "text/plain": [
       "'$62,987'"
      ]
     },
     "execution_count": 31,
     "metadata": {},
     "output_type": "execute_result"
    }
   ],
   "source": [
    "#price\n",
    "results[0].find('span',class_='primary-price').text"
   ]
  },
  {
   "cell_type": "code",
   "execution_count": 35,
   "id": "7d99ca85",
   "metadata": {},
   "outputs": [
    {
     "data": {
      "text/plain": [
       "'Mercedes-Benz Of Tacoma'"
      ]
     },
     "execution_count": 35,
     "metadata": {},
     "output_type": "execute_result"
    }
   ],
   "source": [
    "#dealer name\n",
    "results[0].find('div',class_='dealer-name').text.replace('\\n','').strip()"
   ]
  },
  {
   "cell_type": "code",
   "execution_count": 38,
   "id": "68740bd5",
   "metadata": {},
   "outputs": [
    {
     "name": "stdout",
     "output_type": "stream",
     "text": [
      "2020 Mercedes-Benz GLE 350 Base 4MATIC\n",
      "22,464 mi.\n",
      "4.5\n",
      "2,715 reviews\n",
      "Mercedes-Benz Of Tacoma\n",
      "$62,987\n",
      "**************************************************\n",
      "2015 Mercedes-Benz C-Class C 300 4MATIC\n",
      "52,408 mi.\n",
      "4.5\n",
      "252 reviews\n",
      "City Auto Sales, LLC\n",
      "$26,995\n",
      "**************************************************\n",
      "2019 Mercedes-Benz E-Class E 300\n",
      "71,106 mi.\n",
      "4.5\n",
      "8 reviews\n",
      "Safford Mazda of Fredericksburg\n",
      "$40,999\n",
      "**************************************************\n",
      "2019 Mercedes-Benz GLC 350e Base 4MATIC\n",
      "12,915 mi.\n",
      "5.0\n",
      "34 reviews\n",
      "Mercedes-Benz of Portsmouth\n",
      "$48,900\n",
      "**************************************************\n",
      "2015 Mercedes-Benz SLK-Class SLK 250\n",
      "26,427 mi.\n",
      "4.8\n",
      "210 reviews\n",
      "Hilton Head Lexus\n",
      "$31,402\n",
      "**************************************************\n",
      "2015 Mercedes-Benz S-Class S 550\n",
      "51,212 mi.\n",
      "4.8\n",
      "650 reviews\n",
      "Kingstowne Motorcars\n",
      "$46,995\n",
      "**************************************************\n",
      "2016 Mercedes-Benz E-Class E 350 4MATIC\n",
      "42,119 mi.\n",
      "3.1\n",
      "83 reviews\n",
      "Global Auto Outlet\n",
      "$40,835\n",
      "**************************************************\n",
      "2020 Mercedes-Benz GLB 250 Base 4MATIC\n",
      "15,560 mi.\n",
      "4.6\n",
      "110 reviews\n",
      "Mercedes-Benz of Hilton Head\n",
      "$48,990\n",
      "**************************************************\n",
      "2018 Mercedes-Benz C-Class C 300 4MATIC\n",
      "14,799 mi.\n",
      "4.5\n",
      "50 reviews\n",
      "Plaza Motor Company\n",
      "$37,500\n",
      "**************************************************\n",
      "2017 Mercedes-Benz GLE 350 Base 4MATIC\n",
      "45,096 mi.\n",
      "4.4\n",
      "214 reviews\n",
      "Mercedes-Benz of Tysons Corner\n",
      "$39,495\n",
      "**************************************************\n",
      "2020 Mercedes-Benz GLB 250 Base 4MATIC\n",
      "10,838 mi.\n",
      "4.6\n",
      "110 reviews\n",
      "Mercedes-Benz of Hilton Head\n",
      "$50,680\n",
      "**************************************************\n",
      "2006 Mercedes-Benz SL-Class SL500 Roadster\n",
      "57,853 mi.\n",
      "3.9\n",
      "118 reviews\n",
      "CarXoom\n",
      "$18,000\n",
      "**************************************************\n",
      "2017 Mercedes-Benz GLE 350 Base 4MATIC\n",
      "66,942 mi.\n",
      "2.5\n",
      "33 reviews\n",
      "Baron Auto Emporium\n",
      "$29,995\n",
      "**************************************************\n",
      "2017 Mercedes-Benz GLE 350 Base 4MATIC\n",
      "55,739 mi.\n",
      "1.0\n",
      "1 review\n",
      "Route 17 Mitsubishi\n",
      "$33,398\n",
      "**************************************************\n",
      "2018 Mercedes-Benz C-Class C 300 4MATIC\n",
      "14,279 mi.\n",
      "4.7\n",
      "625 reviews\n",
      "Exclusive Motor Cars\n",
      "$32,790\n",
      "**************************************************\n",
      "2018 Mercedes-Benz AMG C 43 Base 4MATIC\n",
      "23,193 mi.\n",
      "4.4\n",
      "2,664 reviews\n",
      "21 Century Auto Group\n",
      "$44,921\n",
      "**************************************************\n",
      "2017 Mercedes-Benz AMG C 63 S\n",
      "10,020 mi.\n",
      "3.6\n",
      "17 reviews\n",
      "Plaza Motors\n",
      "$64,900\n",
      "**************************************************\n",
      "2015 Mercedes-Benz GLK-Class GLK 350 4MATIC\n",
      "81,395 mi.\n",
      "4.5\n",
      "308 reviews\n",
      "European Auto Expo\n",
      "$19,777\n",
      "**************************************************\n",
      "2015 Mercedes-Benz C-Class C 300 4MATIC\n",
      "15,128 mi.\n",
      "4.0\n",
      "152 reviews\n",
      "Unique Auto Import\n",
      "$27,466\n",
      "**************************************************\n",
      "2020 Mercedes-Benz GLE 580 Base 4MATIC\n",
      "10,394 mi.\n",
      "4.8\n",
      "898 reviews\n",
      "Rosenthal Jaguar Land Rover Tysons Corner\n",
      "$82,981\n",
      "**************************************************\n"
     ]
    }
   ],
   "source": [
    "# now combining for all 20 elements present in first webpage\n",
    "for i in range(len(results)):\n",
    "    print(results[i].find('h2').text)\n",
    "    print(results[i].find('div',class_='mileage').text)\n",
    "    print(results[i].find('span',class_='sds-rating__count').text)\n",
    "    print(results[i].find('span',class_='sds-rating__link sds-button-link').text.replace('(','').replace(')','').strip())\n",
    "    print(results[i].find('div',class_='dealer-name').text.replace('\\n','').strip())\n",
    "    print(results[i].find('span',class_='primary-price').text)\n",
    "    print('*'*50)"
   ]
  },
  {
   "cell_type": "code",
   "execution_count": 39,
   "id": "79649f12",
   "metadata": {},
   "outputs": [
    {
     "data": {
      "text/plain": [
       "['2020 Mercedes-Benz GLE 350 Base 4MATIC',\n",
       " '2015 Mercedes-Benz C-Class C 300 4MATIC',\n",
       " '2019 Mercedes-Benz E-Class E 300',\n",
       " '2019 Mercedes-Benz GLC 350e Base 4MATIC',\n",
       " '2015 Mercedes-Benz SLK-Class SLK 250',\n",
       " '2015 Mercedes-Benz S-Class S 550',\n",
       " '2016 Mercedes-Benz E-Class E 350 4MATIC',\n",
       " '2020 Mercedes-Benz GLB 250 Base 4MATIC',\n",
       " '2018 Mercedes-Benz C-Class C 300 4MATIC',\n",
       " '2017 Mercedes-Benz GLE 350 Base 4MATIC',\n",
       " '2020 Mercedes-Benz GLB 250 Base 4MATIC',\n",
       " '2006 Mercedes-Benz SL-Class SL500 Roadster',\n",
       " '2017 Mercedes-Benz GLE 350 Base 4MATIC',\n",
       " '2017 Mercedes-Benz GLE 350 Base 4MATIC',\n",
       " '2018 Mercedes-Benz C-Class C 300 4MATIC',\n",
       " '2018 Mercedes-Benz AMG C 43 Base 4MATIC',\n",
       " '2017 Mercedes-Benz AMG C 63 S',\n",
       " '2015 Mercedes-Benz GLK-Class GLK 350 4MATIC',\n",
       " '2015 Mercedes-Benz C-Class C 300 4MATIC',\n",
       " '2020 Mercedes-Benz GLE 580 Base 4MATIC']"
      ]
     },
     "execution_count": 39,
     "metadata": {},
     "output_type": "execute_result"
    }
   ],
   "source": [
    "name=[results[i].find('h2').text for i in range(len(results))]  # name in list comprehension\n",
    "name"
   ]
  },
  {
   "cell_type": "code",
   "execution_count": 40,
   "id": "ea0ef354",
   "metadata": {},
   "outputs": [
    {
     "data": {
      "text/plain": [
       "['22,464 mi.',\n",
       " '52,408 mi.',\n",
       " '71,106 mi.',\n",
       " '12,915 mi.',\n",
       " '26,427 mi.',\n",
       " '51,212 mi.',\n",
       " '42,119 mi.',\n",
       " '15,560 mi.',\n",
       " '14,799 mi.',\n",
       " '45,096 mi.',\n",
       " '10,838 mi.',\n",
       " '57,853 mi.',\n",
       " '66,942 mi.',\n",
       " '55,739 mi.',\n",
       " '14,279 mi.',\n",
       " '23,193 mi.',\n",
       " '10,020 mi.',\n",
       " '81,395 mi.',\n",
       " '15,128 mi.',\n",
       " '10,394 mi.']"
      ]
     },
     "execution_count": 40,
     "metadata": {},
     "output_type": "execute_result"
    }
   ],
   "source": [
    "milage=[results[i].find('div',class_='mileage').text for i in range(len(results))] #milage in list comprehension\n",
    "milage"
   ]
  },
  {
   "cell_type": "code",
   "execution_count": 41,
   "id": "3216dc74",
   "metadata": {},
   "outputs": [
    {
     "data": {
      "text/plain": [
       "['4.5',\n",
       " '4.5',\n",
       " '4.5',\n",
       " '5.0',\n",
       " '4.8',\n",
       " '4.8',\n",
       " '3.1',\n",
       " '4.6',\n",
       " '4.5',\n",
       " '4.4',\n",
       " '4.6',\n",
       " '3.9',\n",
       " '2.5',\n",
       " '1.0',\n",
       " '4.7',\n",
       " '4.4',\n",
       " '3.6',\n",
       " '4.5',\n",
       " '4.0',\n",
       " '4.8']"
      ]
     },
     "execution_count": 41,
     "metadata": {},
     "output_type": "execute_result"
    }
   ],
   "source": [
    "rating=[results[i].find('span',class_='sds-rating__count').text for i in range(len(results))] #rating in list comprehension\n",
    "rating"
   ]
  },
  {
   "cell_type": "code",
   "execution_count": 42,
   "id": "c5c236ee",
   "metadata": {},
   "outputs": [
    {
     "data": {
      "text/plain": [
       "['2,715 reviews',\n",
       " '252 reviews',\n",
       " '8 reviews',\n",
       " '34 reviews',\n",
       " '210 reviews',\n",
       " '650 reviews',\n",
       " '83 reviews',\n",
       " '110 reviews',\n",
       " '50 reviews',\n",
       " '214 reviews',\n",
       " '110 reviews',\n",
       " '118 reviews',\n",
       " '33 reviews',\n",
       " '1 review',\n",
       " '625 reviews',\n",
       " '2,664 reviews',\n",
       " '17 reviews',\n",
       " '308 reviews',\n",
       " '152 reviews',\n",
       " '898 reviews']"
      ]
     },
     "execution_count": 42,
     "metadata": {},
     "output_type": "execute_result"
    }
   ],
   "source": [
    "rating_reviews=[results[i].find('span',class_='sds-rating__link sds-button-link').text.replace('(','').replace(')','').strip() for i in range(len(results))] \n",
    "rating_reviews"
   ]
  },
  {
   "cell_type": "code",
   "execution_count": 43,
   "id": "44b531a9",
   "metadata": {},
   "outputs": [
    {
     "data": {
      "text/plain": [
       "['$62,987',\n",
       " '$26,995',\n",
       " '$40,999',\n",
       " '$48,900',\n",
       " '$31,402',\n",
       " '$46,995',\n",
       " '$40,835',\n",
       " '$48,990',\n",
       " '$37,500',\n",
       " '$39,495',\n",
       " '$50,680',\n",
       " '$18,000',\n",
       " '$29,995',\n",
       " '$33,398',\n",
       " '$32,790',\n",
       " '$44,921',\n",
       " '$64,900',\n",
       " '$19,777',\n",
       " '$27,466',\n",
       " '$82,981']"
      ]
     },
     "execution_count": 43,
     "metadata": {},
     "output_type": "execute_result"
    }
   ],
   "source": [
    "price=[results[i].find('span',class_='primary-price').text for i in range(len(results))] # \n",
    "price"
   ]
  },
  {
   "cell_type": "code",
   "execution_count": 44,
   "id": "87c87a2b",
   "metadata": {},
   "outputs": [
    {
     "data": {
      "text/plain": [
       "['Mercedes-Benz Of Tacoma',\n",
       " 'City Auto Sales, LLC',\n",
       " 'Safford Mazda of Fredericksburg',\n",
       " 'Mercedes-Benz of Portsmouth',\n",
       " 'Hilton Head Lexus',\n",
       " 'Kingstowne Motorcars',\n",
       " 'Global Auto Outlet',\n",
       " 'Mercedes-Benz of Hilton Head',\n",
       " 'Plaza Motor Company',\n",
       " 'Mercedes-Benz of Tysons Corner',\n",
       " 'Mercedes-Benz of Hilton Head',\n",
       " 'CarXoom',\n",
       " 'Baron Auto Emporium',\n",
       " 'Route 17 Mitsubishi',\n",
       " 'Exclusive Motor Cars',\n",
       " '21 Century Auto Group',\n",
       " 'Plaza Motors',\n",
       " 'European Auto Expo',\n",
       " 'Unique Auto Import',\n",
       " 'Rosenthal Jaguar Land Rover Tysons Corner']"
      ]
     },
     "execution_count": 44,
     "metadata": {},
     "output_type": "execute_result"
    }
   ],
   "source": [
    "delear_name=[results[i].find('div',class_='dealer-name').text.replace('\\n','').strip() for i in range(len(results))]\n",
    "delear_name"
   ]
  },
  {
   "cell_type": "code",
   "execution_count": 45,
   "id": "a721bc53",
   "metadata": {},
   "outputs": [
    {
     "data": {
      "text/html": [
       "<div>\n",
       "<style scoped>\n",
       "    .dataframe tbody tr th:only-of-type {\n",
       "        vertical-align: middle;\n",
       "    }\n",
       "\n",
       "    .dataframe tbody tr th {\n",
       "        vertical-align: top;\n",
       "    }\n",
       "\n",
       "    .dataframe thead th {\n",
       "        text-align: right;\n",
       "    }\n",
       "</style>\n",
       "<table border=\"1\" class=\"dataframe\">\n",
       "  <thead>\n",
       "    <tr style=\"text-align: right;\">\n",
       "      <th></th>\n",
       "      <th>Name</th>\n",
       "      <th>Milage</th>\n",
       "      <th>Price</th>\n",
       "      <th>Rating</th>\n",
       "      <th>Rating_count</th>\n",
       "      <th>Dealer_name</th>\n",
       "    </tr>\n",
       "  </thead>\n",
       "  <tbody>\n",
       "    <tr>\n",
       "      <th>0</th>\n",
       "      <td>2020 Mercedes-Benz GLE 350 Base 4MATIC</td>\n",
       "      <td>22,464 mi.</td>\n",
       "      <td>$62,987</td>\n",
       "      <td>4.5</td>\n",
       "      <td>2,715 reviews</td>\n",
       "      <td>Mercedes-Benz Of Tacoma</td>\n",
       "    </tr>\n",
       "    <tr>\n",
       "      <th>1</th>\n",
       "      <td>2015 Mercedes-Benz C-Class C 300 4MATIC</td>\n",
       "      <td>52,408 mi.</td>\n",
       "      <td>$26,995</td>\n",
       "      <td>4.5</td>\n",
       "      <td>252 reviews</td>\n",
       "      <td>City Auto Sales, LLC</td>\n",
       "    </tr>\n",
       "    <tr>\n",
       "      <th>2</th>\n",
       "      <td>2019 Mercedes-Benz E-Class E 300</td>\n",
       "      <td>71,106 mi.</td>\n",
       "      <td>$40,999</td>\n",
       "      <td>4.5</td>\n",
       "      <td>8 reviews</td>\n",
       "      <td>Safford Mazda of Fredericksburg</td>\n",
       "    </tr>\n",
       "    <tr>\n",
       "      <th>3</th>\n",
       "      <td>2019 Mercedes-Benz GLC 350e Base 4MATIC</td>\n",
       "      <td>12,915 mi.</td>\n",
       "      <td>$48,900</td>\n",
       "      <td>5.0</td>\n",
       "      <td>34 reviews</td>\n",
       "      <td>Mercedes-Benz of Portsmouth</td>\n",
       "    </tr>\n",
       "    <tr>\n",
       "      <th>4</th>\n",
       "      <td>2015 Mercedes-Benz SLK-Class SLK 250</td>\n",
       "      <td>26,427 mi.</td>\n",
       "      <td>$31,402</td>\n",
       "      <td>4.8</td>\n",
       "      <td>210 reviews</td>\n",
       "      <td>Hilton Head Lexus</td>\n",
       "    </tr>\n",
       "    <tr>\n",
       "      <th>5</th>\n",
       "      <td>2015 Mercedes-Benz S-Class S 550</td>\n",
       "      <td>51,212 mi.</td>\n",
       "      <td>$46,995</td>\n",
       "      <td>4.8</td>\n",
       "      <td>650 reviews</td>\n",
       "      <td>Kingstowne Motorcars</td>\n",
       "    </tr>\n",
       "    <tr>\n",
       "      <th>6</th>\n",
       "      <td>2016 Mercedes-Benz E-Class E 350 4MATIC</td>\n",
       "      <td>42,119 mi.</td>\n",
       "      <td>$40,835</td>\n",
       "      <td>3.1</td>\n",
       "      <td>83 reviews</td>\n",
       "      <td>Global Auto Outlet</td>\n",
       "    </tr>\n",
       "    <tr>\n",
       "      <th>7</th>\n",
       "      <td>2020 Mercedes-Benz GLB 250 Base 4MATIC</td>\n",
       "      <td>15,560 mi.</td>\n",
       "      <td>$48,990</td>\n",
       "      <td>4.6</td>\n",
       "      <td>110 reviews</td>\n",
       "      <td>Mercedes-Benz of Hilton Head</td>\n",
       "    </tr>\n",
       "    <tr>\n",
       "      <th>8</th>\n",
       "      <td>2018 Mercedes-Benz C-Class C 300 4MATIC</td>\n",
       "      <td>14,799 mi.</td>\n",
       "      <td>$37,500</td>\n",
       "      <td>4.5</td>\n",
       "      <td>50 reviews</td>\n",
       "      <td>Plaza Motor Company</td>\n",
       "    </tr>\n",
       "    <tr>\n",
       "      <th>9</th>\n",
       "      <td>2017 Mercedes-Benz GLE 350 Base 4MATIC</td>\n",
       "      <td>45,096 mi.</td>\n",
       "      <td>$39,495</td>\n",
       "      <td>4.4</td>\n",
       "      <td>214 reviews</td>\n",
       "      <td>Mercedes-Benz of Tysons Corner</td>\n",
       "    </tr>\n",
       "    <tr>\n",
       "      <th>10</th>\n",
       "      <td>2020 Mercedes-Benz GLB 250 Base 4MATIC</td>\n",
       "      <td>10,838 mi.</td>\n",
       "      <td>$50,680</td>\n",
       "      <td>4.6</td>\n",
       "      <td>110 reviews</td>\n",
       "      <td>Mercedes-Benz of Hilton Head</td>\n",
       "    </tr>\n",
       "    <tr>\n",
       "      <th>11</th>\n",
       "      <td>2006 Mercedes-Benz SL-Class SL500 Roadster</td>\n",
       "      <td>57,853 mi.</td>\n",
       "      <td>$18,000</td>\n",
       "      <td>3.9</td>\n",
       "      <td>118 reviews</td>\n",
       "      <td>CarXoom</td>\n",
       "    </tr>\n",
       "    <tr>\n",
       "      <th>12</th>\n",
       "      <td>2017 Mercedes-Benz GLE 350 Base 4MATIC</td>\n",
       "      <td>66,942 mi.</td>\n",
       "      <td>$29,995</td>\n",
       "      <td>2.5</td>\n",
       "      <td>33 reviews</td>\n",
       "      <td>Baron Auto Emporium</td>\n",
       "    </tr>\n",
       "    <tr>\n",
       "      <th>13</th>\n",
       "      <td>2017 Mercedes-Benz GLE 350 Base 4MATIC</td>\n",
       "      <td>55,739 mi.</td>\n",
       "      <td>$33,398</td>\n",
       "      <td>1.0</td>\n",
       "      <td>1 review</td>\n",
       "      <td>Route 17 Mitsubishi</td>\n",
       "    </tr>\n",
       "    <tr>\n",
       "      <th>14</th>\n",
       "      <td>2018 Mercedes-Benz C-Class C 300 4MATIC</td>\n",
       "      <td>14,279 mi.</td>\n",
       "      <td>$32,790</td>\n",
       "      <td>4.7</td>\n",
       "      <td>625 reviews</td>\n",
       "      <td>Exclusive Motor Cars</td>\n",
       "    </tr>\n",
       "    <tr>\n",
       "      <th>15</th>\n",
       "      <td>2018 Mercedes-Benz AMG C 43 Base 4MATIC</td>\n",
       "      <td>23,193 mi.</td>\n",
       "      <td>$44,921</td>\n",
       "      <td>4.4</td>\n",
       "      <td>2,664 reviews</td>\n",
       "      <td>21 Century Auto Group</td>\n",
       "    </tr>\n",
       "    <tr>\n",
       "      <th>16</th>\n",
       "      <td>2017 Mercedes-Benz AMG C 63 S</td>\n",
       "      <td>10,020 mi.</td>\n",
       "      <td>$64,900</td>\n",
       "      <td>3.6</td>\n",
       "      <td>17 reviews</td>\n",
       "      <td>Plaza Motors</td>\n",
       "    </tr>\n",
       "    <tr>\n",
       "      <th>17</th>\n",
       "      <td>2015 Mercedes-Benz GLK-Class GLK 350 4MATIC</td>\n",
       "      <td>81,395 mi.</td>\n",
       "      <td>$19,777</td>\n",
       "      <td>4.5</td>\n",
       "      <td>308 reviews</td>\n",
       "      <td>European Auto Expo</td>\n",
       "    </tr>\n",
       "    <tr>\n",
       "      <th>18</th>\n",
       "      <td>2015 Mercedes-Benz C-Class C 300 4MATIC</td>\n",
       "      <td>15,128 mi.</td>\n",
       "      <td>$27,466</td>\n",
       "      <td>4.0</td>\n",
       "      <td>152 reviews</td>\n",
       "      <td>Unique Auto Import</td>\n",
       "    </tr>\n",
       "    <tr>\n",
       "      <th>19</th>\n",
       "      <td>2020 Mercedes-Benz GLE 580 Base 4MATIC</td>\n",
       "      <td>10,394 mi.</td>\n",
       "      <td>$82,981</td>\n",
       "      <td>4.8</td>\n",
       "      <td>898 reviews</td>\n",
       "      <td>Rosenthal Jaguar Land Rover Tysons Corner</td>\n",
       "    </tr>\n",
       "  </tbody>\n",
       "</table>\n",
       "</div>"
      ],
      "text/plain": [
       "                                           Name      Milage    Price Rating  \\\n",
       "0        2020 Mercedes-Benz GLE 350 Base 4MATIC  22,464 mi.  $62,987    4.5   \n",
       "1       2015 Mercedes-Benz C-Class C 300 4MATIC  52,408 mi.  $26,995    4.5   \n",
       "2              2019 Mercedes-Benz E-Class E 300  71,106 mi.  $40,999    4.5   \n",
       "3       2019 Mercedes-Benz GLC 350e Base 4MATIC  12,915 mi.  $48,900    5.0   \n",
       "4          2015 Mercedes-Benz SLK-Class SLK 250  26,427 mi.  $31,402    4.8   \n",
       "5              2015 Mercedes-Benz S-Class S 550  51,212 mi.  $46,995    4.8   \n",
       "6       2016 Mercedes-Benz E-Class E 350 4MATIC  42,119 mi.  $40,835    3.1   \n",
       "7        2020 Mercedes-Benz GLB 250 Base 4MATIC  15,560 mi.  $48,990    4.6   \n",
       "8       2018 Mercedes-Benz C-Class C 300 4MATIC  14,799 mi.  $37,500    4.5   \n",
       "9        2017 Mercedes-Benz GLE 350 Base 4MATIC  45,096 mi.  $39,495    4.4   \n",
       "10       2020 Mercedes-Benz GLB 250 Base 4MATIC  10,838 mi.  $50,680    4.6   \n",
       "11   2006 Mercedes-Benz SL-Class SL500 Roadster  57,853 mi.  $18,000    3.9   \n",
       "12       2017 Mercedes-Benz GLE 350 Base 4MATIC  66,942 mi.  $29,995    2.5   \n",
       "13       2017 Mercedes-Benz GLE 350 Base 4MATIC  55,739 mi.  $33,398    1.0   \n",
       "14      2018 Mercedes-Benz C-Class C 300 4MATIC  14,279 mi.  $32,790    4.7   \n",
       "15      2018 Mercedes-Benz AMG C 43 Base 4MATIC  23,193 mi.  $44,921    4.4   \n",
       "16                2017 Mercedes-Benz AMG C 63 S  10,020 mi.  $64,900    3.6   \n",
       "17  2015 Mercedes-Benz GLK-Class GLK 350 4MATIC  81,395 mi.  $19,777    4.5   \n",
       "18      2015 Mercedes-Benz C-Class C 300 4MATIC  15,128 mi.  $27,466    4.0   \n",
       "19       2020 Mercedes-Benz GLE 580 Base 4MATIC  10,394 mi.  $82,981    4.8   \n",
       "\n",
       "     Rating_count                                Dealer_name  \n",
       "0   2,715 reviews                    Mercedes-Benz Of Tacoma  \n",
       "1     252 reviews                       City Auto Sales, LLC  \n",
       "2       8 reviews            Safford Mazda of Fredericksburg  \n",
       "3      34 reviews                Mercedes-Benz of Portsmouth  \n",
       "4     210 reviews                          Hilton Head Lexus  \n",
       "5     650 reviews                       Kingstowne Motorcars  \n",
       "6      83 reviews                         Global Auto Outlet  \n",
       "7     110 reviews               Mercedes-Benz of Hilton Head  \n",
       "8      50 reviews                        Plaza Motor Company  \n",
       "9     214 reviews             Mercedes-Benz of Tysons Corner  \n",
       "10    110 reviews               Mercedes-Benz of Hilton Head  \n",
       "11    118 reviews                                    CarXoom  \n",
       "12     33 reviews                        Baron Auto Emporium  \n",
       "13       1 review                        Route 17 Mitsubishi  \n",
       "14    625 reviews                       Exclusive Motor Cars  \n",
       "15  2,664 reviews                      21 Century Auto Group  \n",
       "16     17 reviews                               Plaza Motors  \n",
       "17    308 reviews                         European Auto Expo  \n",
       "18    152 reviews                         Unique Auto Import  \n",
       "19    898 reviews  Rosenthal Jaguar Land Rover Tysons Corner  "
      ]
     },
     "execution_count": 45,
     "metadata": {},
     "output_type": "execute_result"
    }
   ],
   "source": [
    "# changing into DataFrame\n",
    "pd.DataFrame({'Name':name,'Milage':milage,'Price':price,'Rating':rating,'Rating_count':rating_reviews,'Dealer_name':delear_name})"
   ]
  },
  {
   "cell_type": "markdown",
   "id": "b5f2271e",
   "metadata": {},
   "source": [
    "# Pagination"
   ]
  },
  {
   "cell_type": "code",
   "execution_count": null,
   "id": "8d1126fb",
   "metadata": {},
   "outputs": [],
   "source": [
    "url='https://www.cars.com/shopping/results/?page=2&page_size=20&list_price_max=&makes[]=mercedes_benz&maximum_distance=20&models[]=&stock_type=all&zip='"
   ]
  },
  {
   "cell_type": "code",
   "execution_count": 67,
   "id": "85c8f6b2",
   "metadata": {},
   "outputs": [
    {
     "name": "stdout",
     "output_type": "stream",
     "text": [
      "20\n",
      "20\n",
      "20\n",
      "18\n",
      "20\n",
      "19\n",
      "20\n",
      "20\n",
      "20\n",
      "20\n"
     ]
    }
   ],
   "source": [
    "name=[]\n",
    "milage=[]\n",
    "rating=[]\n",
    "rating_reviews=[]\n",
    "price=[]\n",
    "delear_name=[]\n",
    "# extracting from first 10 web pages\n",
    "for i in range(1,11):\n",
    "    \n",
    "    url='https://www.cars.com/shopping/results/?page='+str(i)+'&page_size=20&list_price_max=&makes[]=mercedes_benz&maximum_distance=20&models[]=&stock_type=all&zip='\n",
    "    response=requests.get(url)\n",
    "    soup=BeautifulSoup(response.content,parser='html.parser')\n",
    "    results=soup.find_all('div',class_='vehicle-details')\n",
    "    print(len(results))\n",
    "    for result in results:\n",
    "        name.append(result.find('h2').text)\n",
    "        milage.append(result.find('div',class_='mileage').text)\n",
    "        rating.append(result.find('span',class_='sds-rating__count').text)\n",
    "        rating_reviews.append(result.find('span',class_='sds-rating__link sds-button-link').text.replace('(','').replace(')','').strip())\n",
    "        price.append(result.find('span',class_='primary-price').text)\n",
    "        delear_name.append(result.find('div',class_='dealer-name').text.replace('\\n','').strip())\n",
    "    \n",
    "    "
   ]
  },
  {
   "cell_type": "code",
   "execution_count": 68,
   "id": "50e556a9",
   "metadata": {},
   "outputs": [
    {
     "data": {
      "text/html": [
       "<div>\n",
       "<style scoped>\n",
       "    .dataframe tbody tr th:only-of-type {\n",
       "        vertical-align: middle;\n",
       "    }\n",
       "\n",
       "    .dataframe tbody tr th {\n",
       "        vertical-align: top;\n",
       "    }\n",
       "\n",
       "    .dataframe thead th {\n",
       "        text-align: right;\n",
       "    }\n",
       "</style>\n",
       "<table border=\"1\" class=\"dataframe\">\n",
       "  <thead>\n",
       "    <tr style=\"text-align: right;\">\n",
       "      <th></th>\n",
       "      <th>Name</th>\n",
       "      <th>Milage</th>\n",
       "      <th>Price</th>\n",
       "      <th>Rating</th>\n",
       "      <th>Rating_count</th>\n",
       "      <th>Dealer_name</th>\n",
       "    </tr>\n",
       "  </thead>\n",
       "  <tbody>\n",
       "    <tr>\n",
       "      <th>0</th>\n",
       "      <td>2015 Mercedes-Benz C-Class C 300 4MATIC</td>\n",
       "      <td>52,408 mi.</td>\n",
       "      <td>$26,995</td>\n",
       "      <td>4.5</td>\n",
       "      <td>252 reviews</td>\n",
       "      <td>City Auto Sales, LLC</td>\n",
       "    </tr>\n",
       "    <tr>\n",
       "      <th>1</th>\n",
       "      <td>2019 Mercedes-Benz C-Class C 300 4MATIC</td>\n",
       "      <td>11,747 mi.</td>\n",
       "      <td>$38,495</td>\n",
       "      <td>4.6</td>\n",
       "      <td>1,171 reviews</td>\n",
       "      <td>Arlington Acura in Palatine</td>\n",
       "    </tr>\n",
       "    <tr>\n",
       "      <th>2</th>\n",
       "      <td>2019 Mercedes-Benz E-Class E 300</td>\n",
       "      <td>71,106 mi.</td>\n",
       "      <td>$40,999</td>\n",
       "      <td>4.5</td>\n",
       "      <td>8 reviews</td>\n",
       "      <td>Safford Mazda of Fredericksburg</td>\n",
       "    </tr>\n",
       "    <tr>\n",
       "      <th>3</th>\n",
       "      <td>2018 Mercedes-Benz AMG GT C</td>\n",
       "      <td>14,973 mi.</td>\n",
       "      <td>$136,000</td>\n",
       "      <td>4.6</td>\n",
       "      <td>266 reviews</td>\n",
       "      <td>Mercedes-Benz of Fredericksburg</td>\n",
       "    </tr>\n",
       "    <tr>\n",
       "      <th>4</th>\n",
       "      <td>2019 Mercedes-Benz GLC 350e Base 4MATIC</td>\n",
       "      <td>12,915 mi.</td>\n",
       "      <td>$48,900</td>\n",
       "      <td>5.0</td>\n",
       "      <td>34 reviews</td>\n",
       "      <td>Mercedes-Benz of Portsmouth</td>\n",
       "    </tr>\n",
       "    <tr>\n",
       "      <th>...</th>\n",
       "      <td>...</td>\n",
       "      <td>...</td>\n",
       "      <td>...</td>\n",
       "      <td>...</td>\n",
       "      <td>...</td>\n",
       "      <td>...</td>\n",
       "    </tr>\n",
       "    <tr>\n",
       "      <th>192</th>\n",
       "      <td>2020 Mercedes-Benz GLC 300 Base 4MATIC</td>\n",
       "      <td>14,436 mi.</td>\n",
       "      <td>$51,977</td>\n",
       "      <td>4.8</td>\n",
       "      <td>1,388 reviews</td>\n",
       "      <td>Mercedes-Benz of San Antonio</td>\n",
       "    </tr>\n",
       "    <tr>\n",
       "      <th>193</th>\n",
       "      <td>2017 Mercedes-Benz AMG C 63 Base</td>\n",
       "      <td>38,899 mi.</td>\n",
       "      <td>$52,500</td>\n",
       "      <td>3.8</td>\n",
       "      <td>94 reviews</td>\n",
       "      <td>Selden Motors</td>\n",
       "    </tr>\n",
       "    <tr>\n",
       "      <th>194</th>\n",
       "      <td>2017 Mercedes-Benz GLS 450 Base 4MATIC</td>\n",
       "      <td>75,189 mi.</td>\n",
       "      <td>$38,995</td>\n",
       "      <td>3.3</td>\n",
       "      <td>102 reviews</td>\n",
       "      <td>iAuto</td>\n",
       "    </tr>\n",
       "    <tr>\n",
       "      <th>195</th>\n",
       "      <td>2009 Mercedes-Benz SL-Class SL550 Roadster</td>\n",
       "      <td>86,442 mi.</td>\n",
       "      <td>$24,992</td>\n",
       "      <td>4.8</td>\n",
       "      <td>413 reviews</td>\n",
       "      <td>Audi Peoria</td>\n",
       "    </tr>\n",
       "    <tr>\n",
       "      <th>196</th>\n",
       "      <td>2018 Mercedes-Benz GLE 350 Base 4MATIC</td>\n",
       "      <td>19,085 mi.</td>\n",
       "      <td>$44,980</td>\n",
       "      <td>4.8</td>\n",
       "      <td>81 reviews</td>\n",
       "      <td>VINS DC</td>\n",
       "    </tr>\n",
       "  </tbody>\n",
       "</table>\n",
       "<p>197 rows × 6 columns</p>\n",
       "</div>"
      ],
      "text/plain": [
       "                                           Name      Milage     Price Rating  \\\n",
       "0       2015 Mercedes-Benz C-Class C 300 4MATIC  52,408 mi.   $26,995    4.5   \n",
       "1       2019 Mercedes-Benz C-Class C 300 4MATIC  11,747 mi.   $38,495    4.6   \n",
       "2              2019 Mercedes-Benz E-Class E 300  71,106 mi.   $40,999    4.5   \n",
       "3                   2018 Mercedes-Benz AMG GT C  14,973 mi.  $136,000    4.6   \n",
       "4       2019 Mercedes-Benz GLC 350e Base 4MATIC  12,915 mi.   $48,900    5.0   \n",
       "..                                          ...         ...       ...    ...   \n",
       "192      2020 Mercedes-Benz GLC 300 Base 4MATIC  14,436 mi.   $51,977    4.8   \n",
       "193            2017 Mercedes-Benz AMG C 63 Base  38,899 mi.   $52,500    3.8   \n",
       "194      2017 Mercedes-Benz GLS 450 Base 4MATIC  75,189 mi.   $38,995    3.3   \n",
       "195  2009 Mercedes-Benz SL-Class SL550 Roadster  86,442 mi.   $24,992    4.8   \n",
       "196      2018 Mercedes-Benz GLE 350 Base 4MATIC  19,085 mi.   $44,980    4.8   \n",
       "\n",
       "      Rating_count                      Dealer_name  \n",
       "0      252 reviews             City Auto Sales, LLC  \n",
       "1    1,171 reviews      Arlington Acura in Palatine  \n",
       "2        8 reviews  Safford Mazda of Fredericksburg  \n",
       "3      266 reviews  Mercedes-Benz of Fredericksburg  \n",
       "4       34 reviews      Mercedes-Benz of Portsmouth  \n",
       "..             ...                              ...  \n",
       "192  1,388 reviews     Mercedes-Benz of San Antonio  \n",
       "193     94 reviews                    Selden Motors  \n",
       "194    102 reviews                            iAuto  \n",
       "195    413 reviews                      Audi Peoria  \n",
       "196     81 reviews                          VINS DC  \n",
       "\n",
       "[197 rows x 6 columns]"
      ]
     },
     "execution_count": 68,
     "metadata": {},
     "output_type": "execute_result"
    }
   ],
   "source": [
    "# changing to dataframe\n",
    "pd.DataFrame({'Name':name,'Milage':milage,'Price':price,'Rating':rating,'Rating_count':rating_reviews,'Dealer_name':delear_name})"
   ]
  }
 ],
 "metadata": {
  "kernelspec": {
   "display_name": "Python 3",
   "language": "python",
   "name": "python3"
  },
  "language_info": {
   "codemirror_mode": {
    "name": "ipython",
    "version": 3
   },
   "file_extension": ".py",
   "mimetype": "text/x-python",
   "name": "python",
   "nbconvert_exporter": "python",
   "pygments_lexer": "ipython3",
   "version": "3.8.8"
  }
 },
 "nbformat": 4,
 "nbformat_minor": 5
}
