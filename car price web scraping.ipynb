{
 "cells": [
  {
   "cell_type": "markdown",
   "id": "b77b0bea",
   "metadata": {},
   "source": [
    "# Webscraping from car.com"
   ]
  },
  {
   "cell_type": "code",
   "execution_count": 1,
   "id": "30624fc1",
   "metadata": {},
   "outputs": [],
   "source": [
    "import requests\n",
    "import pandas as pd\n",
    "from bs4 import BeautifulSoup"
   ]
  },
  {
   "cell_type": "code",
   "execution_count": 2,
   "id": "63372fab",
   "metadata": {},
   "outputs": [],
   "source": [
    "url='https://www.cars.com/shopping/results/?stock_type=all&makes%5B%5D=mercedes_benz&models%5B%5D=&list_price_max=&maximum_distance=20&zip='"
   ]
  },
  {
   "cell_type": "code",
   "execution_count": 3,
   "id": "8b549dfb",
   "metadata": {},
   "outputs": [],
   "source": [
    "response=requests.get(url)"
   ]
  },
  {
   "cell_type": "code",
   "execution_count": 5,
   "id": "03d6acfb",
   "metadata": {},
   "outputs": [
    {
     "data": {
      "text/plain": [
       "200"
      ]
     },
     "execution_count": 5,
     "metadata": {},
     "output_type": "execute_result"
    }
   ],
   "source": [
    "response.status_code"
   ]
  },
  {
   "cell_type": "code",
   "execution_count": 6,
   "id": "ff7fd282",
   "metadata": {},
   "outputs": [],
   "source": [
    "soup=BeautifulSoup(response.content,parser='html.parser') # create soup page"
   ]
  },
  {
   "cell_type": "code",
   "execution_count": 4,
   "id": "ac97eafa",
   "metadata": {},
   "outputs": [],
   "source": [
    "soup=BeautifulSoup(response.content,parser='xlml')"
   ]
  },
  {
   "cell_type": "code",
   "execution_count": 5,
   "id": "0447f512",
   "metadata": {},
   "outputs": [],
   "source": [
    "results=soup.find_all('div',class_='vehicle-details')   #extract all list present in page"
   ]
  },
  {
   "cell_type": "code",
   "execution_count": 6,
   "id": "693a24a8",
   "metadata": {},
   "outputs": [
    {
     "data": {
      "text/plain": [
       "20"
      ]
     },
     "execution_count": 6,
     "metadata": {},
     "output_type": "execute_result"
    }
   ],
   "source": [
    "len(results)  # we have 2o variable per page"
   ]
  },
  {
   "cell_type": "code",
   "execution_count": 7,
   "id": "d7e8d6c5",
   "metadata": {},
   "outputs": [
    {
     "data": {
      "text/plain": [
       "<div class=\"vehicle-details\">\n",
       "<div class=\"save-vehicle\">\n",
       "<div class=\"favorite\">\n",
       "<button class=\"heart\" data-activity-rule-type=\"custom\" data-component=\"save-vehicle-add\" data-index=\"1\" data-linkname=\"save-vehicle-sign-up\" data-listing-id=\"e351cea7-544f-4885-a0c4-aa64fbe788fc\" id=\"vehicle-heart-1\" onclick=\"event.preventDefault()\" phx-click=\"save_listing\" phx-hook=\"RecordSaveListingAction\" phx-target=\"83\" phx-value-is_vdp=\"false\" phx-value-listing_id=\"e351cea7-544f-4885-a0c4-aa64fbe788fc\">\n",
       "<svg class=\"sds-text-field__icon\" height=\"16\" width=\"16\"><use xlink:href=\"/svg/spritemap-9957805ae2a418ae7507c2b0e074f33e.svg?vsn=d#heart\"></use></svg>\n",
       "<span class=\"text\">Save</span>\n",
       "</button>\n",
       "</div>\n",
       "</div>\n",
       "<p class=\"stock-type\">Used</p>\n",
       "<a class=\"vehicle-card-link js-gallery-click-link\" data-activity-rule-type=\"page-over-page\" data-linkname=\"vehicle-listing\" href=\"/vehicledetail/e351cea7-544f-4885-a0c4-aa64fbe788fc/?results_page_number=1&amp;search_instance_id=ebb2c6f9-2301-477a-a9c6-801a57f1a64d&amp;search_zipcode=&amp;sponsored%3F=false&amp;vertical_position=1\" rel=\"nofollow\">\n",
       "<h2 class=\"title\">2015 Mercedes-Benz C-Class C 300 4MATIC</h2>\n",
       "</a>\n",
       "<div class=\"mileage\">52,408 mi.</div>\n",
       "<div class=\"price-section price-section-vehicle-card\">\n",
       "<span class=\"primary-price\">$26,995</span>\n",
       "</div>\n",
       "<div class=\"vehicle-badging\" data-click-intent-id=\"badges-explainer\" data-contents=\"{&quot;hot_car_badge&quot;:true,&quot;price_badge&quot;:{&quot;price_badge&quot;:&quot;competitively&quot;,&quot;price_badge_description&quot;:&quot;This car presents a good buying opportunity. Our analysis compares this car's price, features, and condition with similar 2015 C-Class.&quot;,&quot;price_badge_savings_icon_text&quot;:&quot;&quot;,&quot;price_badge_text&quot;:&quot;Good&quot;,&quot;price_badge_text_lowercase&quot;:&quot;good&quot;,&quot;price_savings_text&quot;:&quot;&quot;,&quot;svg_tag&quot;:&quot;&lt;svg class=\\&quot;sds-text-field__icon\\&quot; height=\\&quot;16\\&quot; width=\\&quot;16\\&quot;&gt;&lt;use xlink:href=\\&quot;/svg/spritemap-9957805ae2a418ae7507c2b0e074f33e.svg?vsn=d#arrow-up-right-thick\\&quot;&gt;&lt;/use&gt;&lt;/svg&gt;&quot;},&quot;href_to_vdp&quot;:{&quot;href_to_vdp&quot;:&quot;/vehicledetail/e351cea7-544f-4885-a0c4-aa64fbe788fc/?bodystyle=sedan&amp;cpo_indicator=false&amp;customer_id=85804&amp;intent_id=badges-explainer&amp;listing_id=e351cea7-544f-4885-a0c4-aa64fbe788fc&amp;make=mercedes_benz&amp;model=c_class&amp;model_year=2015&amp;msrp=0&amp;price=26995&amp;sponsored%3F=false&amp;stock_type=used&amp;trim=c+300+4matic&quot;}}\" data-override-payload='{\"bodystyle\":\"sedan\",\"cpo_indicator\":false,\"customer_id\":\"85804\",\"horizontal_position\":null,\"listing_id\":\"e351cea7-544f-4885-a0c4-aa64fbe788fc\",\"make\":\"mercedes_benz\",\"model\":\"c_class\",\"model_year\":\"2015\",\"msrp\":\"0\",\"price\":\"26995\",\"results_page_number\":1,\"sponsored?\":false,\"stock_type\":\"used\",\"trim\":\"c 300 4matic\",\"vertical_position\":1,\"web_page_type_from\":\"shopping/search-results\"}' data-target=\"#sds-modal\" data-toggle=\"expanda-modal\" tabindex=\"0\">\n",
       "<div aria-label=\"price_badge\" class=\"sds-badge sds-badge--icon sds-badge--good js-price-badging\" data-linkname=\"price-badge-good\">\n",
       "<div class=\"sds-badge__icon\">\n",
       "<svg class=\"sds-text-field__icon\" height=\"16\" width=\"16\"><use xlink:href=\"/svg/spritemap-9957805ae2a418ae7507c2b0e074f33e.svg?vsn=d#arrow-up-right-thick\"></use></svg>\n",
       "</div>\n",
       "<span class=\"sds-badge__label\">Good Deal<span class=\"sds-badge--price-savings\"></span></span>\n",
       "</div>\n",
       "<div class=\"sds-badge sds-badge--icon sds-badge--hot-car\">\n",
       "<div class=\"sds-badge__icon\">\n",
       "<svg class=\"sds-text-field__icon flame-svg\" height=\"16\" width=\"16\"><use xlink:href=\"/svg/spritemap-9957805ae2a418ae7507c2b0e074f33e.svg?vsn=d#flame\"></use></svg>\n",
       "</div>\n",
       "<span class=\"sds-badge__label\">Hot Car</span>\n",
       "</div>\n",
       "</div>\n",
       "<div class=\"vehicle-links external-links\">\n",
       "<div class=\"vehicle-deeplink\">\n",
       "<a aria-describedby=\"new-tab-link\" aria-label=\"Free CARFAX Report, External link\" class=\"sds-link--ext\" data-intent-id=\"srp-vehicle-history-report\" data-linkname=\"vehicle-history\" data-override-payload='{\"page_url\":\"https://www.carfax.com/VehicleHistory/ar20/CuiU5zUFujQODV3ERMIYA1a9OCaWnH_6WXgSGbidRCtsE4H5KSUvzJhxlxayDPQRD4e_sf02RUEsmBXGtHpe1P_zvVygzZq7epo\"}' href=\"/external/carfax/?redirect=https%3A%2F%2Fwww.carfax.com%2FVehicleHistory%2Far20%2FCuiU5zUFujQODV3ERMIYA1a9OCaWnH_6WXgSGbidRCtsE4H5KSUvzJhxlxayDPQRD4e_sf02RUEsmBXGtHpe1P_zvVygzZq7epo\" rel=\"noopener nofollow\" target=\"_blank\">Free CARFAX Report<svg class=\"sds-text-field__icon\" height=\"16\" width=\"16\"><use xlink:href=\"/svg/spritemap-9957805ae2a418ae7507c2b0e074f33e.svg?vsn=d#arrow-up-right\"></use></svg></a>\n",
       "</div>\n",
       "</div>\n",
       "<div class=\"vehicle-dealer\">\n",
       "<div class=\"dealer-name\">\n",
       "<strong>City Auto Sales, LLC</strong>\n",
       "</div>\n",
       "<div class=\"sds-rating\">\n",
       "<span class=\"sds-rating__count\">4.5</span>\n",
       "<div class=\"sds-rating__wrapper\">\n",
       "<span class=\"sds-rating__item sds-icon--filled\">\n",
       "<svg fill=\"none\" height=\"24\" stroke=\"#000000\" viewbox=\"0 0 24 24\" width=\"24\" xmlns=\"http://www.w3.org/2000/svg\">\n",
       "<polygon points=\"12 2 15.09 8.26 22 9.27 17 14.14 18.18 21.02 12 17.77 5.82 21.02 7 14.14 2 9.27 8.91 8.26 12 2\" stroke-linecap=\"round\" stroke-linejoin=\"round\" stroke-width=\"2\"></polygon>\n",
       "</svg>\n",
       "</span>\n",
       "<span class=\"sds-rating__item sds-icon--filled\">\n",
       "<svg fill=\"none\" height=\"24\" stroke=\"#000000\" viewbox=\"0 0 24 24\" width=\"24\" xmlns=\"http://www.w3.org/2000/svg\">\n",
       "<polygon points=\"12 2 15.09 8.26 22 9.27 17 14.14 18.18 21.02 12 17.77 5.82 21.02 7 14.14 2 9.27 8.91 8.26 12 2\" stroke-linecap=\"round\" stroke-linejoin=\"round\" stroke-width=\"2\"></polygon>\n",
       "</svg>\n",
       "</span>\n",
       "<span class=\"sds-rating__item sds-icon--filled\">\n",
       "<svg fill=\"none\" height=\"24\" stroke=\"#000000\" viewbox=\"0 0 24 24\" width=\"24\" xmlns=\"http://www.w3.org/2000/svg\">\n",
       "<polygon points=\"12 2 15.09 8.26 22 9.27 17 14.14 18.18 21.02 12 17.77 5.82 21.02 7 14.14 2 9.27 8.91 8.26 12 2\" stroke-linecap=\"round\" stroke-linejoin=\"round\" stroke-width=\"2\"></polygon>\n",
       "</svg>\n",
       "</span>\n",
       "<span class=\"sds-rating__item sds-icon--filled\">\n",
       "<svg fill=\"none\" height=\"24\" stroke=\"#000000\" viewbox=\"0 0 24 24\" width=\"24\" xmlns=\"http://www.w3.org/2000/svg\">\n",
       "<polygon points=\"12 2 15.09 8.26 22 9.27 17 14.14 18.18 21.02 12 17.77 5.82 21.02 7 14.14 2 9.27 8.91 8.26 12 2\" stroke-linecap=\"round\" stroke-linejoin=\"round\" stroke-width=\"2\"></polygon>\n",
       "</svg>\n",
       "</span>\n",
       "<span class=\"sds-rating__item sds-icon--half\">\n",
       "<svg fill=\"none\" height=\"24\" stroke=\"#000000\" viewbox=\"0 0 24 24\" width=\"24\" xmlns=\"http://www.w3.org/2000/svg\">\n",
       "<defs>\n",
       "<lineargradient id=\"linear\" x1=\"0%\" x2=\"100%\" y1=\"0%\" y2=\"0%\">\n",
       "<stop offset=\"0%\" stop-color=\"#532380\"></stop>\n",
       "<stop offset=\"50%\" stop-color=\"#532380\"></stop>\n",
       "<stop offset=\"50%\" stop-color=\"transparent\"></stop>\n",
       "<stop offset=\"100%\" stop-color=\"transparent\"></stop>\n",
       "</lineargradient>\n",
       "</defs>\n",
       "<polygon points=\"12 2 15.09 8.26 22 9.27 17 14.14 18.18 21.02 12 17.77 5.82 21.02 7 14.14 2 9.27 8.91 8.26 12 2\" stroke-linecap=\"round\" stroke-linejoin=\"round\" stroke-width=\"2\"></polygon>\n",
       "</svg>\n",
       "</span>\n",
       "</div>\n",
       "<span class=\"sds-rating__link sds-button-link\">(252 reviews)</span>\n",
       "</div>\n",
       "<div class=\"miles-from hidden\"> mi. from </div>\n",
       "</div>\n",
       "<div class=\"miles-from hidden\"> mi. from </div>\n",
       "</div>"
      ]
     },
     "execution_count": 7,
     "metadata": {},
     "output_type": "execute_result"
    }
   ],
   "source": [
    "results[0]  # extract first element of the list"
   ]
  },
  {
   "cell_type": "code",
   "execution_count": 8,
   "id": "38510132",
   "metadata": {},
   "outputs": [
    {
     "data": {
      "text/plain": [
       "'2015 Mercedes-Benz C-Class C 300 4MATIC'"
      ]
     },
     "execution_count": 8,
     "metadata": {},
     "output_type": "execute_result"
    }
   ],
   "source": [
    "#name of car\n",
    "results[0].find('h2').text"
   ]
  },
  {
   "cell_type": "code",
   "execution_count": 9,
   "id": "bbed32c4",
   "metadata": {},
   "outputs": [
    {
     "data": {
      "text/plain": [
       "'52,408 mi.'"
      ]
     },
     "execution_count": 9,
     "metadata": {},
     "output_type": "execute_result"
    }
   ],
   "source": [
    "#milage of car\n",
    "results[0].find('div',class_='mileage').text"
   ]
  },
  {
   "cell_type": "code",
   "execution_count": 10,
   "id": "8705793b",
   "metadata": {},
   "outputs": [
    {
     "data": {
      "text/plain": [
       "'4.5'"
      ]
     },
     "execution_count": 10,
     "metadata": {},
     "output_type": "execute_result"
    }
   ],
   "source": [
    "#rating\n",
    "results[0].find('span',class_='sds-rating__count').text"
   ]
  },
  {
   "cell_type": "code",
   "execution_count": 11,
   "id": "64250536",
   "metadata": {},
   "outputs": [
    {
     "data": {
      "text/plain": [
       "'252 reviews'"
      ]
     },
     "execution_count": 11,
     "metadata": {},
     "output_type": "execute_result"
    }
   ],
   "source": [
    "# rating reviews\n",
    "results[0].find('span',class_='sds-rating__link sds-button-link').text.replace('(','').replace(')','').strip()"
   ]
  },
  {
   "cell_type": "code",
   "execution_count": 12,
   "id": "baf5de39",
   "metadata": {},
   "outputs": [
    {
     "data": {
      "text/plain": [
       "'$26,995'"
      ]
     },
     "execution_count": 12,
     "metadata": {},
     "output_type": "execute_result"
    }
   ],
   "source": [
    "#price\n",
    "results[0].find('span',class_='primary-price').text"
   ]
  },
  {
   "cell_type": "code",
   "execution_count": 13,
   "id": "7d99ca85",
   "metadata": {},
   "outputs": [
    {
     "data": {
      "text/plain": [
       "'City Auto Sales, LLC'"
      ]
     },
     "execution_count": 13,
     "metadata": {},
     "output_type": "execute_result"
    }
   ],
   "source": [
    "#dealer name\n",
    "results[0].find('div',class_='dealer-name').text.replace('\\n','').strip()"
   ]
  },
  {
   "cell_type": "code",
   "execution_count": 14,
   "id": "68740bd5",
   "metadata": {},
   "outputs": [
    {
     "name": "stdout",
     "output_type": "stream",
     "text": [
      "2015 Mercedes-Benz C-Class C 300 4MATIC\n",
      "52,408 mi.\n",
      "4.5\n",
      "252 reviews\n",
      "City Auto Sales, LLC\n",
      "$26,995\n",
      "**************************************************\n",
      "2019 Mercedes-Benz C-Class C 300 4MATIC\n",
      "11,747 mi.\n",
      "4.6\n",
      "1,171 reviews\n",
      "Arlington Acura in Palatine\n",
      "$38,495\n",
      "**************************************************\n",
      "2019 Mercedes-Benz E-Class E 300\n",
      "71,106 mi.\n",
      "4.5\n",
      "9 reviews\n",
      "Safford Mazda of Fredericksburg\n",
      "$40,999\n",
      "**************************************************\n",
      "2018 Mercedes-Benz AMG GT C\n",
      "14,973 mi.\n",
      "4.6\n",
      "266 reviews\n",
      "Mercedes-Benz of Fredericksburg\n",
      "$136,000\n",
      "**************************************************\n",
      "2019 Mercedes-Benz GLC 350e Base 4MATIC\n",
      "12,915 mi.\n",
      "5.0\n",
      "34 reviews\n",
      "Mercedes-Benz of Portsmouth\n",
      "$48,900\n",
      "**************************************************\n",
      "2020 Mercedes-Benz GLB 250 Base 4MATIC\n",
      "15,560 mi.\n",
      "4.6\n",
      "110 reviews\n",
      "Mercedes-Benz of Hilton Head\n",
      "$48,990\n",
      "**************************************************\n",
      "2018 Mercedes-Benz C-Class C 300 4MATIC\n",
      "14,799 mi.\n",
      "4.5\n",
      "50 reviews\n",
      "Plaza Motor Company\n",
      "$37,500\n",
      "**************************************************\n",
      "2020 Mercedes-Benz GLB 250 Base 4MATIC\n",
      "10,838 mi.\n",
      "4.6\n",
      "110 reviews\n",
      "Mercedes-Benz of Hilton Head\n",
      "$50,075\n",
      "**************************************************\n",
      "2017 Mercedes-Benz E-Class E 300 Sport\n",
      "40,175 mi.\n",
      "4.8\n",
      "4,876 reviews\n",
      "Fletcher Jones Motorcars\n",
      "$34,891\n",
      "**************************************************\n",
      "2017 Mercedes-Benz GLE 350 Base 4MATIC\n",
      "66,942 mi.\n",
      "2.5\n",
      "33 reviews\n",
      "Baron Auto Emporium\n",
      "$29,995\n",
      "**************************************************\n",
      "2020 Mercedes-Benz GLE 350 Base 4MATIC\n",
      "22,464 mi.\n",
      "4.5\n",
      "2,717 reviews\n",
      "Mercedes-Benz Of Tacoma\n",
      "$62,987\n",
      "**************************************************\n",
      "2017 Mercedes-Benz GLE 350 Base 4MATIC\n",
      "55,739 mi.\n",
      "1.0\n",
      "1 review\n",
      "Route 17 Mitsubishi\n",
      "$31,398\n",
      "**************************************************\n",
      "2020 Mercedes-Benz GLE 350 Base 4MATIC\n",
      "16,875 mi.\n",
      "4.8\n",
      "725 reviews\n",
      "Highland Park Ford Lincoln\n",
      "$64,995\n",
      "**************************************************\n",
      "2019 Mercedes-Benz E-Class E 300\n",
      "22,215 mi.\n",
      "4.7\n",
      "333 reviews\n",
      "Mercedes-Benz of Chantilly\n",
      "$49,300\n",
      "**************************************************\n",
      "2019 Mercedes-Benz E-Class E 300\n",
      "8,361 mi.\n",
      "4.6\n",
      "558 reviews\n",
      "Euro Motorcars Inc\n",
      "$52,881\n",
      "**************************************************\n",
      "2018 Mercedes-Benz C-Class C 300 4MATIC\n",
      "14,279 mi.\n",
      "4.7\n",
      "625 reviews\n",
      "Exclusive Motor Cars\n",
      "$32,790\n",
      "**************************************************\n",
      "2018 Mercedes-Benz AMG C 43 Base 4MATIC\n",
      "23,193 mi.\n",
      "4.4\n",
      "2,665 reviews\n",
      "21 Century Auto Group\n",
      "$44,921\n",
      "**************************************************\n",
      "2018 Mercedes-Benz E-Class E 300 4MATIC\n",
      "48,237 mi.\n",
      "2.2\n",
      "15 reviews\n",
      "26 Motors Long Island\n",
      "$26,450\n",
      "**************************************************\n",
      "2015 Mercedes-Benz E-Class E 350 4MATIC\n",
      "90,332 mi.\n",
      "4.3\n",
      "602 reviews\n",
      "St Charles Chrysler Dodge Jeep RAM\n",
      "$22,688\n",
      "**************************************************\n",
      "2017 Mercedes-Benz AMG C 63 S\n",
      "10,020 mi.\n",
      "3.6\n",
      "17 reviews\n",
      "Plaza Motors\n",
      "$64,900\n",
      "**************************************************\n"
     ]
    }
   ],
   "source": [
    "# now combining for all 20 elements present in first webpage\n",
    "for i in range(len(results)):\n",
    "    print(results[i].find('h2').text)\n",
    "    print(results[i].find('div',class_='mileage').text)\n",
    "    print(results[i].find('span',class_='sds-rating__count').text)\n",
    "    print(results[i].find('span',class_='sds-rating__link sds-button-link').text.replace('(','').replace(')','').strip())\n",
    "    print(results[i].find('div',class_='dealer-name').text.replace('\\n','').strip())\n",
    "    print(results[i].find('span',class_='primary-price').text)\n",
    "    print('*'*50)"
   ]
  },
  {
   "cell_type": "code",
   "execution_count": 15,
   "id": "79649f12",
   "metadata": {},
   "outputs": [
    {
     "data": {
      "text/plain": [
       "['2015 Mercedes-Benz C-Class C 300 4MATIC',\n",
       " '2019 Mercedes-Benz C-Class C 300 4MATIC',\n",
       " '2019 Mercedes-Benz E-Class E 300',\n",
       " '2018 Mercedes-Benz AMG GT C',\n",
       " '2019 Mercedes-Benz GLC 350e Base 4MATIC',\n",
       " '2020 Mercedes-Benz GLB 250 Base 4MATIC',\n",
       " '2018 Mercedes-Benz C-Class C 300 4MATIC',\n",
       " '2020 Mercedes-Benz GLB 250 Base 4MATIC',\n",
       " '2017 Mercedes-Benz E-Class E 300 Sport',\n",
       " '2017 Mercedes-Benz GLE 350 Base 4MATIC',\n",
       " '2020 Mercedes-Benz GLE 350 Base 4MATIC',\n",
       " '2017 Mercedes-Benz GLE 350 Base 4MATIC',\n",
       " '2020 Mercedes-Benz GLE 350 Base 4MATIC',\n",
       " '2019 Mercedes-Benz E-Class E 300',\n",
       " '2019 Mercedes-Benz E-Class E 300',\n",
       " '2018 Mercedes-Benz C-Class C 300 4MATIC',\n",
       " '2018 Mercedes-Benz AMG C 43 Base 4MATIC',\n",
       " '2018 Mercedes-Benz E-Class E 300 4MATIC',\n",
       " '2015 Mercedes-Benz E-Class E 350 4MATIC',\n",
       " '2017 Mercedes-Benz AMG C 63 S']"
      ]
     },
     "execution_count": 15,
     "metadata": {},
     "output_type": "execute_result"
    }
   ],
   "source": [
    "name=[results[i].find('h2').text for i in range(len(results))]  # name in list comprehension\n",
    "name"
   ]
  },
  {
   "cell_type": "code",
   "execution_count": 16,
   "id": "ea0ef354",
   "metadata": {},
   "outputs": [
    {
     "data": {
      "text/plain": [
       "['52,408 mi.',\n",
       " '11,747 mi.',\n",
       " '71,106 mi.',\n",
       " '14,973 mi.',\n",
       " '12,915 mi.',\n",
       " '15,560 mi.',\n",
       " '14,799 mi.',\n",
       " '10,838 mi.',\n",
       " '40,175 mi.',\n",
       " '66,942 mi.',\n",
       " '22,464 mi.',\n",
       " '55,739 mi.',\n",
       " '16,875 mi.',\n",
       " '22,215 mi.',\n",
       " '8,361 mi.',\n",
       " '14,279 mi.',\n",
       " '23,193 mi.',\n",
       " '48,237 mi.',\n",
       " '90,332 mi.',\n",
       " '10,020 mi.']"
      ]
     },
     "execution_count": 16,
     "metadata": {},
     "output_type": "execute_result"
    }
   ],
   "source": [
    "milage=[results[i].find('div',class_='mileage').text for i in range(len(results))] #milage in list comprehension\n",
    "milage"
   ]
  },
  {
   "cell_type": "code",
   "execution_count": 17,
   "id": "3216dc74",
   "metadata": {},
   "outputs": [
    {
     "data": {
      "text/plain": [
       "['4.5',\n",
       " '4.6',\n",
       " '4.5',\n",
       " '4.6',\n",
       " '5.0',\n",
       " '4.6',\n",
       " '4.5',\n",
       " '4.6',\n",
       " '4.8',\n",
       " '2.5',\n",
       " '4.5',\n",
       " '1.0',\n",
       " '4.8',\n",
       " '4.7',\n",
       " '4.6',\n",
       " '4.7',\n",
       " '4.4',\n",
       " '2.2',\n",
       " '4.3',\n",
       " '3.6']"
      ]
     },
     "execution_count": 17,
     "metadata": {},
     "output_type": "execute_result"
    }
   ],
   "source": [
    "rating=[results[i].find('span',class_='sds-rating__count').text for i in range(len(results))] #rating in list comprehension\n",
    "rating"
   ]
  },
  {
   "cell_type": "code",
   "execution_count": 18,
   "id": "c5c236ee",
   "metadata": {},
   "outputs": [
    {
     "data": {
      "text/plain": [
       "['252 reviews',\n",
       " '1,171 reviews',\n",
       " '9 reviews',\n",
       " '266 reviews',\n",
       " '34 reviews',\n",
       " '110 reviews',\n",
       " '50 reviews',\n",
       " '110 reviews',\n",
       " '4,876 reviews',\n",
       " '33 reviews',\n",
       " '2,717 reviews',\n",
       " '1 review',\n",
       " '725 reviews',\n",
       " '333 reviews',\n",
       " '558 reviews',\n",
       " '625 reviews',\n",
       " '2,665 reviews',\n",
       " '15 reviews',\n",
       " '602 reviews',\n",
       " '17 reviews']"
      ]
     },
     "execution_count": 18,
     "metadata": {},
     "output_type": "execute_result"
    }
   ],
   "source": [
    "rating_reviews=[results[i].find('span',class_='sds-rating__link sds-button-link').text.replace('(','').replace(')','').strip() for i in range(len(results))] \n",
    "rating_reviews"
   ]
  },
  {
   "cell_type": "code",
   "execution_count": 19,
   "id": "44b531a9",
   "metadata": {},
   "outputs": [
    {
     "data": {
      "text/plain": [
       "['$26,995',\n",
       " '$38,495',\n",
       " '$40,999',\n",
       " '$136,000',\n",
       " '$48,900',\n",
       " '$48,990',\n",
       " '$37,500',\n",
       " '$50,075',\n",
       " '$34,891',\n",
       " '$29,995',\n",
       " '$62,987',\n",
       " '$31,398',\n",
       " '$64,995',\n",
       " '$49,300',\n",
       " '$52,881',\n",
       " '$32,790',\n",
       " '$44,921',\n",
       " '$26,450',\n",
       " '$22,688',\n",
       " '$64,900']"
      ]
     },
     "execution_count": 19,
     "metadata": {},
     "output_type": "execute_result"
    }
   ],
   "source": [
    "price=[results[i].find('span',class_='primary-price').text for i in range(len(results))] # \n",
    "price"
   ]
  },
  {
   "cell_type": "code",
   "execution_count": 20,
   "id": "87c87a2b",
   "metadata": {},
   "outputs": [
    {
     "data": {
      "text/plain": [
       "['City Auto Sales, LLC',\n",
       " 'Arlington Acura in Palatine',\n",
       " 'Safford Mazda of Fredericksburg',\n",
       " 'Mercedes-Benz of Fredericksburg',\n",
       " 'Mercedes-Benz of Portsmouth',\n",
       " 'Mercedes-Benz of Hilton Head',\n",
       " 'Plaza Motor Company',\n",
       " 'Mercedes-Benz of Hilton Head',\n",
       " 'Fletcher Jones Motorcars',\n",
       " 'Baron Auto Emporium',\n",
       " 'Mercedes-Benz Of Tacoma',\n",
       " 'Route 17 Mitsubishi',\n",
       " 'Highland Park Ford Lincoln',\n",
       " 'Mercedes-Benz of Chantilly',\n",
       " 'Euro Motorcars Inc',\n",
       " 'Exclusive Motor Cars',\n",
       " '21 Century Auto Group',\n",
       " '26 Motors Long Island',\n",
       " 'St Charles Chrysler Dodge Jeep RAM',\n",
       " 'Plaza Motors']"
      ]
     },
     "execution_count": 20,
     "metadata": {},
     "output_type": "execute_result"
    }
   ],
   "source": [
    "delear_name=[results[i].find('div',class_='dealer-name').text.replace('\\n','').strip() for i in range(len(results))]\n",
    "delear_name"
   ]
  },
  {
   "cell_type": "code",
   "execution_count": 21,
   "id": "a721bc53",
   "metadata": {},
   "outputs": [
    {
     "data": {
      "text/html": [
       "<div>\n",
       "<style scoped>\n",
       "    .dataframe tbody tr th:only-of-type {\n",
       "        vertical-align: middle;\n",
       "    }\n",
       "\n",
       "    .dataframe tbody tr th {\n",
       "        vertical-align: top;\n",
       "    }\n",
       "\n",
       "    .dataframe thead th {\n",
       "        text-align: right;\n",
       "    }\n",
       "</style>\n",
       "<table border=\"1\" class=\"dataframe\">\n",
       "  <thead>\n",
       "    <tr style=\"text-align: right;\">\n",
       "      <th></th>\n",
       "      <th>Name</th>\n",
       "      <th>Milage</th>\n",
       "      <th>Price</th>\n",
       "      <th>Rating</th>\n",
       "      <th>Rating_count</th>\n",
       "      <th>Dealer_name</th>\n",
       "    </tr>\n",
       "  </thead>\n",
       "  <tbody>\n",
       "    <tr>\n",
       "      <th>0</th>\n",
       "      <td>2015 Mercedes-Benz C-Class C 300 4MATIC</td>\n",
       "      <td>52,408 mi.</td>\n",
       "      <td>$26,995</td>\n",
       "      <td>4.5</td>\n",
       "      <td>252 reviews</td>\n",
       "      <td>City Auto Sales, LLC</td>\n",
       "    </tr>\n",
       "    <tr>\n",
       "      <th>1</th>\n",
       "      <td>2019 Mercedes-Benz C-Class C 300 4MATIC</td>\n",
       "      <td>11,747 mi.</td>\n",
       "      <td>$38,495</td>\n",
       "      <td>4.6</td>\n",
       "      <td>1,171 reviews</td>\n",
       "      <td>Arlington Acura in Palatine</td>\n",
       "    </tr>\n",
       "    <tr>\n",
       "      <th>2</th>\n",
       "      <td>2019 Mercedes-Benz E-Class E 300</td>\n",
       "      <td>71,106 mi.</td>\n",
       "      <td>$40,999</td>\n",
       "      <td>4.5</td>\n",
       "      <td>9 reviews</td>\n",
       "      <td>Safford Mazda of Fredericksburg</td>\n",
       "    </tr>\n",
       "    <tr>\n",
       "      <th>3</th>\n",
       "      <td>2018 Mercedes-Benz AMG GT C</td>\n",
       "      <td>14,973 mi.</td>\n",
       "      <td>$136,000</td>\n",
       "      <td>4.6</td>\n",
       "      <td>266 reviews</td>\n",
       "      <td>Mercedes-Benz of Fredericksburg</td>\n",
       "    </tr>\n",
       "    <tr>\n",
       "      <th>4</th>\n",
       "      <td>2019 Mercedes-Benz GLC 350e Base 4MATIC</td>\n",
       "      <td>12,915 mi.</td>\n",
       "      <td>$48,900</td>\n",
       "      <td>5.0</td>\n",
       "      <td>34 reviews</td>\n",
       "      <td>Mercedes-Benz of Portsmouth</td>\n",
       "    </tr>\n",
       "    <tr>\n",
       "      <th>5</th>\n",
       "      <td>2020 Mercedes-Benz GLB 250 Base 4MATIC</td>\n",
       "      <td>15,560 mi.</td>\n",
       "      <td>$48,990</td>\n",
       "      <td>4.6</td>\n",
       "      <td>110 reviews</td>\n",
       "      <td>Mercedes-Benz of Hilton Head</td>\n",
       "    </tr>\n",
       "    <tr>\n",
       "      <th>6</th>\n",
       "      <td>2018 Mercedes-Benz C-Class C 300 4MATIC</td>\n",
       "      <td>14,799 mi.</td>\n",
       "      <td>$37,500</td>\n",
       "      <td>4.5</td>\n",
       "      <td>50 reviews</td>\n",
       "      <td>Plaza Motor Company</td>\n",
       "    </tr>\n",
       "    <tr>\n",
       "      <th>7</th>\n",
       "      <td>2020 Mercedes-Benz GLB 250 Base 4MATIC</td>\n",
       "      <td>10,838 mi.</td>\n",
       "      <td>$50,075</td>\n",
       "      <td>4.6</td>\n",
       "      <td>110 reviews</td>\n",
       "      <td>Mercedes-Benz of Hilton Head</td>\n",
       "    </tr>\n",
       "    <tr>\n",
       "      <th>8</th>\n",
       "      <td>2017 Mercedes-Benz E-Class E 300 Sport</td>\n",
       "      <td>40,175 mi.</td>\n",
       "      <td>$34,891</td>\n",
       "      <td>4.8</td>\n",
       "      <td>4,876 reviews</td>\n",
       "      <td>Fletcher Jones Motorcars</td>\n",
       "    </tr>\n",
       "    <tr>\n",
       "      <th>9</th>\n",
       "      <td>2017 Mercedes-Benz GLE 350 Base 4MATIC</td>\n",
       "      <td>66,942 mi.</td>\n",
       "      <td>$29,995</td>\n",
       "      <td>2.5</td>\n",
       "      <td>33 reviews</td>\n",
       "      <td>Baron Auto Emporium</td>\n",
       "    </tr>\n",
       "    <tr>\n",
       "      <th>10</th>\n",
       "      <td>2020 Mercedes-Benz GLE 350 Base 4MATIC</td>\n",
       "      <td>22,464 mi.</td>\n",
       "      <td>$62,987</td>\n",
       "      <td>4.5</td>\n",
       "      <td>2,717 reviews</td>\n",
       "      <td>Mercedes-Benz Of Tacoma</td>\n",
       "    </tr>\n",
       "    <tr>\n",
       "      <th>11</th>\n",
       "      <td>2017 Mercedes-Benz GLE 350 Base 4MATIC</td>\n",
       "      <td>55,739 mi.</td>\n",
       "      <td>$31,398</td>\n",
       "      <td>1.0</td>\n",
       "      <td>1 review</td>\n",
       "      <td>Route 17 Mitsubishi</td>\n",
       "    </tr>\n",
       "    <tr>\n",
       "      <th>12</th>\n",
       "      <td>2020 Mercedes-Benz GLE 350 Base 4MATIC</td>\n",
       "      <td>16,875 mi.</td>\n",
       "      <td>$64,995</td>\n",
       "      <td>4.8</td>\n",
       "      <td>725 reviews</td>\n",
       "      <td>Highland Park Ford Lincoln</td>\n",
       "    </tr>\n",
       "    <tr>\n",
       "      <th>13</th>\n",
       "      <td>2019 Mercedes-Benz E-Class E 300</td>\n",
       "      <td>22,215 mi.</td>\n",
       "      <td>$49,300</td>\n",
       "      <td>4.7</td>\n",
       "      <td>333 reviews</td>\n",
       "      <td>Mercedes-Benz of Chantilly</td>\n",
       "    </tr>\n",
       "    <tr>\n",
       "      <th>14</th>\n",
       "      <td>2019 Mercedes-Benz E-Class E 300</td>\n",
       "      <td>8,361 mi.</td>\n",
       "      <td>$52,881</td>\n",
       "      <td>4.6</td>\n",
       "      <td>558 reviews</td>\n",
       "      <td>Euro Motorcars Inc</td>\n",
       "    </tr>\n",
       "    <tr>\n",
       "      <th>15</th>\n",
       "      <td>2018 Mercedes-Benz C-Class C 300 4MATIC</td>\n",
       "      <td>14,279 mi.</td>\n",
       "      <td>$32,790</td>\n",
       "      <td>4.7</td>\n",
       "      <td>625 reviews</td>\n",
       "      <td>Exclusive Motor Cars</td>\n",
       "    </tr>\n",
       "    <tr>\n",
       "      <th>16</th>\n",
       "      <td>2018 Mercedes-Benz AMG C 43 Base 4MATIC</td>\n",
       "      <td>23,193 mi.</td>\n",
       "      <td>$44,921</td>\n",
       "      <td>4.4</td>\n",
       "      <td>2,665 reviews</td>\n",
       "      <td>21 Century Auto Group</td>\n",
       "    </tr>\n",
       "    <tr>\n",
       "      <th>17</th>\n",
       "      <td>2018 Mercedes-Benz E-Class E 300 4MATIC</td>\n",
       "      <td>48,237 mi.</td>\n",
       "      <td>$26,450</td>\n",
       "      <td>2.2</td>\n",
       "      <td>15 reviews</td>\n",
       "      <td>26 Motors Long Island</td>\n",
       "    </tr>\n",
       "    <tr>\n",
       "      <th>18</th>\n",
       "      <td>2015 Mercedes-Benz E-Class E 350 4MATIC</td>\n",
       "      <td>90,332 mi.</td>\n",
       "      <td>$22,688</td>\n",
       "      <td>4.3</td>\n",
       "      <td>602 reviews</td>\n",
       "      <td>St Charles Chrysler Dodge Jeep RAM</td>\n",
       "    </tr>\n",
       "    <tr>\n",
       "      <th>19</th>\n",
       "      <td>2017 Mercedes-Benz AMG C 63 S</td>\n",
       "      <td>10,020 mi.</td>\n",
       "      <td>$64,900</td>\n",
       "      <td>3.6</td>\n",
       "      <td>17 reviews</td>\n",
       "      <td>Plaza Motors</td>\n",
       "    </tr>\n",
       "  </tbody>\n",
       "</table>\n",
       "</div>"
      ],
      "text/plain": [
       "                                       Name      Milage     Price Rating  \\\n",
       "0   2015 Mercedes-Benz C-Class C 300 4MATIC  52,408 mi.   $26,995    4.5   \n",
       "1   2019 Mercedes-Benz C-Class C 300 4MATIC  11,747 mi.   $38,495    4.6   \n",
       "2          2019 Mercedes-Benz E-Class E 300  71,106 mi.   $40,999    4.5   \n",
       "3               2018 Mercedes-Benz AMG GT C  14,973 mi.  $136,000    4.6   \n",
       "4   2019 Mercedes-Benz GLC 350e Base 4MATIC  12,915 mi.   $48,900    5.0   \n",
       "5    2020 Mercedes-Benz GLB 250 Base 4MATIC  15,560 mi.   $48,990    4.6   \n",
       "6   2018 Mercedes-Benz C-Class C 300 4MATIC  14,799 mi.   $37,500    4.5   \n",
       "7    2020 Mercedes-Benz GLB 250 Base 4MATIC  10,838 mi.   $50,075    4.6   \n",
       "8    2017 Mercedes-Benz E-Class E 300 Sport  40,175 mi.   $34,891    4.8   \n",
       "9    2017 Mercedes-Benz GLE 350 Base 4MATIC  66,942 mi.   $29,995    2.5   \n",
       "10   2020 Mercedes-Benz GLE 350 Base 4MATIC  22,464 mi.   $62,987    4.5   \n",
       "11   2017 Mercedes-Benz GLE 350 Base 4MATIC  55,739 mi.   $31,398    1.0   \n",
       "12   2020 Mercedes-Benz GLE 350 Base 4MATIC  16,875 mi.   $64,995    4.8   \n",
       "13         2019 Mercedes-Benz E-Class E 300  22,215 mi.   $49,300    4.7   \n",
       "14         2019 Mercedes-Benz E-Class E 300   8,361 mi.   $52,881    4.6   \n",
       "15  2018 Mercedes-Benz C-Class C 300 4MATIC  14,279 mi.   $32,790    4.7   \n",
       "16  2018 Mercedes-Benz AMG C 43 Base 4MATIC  23,193 mi.   $44,921    4.4   \n",
       "17  2018 Mercedes-Benz E-Class E 300 4MATIC  48,237 mi.   $26,450    2.2   \n",
       "18  2015 Mercedes-Benz E-Class E 350 4MATIC  90,332 mi.   $22,688    4.3   \n",
       "19            2017 Mercedes-Benz AMG C 63 S  10,020 mi.   $64,900    3.6   \n",
       "\n",
       "     Rating_count                         Dealer_name  \n",
       "0     252 reviews                City Auto Sales, LLC  \n",
       "1   1,171 reviews         Arlington Acura in Palatine  \n",
       "2       9 reviews     Safford Mazda of Fredericksburg  \n",
       "3     266 reviews     Mercedes-Benz of Fredericksburg  \n",
       "4      34 reviews         Mercedes-Benz of Portsmouth  \n",
       "5     110 reviews        Mercedes-Benz of Hilton Head  \n",
       "6      50 reviews                 Plaza Motor Company  \n",
       "7     110 reviews        Mercedes-Benz of Hilton Head  \n",
       "8   4,876 reviews            Fletcher Jones Motorcars  \n",
       "9      33 reviews                 Baron Auto Emporium  \n",
       "10  2,717 reviews             Mercedes-Benz Of Tacoma  \n",
       "11       1 review                 Route 17 Mitsubishi  \n",
       "12    725 reviews          Highland Park Ford Lincoln  \n",
       "13    333 reviews          Mercedes-Benz of Chantilly  \n",
       "14    558 reviews                  Euro Motorcars Inc  \n",
       "15    625 reviews                Exclusive Motor Cars  \n",
       "16  2,665 reviews               21 Century Auto Group  \n",
       "17     15 reviews               26 Motors Long Island  \n",
       "18    602 reviews  St Charles Chrysler Dodge Jeep RAM  \n",
       "19     17 reviews                        Plaza Motors  "
      ]
     },
     "execution_count": 21,
     "metadata": {},
     "output_type": "execute_result"
    }
   ],
   "source": [
    "# changing into DataFrame\n",
    "pd.DataFrame({'Name':name,'Milage':milage,'Price':price,'Rating':rating,'Rating_count':rating_reviews,'Dealer_name':delear_name})"
   ]
  },
  {
   "cell_type": "markdown",
   "id": "b5f2271e",
   "metadata": {},
   "source": [
    "# Pagination"
   ]
  },
  {
   "cell_type": "code",
   "execution_count": 22,
   "id": "8d1126fb",
   "metadata": {},
   "outputs": [],
   "source": [
    "url='https://www.cars.com/shopping/results/?page=2&page_size=20&list_price_max=&makes[]=mercedes_benz&maximum_distance=20&models[]=&stock_type=all&zip='"
   ]
  },
  {
   "cell_type": "code",
   "execution_count": 23,
   "id": "85c8f6b2",
   "metadata": {},
   "outputs": [
    {
     "name": "stdout",
     "output_type": "stream",
     "text": [
      "20\n",
      "20\n",
      "20\n",
      "20\n",
      "20\n",
      "20\n",
      "20\n",
      "20\n",
      "19\n",
      "20\n"
     ]
    }
   ],
   "source": [
    "name=[]\n",
    "milage=[]\n",
    "rating=[]\n",
    "rating_reviews=[]\n",
    "price=[]\n",
    "delear_name=[]\n",
    "# extracting from first 10 web pages\n",
    "for i in range(1,11):\n",
    "    \n",
    "    url='https://www.cars.com/shopping/results/?page='+str(i)+'&page_size=20&list_price_max=&makes[]=mercedes_benz&maximum_distance=20&models[]=&stock_type=all&zip='\n",
    "    response=requests.get(url)\n",
    "    soup=BeautifulSoup(response.content,parser='html.parser')\n",
    "    results=soup.find_all('div',class_='vehicle-details')\n",
    "    print(len(results))\n",
    "    for result in results:\n",
    "        name.append(result.find('h2').text)\n",
    "        milage.append(result.find('div',class_='mileage').text)\n",
    "        rating.append(result.find('span',class_='sds-rating__count').text)\n",
    "        rating_reviews.append(result.find('span',class_='sds-rating__link sds-button-link').text.replace('(','').replace(')','').strip())\n",
    "        price.append(result.find('span',class_='primary-price').text)\n",
    "        delear_name.append(result.find('div',class_='dealer-name').text.replace('\\n','').strip())\n",
    "    \n",
    "    "
   ]
  },
  {
   "cell_type": "code",
   "execution_count": 24,
   "id": "50e556a9",
   "metadata": {},
   "outputs": [
    {
     "data": {
      "text/html": [
       "<div>\n",
       "<style scoped>\n",
       "    .dataframe tbody tr th:only-of-type {\n",
       "        vertical-align: middle;\n",
       "    }\n",
       "\n",
       "    .dataframe tbody tr th {\n",
       "        vertical-align: top;\n",
       "    }\n",
       "\n",
       "    .dataframe thead th {\n",
       "        text-align: right;\n",
       "    }\n",
       "</style>\n",
       "<table border=\"1\" class=\"dataframe\">\n",
       "  <thead>\n",
       "    <tr style=\"text-align: right;\">\n",
       "      <th></th>\n",
       "      <th>Name</th>\n",
       "      <th>Milage</th>\n",
       "      <th>Price</th>\n",
       "      <th>Rating</th>\n",
       "      <th>Rating_count</th>\n",
       "      <th>Dealer_name</th>\n",
       "    </tr>\n",
       "  </thead>\n",
       "  <tbody>\n",
       "    <tr>\n",
       "      <th>0</th>\n",
       "      <td>2015 Mercedes-Benz C-Class C 300 4MATIC</td>\n",
       "      <td>52,408 mi.</td>\n",
       "      <td>$26,995</td>\n",
       "      <td>4.5</td>\n",
       "      <td>252 reviews</td>\n",
       "      <td>City Auto Sales, LLC</td>\n",
       "    </tr>\n",
       "    <tr>\n",
       "      <th>1</th>\n",
       "      <td>2019 Mercedes-Benz C-Class C 300 4MATIC</td>\n",
       "      <td>11,747 mi.</td>\n",
       "      <td>$38,495</td>\n",
       "      <td>4.6</td>\n",
       "      <td>1,171 reviews</td>\n",
       "      <td>Arlington Acura in Palatine</td>\n",
       "    </tr>\n",
       "    <tr>\n",
       "      <th>2</th>\n",
       "      <td>2019 Mercedes-Benz E-Class E 300</td>\n",
       "      <td>71,106 mi.</td>\n",
       "      <td>$40,999</td>\n",
       "      <td>4.5</td>\n",
       "      <td>9 reviews</td>\n",
       "      <td>Safford Mazda of Fredericksburg</td>\n",
       "    </tr>\n",
       "    <tr>\n",
       "      <th>3</th>\n",
       "      <td>2018 Mercedes-Benz AMG GT C</td>\n",
       "      <td>14,973 mi.</td>\n",
       "      <td>$136,000</td>\n",
       "      <td>4.6</td>\n",
       "      <td>266 reviews</td>\n",
       "      <td>Mercedes-Benz of Fredericksburg</td>\n",
       "    </tr>\n",
       "    <tr>\n",
       "      <th>4</th>\n",
       "      <td>2019 Mercedes-Benz GLC 350e Base 4MATIC</td>\n",
       "      <td>12,915 mi.</td>\n",
       "      <td>$48,900</td>\n",
       "      <td>5.0</td>\n",
       "      <td>34 reviews</td>\n",
       "      <td>Mercedes-Benz of Portsmouth</td>\n",
       "    </tr>\n",
       "    <tr>\n",
       "      <th>...</th>\n",
       "      <td>...</td>\n",
       "      <td>...</td>\n",
       "      <td>...</td>\n",
       "      <td>...</td>\n",
       "      <td>...</td>\n",
       "      <td>...</td>\n",
       "    </tr>\n",
       "    <tr>\n",
       "      <th>194</th>\n",
       "      <td>2010 Mercedes-Benz E-Class E 350</td>\n",
       "      <td>37,666 mi.</td>\n",
       "      <td>$19,999</td>\n",
       "      <td>3.5</td>\n",
       "      <td>21 reviews</td>\n",
       "      <td>Atlanta Motorsports Sales</td>\n",
       "    </tr>\n",
       "    <tr>\n",
       "      <th>195</th>\n",
       "      <td>2016 Mercedes-Benz E-Class E 350</td>\n",
       "      <td>47,566 mi.</td>\n",
       "      <td>$28,995</td>\n",
       "      <td>4.2</td>\n",
       "      <td>117 reviews</td>\n",
       "      <td>Inline Auto Sales</td>\n",
       "    </tr>\n",
       "    <tr>\n",
       "      <th>196</th>\n",
       "      <td>2014 Mercedes-Benz E-Class E 350</td>\n",
       "      <td>83,209 mi.</td>\n",
       "      <td>$20,000</td>\n",
       "      <td>3.8</td>\n",
       "      <td>36 reviews</td>\n",
       "      <td>Highline Automotive Inc</td>\n",
       "    </tr>\n",
       "    <tr>\n",
       "      <th>197</th>\n",
       "      <td>2007 Mercedes-Benz G-Class G 55 AMG</td>\n",
       "      <td>37,372 mi.</td>\n",
       "      <td>$60,000</td>\n",
       "      <td>4.9</td>\n",
       "      <td>6,686 reviews</td>\n",
       "      <td>DCH Academy Honda</td>\n",
       "    </tr>\n",
       "    <tr>\n",
       "      <th>198</th>\n",
       "      <td>2020 Mercedes-Benz AMG G 63 Base</td>\n",
       "      <td>4,186 mi.</td>\n",
       "      <td>$242,999</td>\n",
       "      <td>4.7</td>\n",
       "      <td>1,035 reviews</td>\n",
       "      <td>Mercedes Benz of Hoffman Estates</td>\n",
       "    </tr>\n",
       "  </tbody>\n",
       "</table>\n",
       "<p>199 rows × 6 columns</p>\n",
       "</div>"
      ],
      "text/plain": [
       "                                        Name      Milage     Price Rating  \\\n",
       "0    2015 Mercedes-Benz C-Class C 300 4MATIC  52,408 mi.   $26,995    4.5   \n",
       "1    2019 Mercedes-Benz C-Class C 300 4MATIC  11,747 mi.   $38,495    4.6   \n",
       "2           2019 Mercedes-Benz E-Class E 300  71,106 mi.   $40,999    4.5   \n",
       "3                2018 Mercedes-Benz AMG GT C  14,973 mi.  $136,000    4.6   \n",
       "4    2019 Mercedes-Benz GLC 350e Base 4MATIC  12,915 mi.   $48,900    5.0   \n",
       "..                                       ...         ...       ...    ...   \n",
       "194         2010 Mercedes-Benz E-Class E 350  37,666 mi.   $19,999    3.5   \n",
       "195         2016 Mercedes-Benz E-Class E 350  47,566 mi.   $28,995    4.2   \n",
       "196         2014 Mercedes-Benz E-Class E 350  83,209 mi.   $20,000    3.8   \n",
       "197      2007 Mercedes-Benz G-Class G 55 AMG  37,372 mi.   $60,000    4.9   \n",
       "198         2020 Mercedes-Benz AMG G 63 Base   4,186 mi.  $242,999    4.7   \n",
       "\n",
       "      Rating_count                       Dealer_name  \n",
       "0      252 reviews              City Auto Sales, LLC  \n",
       "1    1,171 reviews       Arlington Acura in Palatine  \n",
       "2        9 reviews   Safford Mazda of Fredericksburg  \n",
       "3      266 reviews   Mercedes-Benz of Fredericksburg  \n",
       "4       34 reviews       Mercedes-Benz of Portsmouth  \n",
       "..             ...                               ...  \n",
       "194     21 reviews         Atlanta Motorsports Sales  \n",
       "195    117 reviews                 Inline Auto Sales  \n",
       "196     36 reviews           Highline Automotive Inc  \n",
       "197  6,686 reviews                 DCH Academy Honda  \n",
       "198  1,035 reviews  Mercedes Benz of Hoffman Estates  \n",
       "\n",
       "[199 rows x 6 columns]"
      ]
     },
     "execution_count": 24,
     "metadata": {},
     "output_type": "execute_result"
    }
   ],
   "source": [
    "# changing to dataframe\n",
    "pd.DataFrame({'Name':name,'Milage':milage,'Price':price,'Rating':rating,'Rating_count':rating_reviews,'Dealer_name':delear_name})"
   ]
  },
  {
   "cell_type": "code",
   "execution_count": null,
   "id": "499e8593",
   "metadata": {},
   "outputs": [],
   "source": []
  }
 ],
 "metadata": {
  "kernelspec": {
   "display_name": "Python 3",
   "language": "python",
   "name": "python3"
  },
  "language_info": {
   "codemirror_mode": {
    "name": "ipython",
    "version": 3
   },
   "file_extension": ".py",
   "mimetype": "text/x-python",
   "name": "python",
   "nbconvert_exporter": "python",
   "pygments_lexer": "ipython3",
   "version": "3.8.8"
  }
 },
 "nbformat": 4,
 "nbformat_minor": 5
}
